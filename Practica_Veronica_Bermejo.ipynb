{
 "cells": [
  {
   "cell_type": "markdown",
   "id": "632e4d05-bb03-4ce8-a9ec-941f43824736",
   "metadata": {},
   "source": [
    "En esta práctica vamos a predecir el precio del airbnb, utilizando los datos disponibles. (Problema de regresión)."
   ]
  },
  {
   "cell_type": "code",
   "execution_count": 1,
   "id": "2ecabeca-9b7f-4e2a-a120-8b0031c4dfc7",
   "metadata": {},
   "outputs": [],
   "source": [
    "#1)CARGO LAS LIBRERIAS NECESARIAS:\n",
    "\n",
    "import numpy as np\n",
    "import pandas as pd\n",
    "\n",
    "import matplotlib.pyplot as plt\n",
    "from matplotlib.colors import ListedColormap\n",
    "%matplotlib inline\n",
    "\n",
    "cm = plt.cm.RdBu\n",
    "cm_bright = ListedColormap(['#FF0000', '#0000FF'])\n",
    "\n",
    "import warnings\n",
    "warnings.filterwarnings('ignore')"
   ]
  },
  {
   "cell_type": "code",
   "execution_count": null,
   "id": "97604fef-fd0f-4590-82c8-33a7a57045d6",
   "metadata": {},
   "outputs": [],
   "source": []
  },
  {
   "cell_type": "markdown",
   "id": "0588552e-cedc-4e61-a81b-aea43af22039",
   "metadata": {},
   "source": [
    "Para no contaminar mis datos antes de hacer el análisis y preprocesamiento de los mismos, los voy a dividir en 2 dataset, uno de training y otro de test."
   ]
  },
  {
   "cell_type": "code",
   "execution_count": 2,
   "id": "95048693-0353-4fe8-bac0-b20359a00bb5",
   "metadata": {},
   "outputs": [
    {
     "name": "stdout",
     "output_type": "stream",
     "text": [
      "Dimensiones del dataset de training: (11824, 89)\n",
      "Dimensiones del dataset de test: (2956, 89)\n"
     ]
    }
   ],
   "source": [
    "#2)CARGO LOS DATOS Y LOS DIVIDO EN TRAIN/TEST:\n",
    "\n",
    "from sklearn.model_selection import train_test_split\n",
    "\n",
    "full_df = pd.read_csv('C:/Users/vero/Desktop/BOOTCAMP9/machine-learning/project/airbnb-listings (3).csv', sep=';', decimal='.')\n",
    "train, test = train_test_split(full_df, test_size=0.2, shuffle=True, random_state=0)\n",
    "\n",
    "print(f'Dimensiones del dataset de training: {train.shape}')\n",
    "print(f'Dimensiones del dataset de test: {test.shape}')\n",
    "\n",
    "# Guardamos\n",
    "train.to_csv('C:/Users/vero/Desktop/BOOTCAMP9/machine-learning/project/train.csv', sep=';', decimal='.', index=False)\n",
    "test.to_csv('C:/Users/vero/Desktop/BOOTCAMP9/machine-learning/project/test.csv', sep=';', decimal='.', index=False)\n",
    "\n",
    "# A partir de este momento cargamos el dataset de train y trabajamos ÚNICAMENTE con él. \n",
    "\n",
    "df = pd.read_csv('C:/Users/vero/Desktop/BOOTCAMP9/machine-learning/project/train.csv', sep=';', decimal='.')\n"
   ]
  },
  {
   "cell_type": "markdown",
   "id": "7af5695e-f618-499a-8d36-f29f50213d5a",
   "metadata": {},
   "source": [
    "3.ANÁLISIS EXPLORATORIO DE EL DATASET DE TRAIN:"
   ]
  },
  {
   "cell_type": "code",
   "execution_count": 3,
   "id": "c7d28b7b-eb3e-40d1-935c-3dfe9cf1af27",
   "metadata": {},
   "outputs": [
    {
     "data": {
      "text/html": [
       "<div>\n",
       "<style scoped>\n",
       "    .dataframe tbody tr th:only-of-type {\n",
       "        vertical-align: middle;\n",
       "    }\n",
       "\n",
       "    .dataframe tbody tr th {\n",
       "        vertical-align: top;\n",
       "    }\n",
       "\n",
       "    .dataframe thead th {\n",
       "        text-align: right;\n",
       "    }\n",
       "</style>\n",
       "<table border=\"1\" class=\"dataframe\">\n",
       "  <thead>\n",
       "    <tr style=\"text-align: right;\">\n",
       "      <th></th>\n",
       "      <th>0</th>\n",
       "      <th>1</th>\n",
       "      <th>2</th>\n",
       "      <th>3</th>\n",
       "      <th>4</th>\n",
       "    </tr>\n",
       "  </thead>\n",
       "  <tbody>\n",
       "    <tr>\n",
       "      <th>ID</th>\n",
       "      <td>11584780</td>\n",
       "      <td>12668401</td>\n",
       "      <td>3093756</td>\n",
       "      <td>14065306</td>\n",
       "      <td>17309526</td>\n",
       "    </tr>\n",
       "    <tr>\n",
       "      <th>Listing Url</th>\n",
       "      <td>https://www.airbnb.com/rooms/11584780</td>\n",
       "      <td>https://www.airbnb.com/rooms/12668401</td>\n",
       "      <td>https://www.airbnb.com/rooms/3093756</td>\n",
       "      <td>https://www.airbnb.com/rooms/14065306</td>\n",
       "      <td>https://www.airbnb.com/rooms/17309526</td>\n",
       "    </tr>\n",
       "    <tr>\n",
       "      <th>Scrape ID</th>\n",
       "      <td>20170407214119</td>\n",
       "      <td>20170407214050</td>\n",
       "      <td>20170407214119</td>\n",
       "      <td>20170407214119</td>\n",
       "      <td>20170407214050</td>\n",
       "    </tr>\n",
       "    <tr>\n",
       "      <th>Last Scraped</th>\n",
       "      <td>2017-04-08</td>\n",
       "      <td>2017-04-08</td>\n",
       "      <td>2017-04-08</td>\n",
       "      <td>2017-04-08</td>\n",
       "      <td>2017-04-08</td>\n",
       "    </tr>\n",
       "    <tr>\n",
       "      <th>Name</th>\n",
       "      <td>STUDIO BRASIL DECO</td>\n",
       "      <td>Ramblas Studio C</td>\n",
       "      <td>Apartamento - Zona centro</td>\n",
       "      <td>PE6 Habitación Privada en Madrid 2 Personas +WIFI</td>\n",
       "      <td>Double room in Gracia/Whole Apartment</td>\n",
       "    </tr>\n",
       "    <tr>\n",
       "      <th>...</th>\n",
       "      <td>...</td>\n",
       "      <td>...</td>\n",
       "      <td>...</td>\n",
       "      <td>...</td>\n",
       "      <td>...</td>\n",
       "    </tr>\n",
       "    <tr>\n",
       "      <th>Cancellation Policy</th>\n",
       "      <td>moderate</td>\n",
       "      <td>strict</td>\n",
       "      <td>flexible</td>\n",
       "      <td>strict</td>\n",
       "      <td>flexible</td>\n",
       "    </tr>\n",
       "    <tr>\n",
       "      <th>Calculated host listings count</th>\n",
       "      <td>29.0</td>\n",
       "      <td>92.0</td>\n",
       "      <td>1.0</td>\n",
       "      <td>6.0</td>\n",
       "      <td>1.0</td>\n",
       "    </tr>\n",
       "    <tr>\n",
       "      <th>Reviews per Month</th>\n",
       "      <td>0.18</td>\n",
       "      <td>0.16</td>\n",
       "      <td>NaN</td>\n",
       "      <td>2.21</td>\n",
       "      <td>NaN</td>\n",
       "    </tr>\n",
       "    <tr>\n",
       "      <th>Geolocation</th>\n",
       "      <td>40.45601889458499,-3.693480154123377</td>\n",
       "      <td>41.385585372615715,2.1719518873888717</td>\n",
       "      <td>40.405648383247076,-3.7016207877920073</td>\n",
       "      <td>40.411074047208,-3.7383747831501863</td>\n",
       "      <td>41.40132396962952,2.163712769014997</td>\n",
       "    </tr>\n",
       "    <tr>\n",
       "      <th>Features</th>\n",
       "      <td>Host Has Profile Pic,Is Location Exact,Require...</td>\n",
       "      <td>Host Has Profile Pic,Host Identity Verified,Is...</td>\n",
       "      <td>Host Has Profile Pic,Is Location Exact,Require...</td>\n",
       "      <td>Host Has Profile Pic,Is Location Exact,Require...</td>\n",
       "      <td>Host Has Profile Pic,Requires License</td>\n",
       "    </tr>\n",
       "  </tbody>\n",
       "</table>\n",
       "<p>89 rows × 5 columns</p>\n",
       "</div>"
      ],
      "text/plain": [
       "                                                                                0  \\\n",
       "ID                                                                       11584780   \n",
       "Listing Url                                 https://www.airbnb.com/rooms/11584780   \n",
       "Scrape ID                                                          20170407214119   \n",
       "Last Scraped                                                           2017-04-08   \n",
       "Name                                                           STUDIO BRASIL DECO   \n",
       "...                                                                           ...   \n",
       "Cancellation Policy                                                      moderate   \n",
       "Calculated host listings count                                               29.0   \n",
       "Reviews per Month                                                            0.18   \n",
       "Geolocation                                  40.45601889458499,-3.693480154123377   \n",
       "Features                        Host Has Profile Pic,Is Location Exact,Require...   \n",
       "\n",
       "                                                                                1  \\\n",
       "ID                                                                       12668401   \n",
       "Listing Url                                 https://www.airbnb.com/rooms/12668401   \n",
       "Scrape ID                                                          20170407214050   \n",
       "Last Scraped                                                           2017-04-08   \n",
       "Name                                                             Ramblas Studio C   \n",
       "...                                                                           ...   \n",
       "Cancellation Policy                                                        strict   \n",
       "Calculated host listings count                                               92.0   \n",
       "Reviews per Month                                                            0.16   \n",
       "Geolocation                                 41.385585372615715,2.1719518873888717   \n",
       "Features                        Host Has Profile Pic,Host Identity Verified,Is...   \n",
       "\n",
       "                                                                                2  \\\n",
       "ID                                                                        3093756   \n",
       "Listing Url                                  https://www.airbnb.com/rooms/3093756   \n",
       "Scrape ID                                                          20170407214119   \n",
       "Last Scraped                                                           2017-04-08   \n",
       "Name                                                    Apartamento - Zona centro   \n",
       "...                                                                           ...   \n",
       "Cancellation Policy                                                      flexible   \n",
       "Calculated host listings count                                                1.0   \n",
       "Reviews per Month                                                             NaN   \n",
       "Geolocation                                40.405648383247076,-3.7016207877920073   \n",
       "Features                        Host Has Profile Pic,Is Location Exact,Require...   \n",
       "\n",
       "                                                                                3  \\\n",
       "ID                                                                       14065306   \n",
       "Listing Url                                 https://www.airbnb.com/rooms/14065306   \n",
       "Scrape ID                                                          20170407214119   \n",
       "Last Scraped                                                           2017-04-08   \n",
       "Name                            PE6 Habitación Privada en Madrid 2 Personas +WIFI   \n",
       "...                                                                           ...   \n",
       "Cancellation Policy                                                        strict   \n",
       "Calculated host listings count                                                6.0   \n",
       "Reviews per Month                                                            2.21   \n",
       "Geolocation                                   40.411074047208,-3.7383747831501863   \n",
       "Features                        Host Has Profile Pic,Is Location Exact,Require...   \n",
       "\n",
       "                                                                    4  \n",
       "ID                                                           17309526  \n",
       "Listing Url                     https://www.airbnb.com/rooms/17309526  \n",
       "Scrape ID                                              20170407214050  \n",
       "Last Scraped                                               2017-04-08  \n",
       "Name                            Double room in Gracia/Whole Apartment  \n",
       "...                                                               ...  \n",
       "Cancellation Policy                                          flexible  \n",
       "Calculated host listings count                                    1.0  \n",
       "Reviews per Month                                                 NaN  \n",
       "Geolocation                       41.40132396962952,2.163712769014997  \n",
       "Features                        Host Has Profile Pic,Requires License  \n",
       "\n",
       "[89 rows x 5 columns]"
      ]
     },
     "execution_count": 3,
     "metadata": {},
     "output_type": "execute_result"
    }
   ],
   "source": [
    "df.head().T"
   ]
  },
  {
   "cell_type": "code",
   "execution_count": 4,
   "id": "afaa08f7-6a16-446d-b868-5aa78ee75cb5",
   "metadata": {},
   "outputs": [
    {
     "data": {
      "text/plain": [
       "Index(['ID', 'Listing Url', 'Scrape ID', 'Last Scraped', 'Name', 'Summary',\n",
       "       'Space', 'Description', 'Experiences Offered', 'Neighborhood Overview',\n",
       "       'Notes', 'Transit', 'Access', 'Interaction', 'House Rules',\n",
       "       'Thumbnail Url', 'Medium Url', 'Picture Url', 'XL Picture Url',\n",
       "       'Host ID', 'Host URL', 'Host Name', 'Host Since', 'Host Location',\n",
       "       'Host About', 'Host Response Time', 'Host Response Rate',\n",
       "       'Host Acceptance Rate', 'Host Thumbnail Url', 'Host Picture Url',\n",
       "       'Host Neighbourhood', 'Host Listings Count',\n",
       "       'Host Total Listings Count', 'Host Verifications', 'Street',\n",
       "       'Neighbourhood', 'Neighbourhood Cleansed',\n",
       "       'Neighbourhood Group Cleansed', 'City', 'State', 'Zipcode', 'Market',\n",
       "       'Smart Location', 'Country Code', 'Country', 'Latitude', 'Longitude',\n",
       "       'Property Type', 'Room Type', 'Accommodates', 'Bathrooms', 'Bedrooms',\n",
       "       'Beds', 'Bed Type', 'Amenities', 'Square Feet', 'Price', 'Weekly Price',\n",
       "       'Monthly Price', 'Security Deposit', 'Cleaning Fee', 'Guests Included',\n",
       "       'Extra People', 'Minimum Nights', 'Maximum Nights', 'Calendar Updated',\n",
       "       'Has Availability', 'Availability 30', 'Availability 60',\n",
       "       'Availability 90', 'Availability 365', 'Calendar last Scraped',\n",
       "       'Number of Reviews', 'First Review', 'Last Review',\n",
       "       'Review Scores Rating', 'Review Scores Accuracy',\n",
       "       'Review Scores Cleanliness', 'Review Scores Checkin',\n",
       "       'Review Scores Communication', 'Review Scores Location',\n",
       "       'Review Scores Value', 'License', 'Jurisdiction Names',\n",
       "       'Cancellation Policy', 'Calculated host listings count',\n",
       "       'Reviews per Month', 'Geolocation', 'Features'],\n",
       "      dtype='object')"
      ]
     },
     "execution_count": 4,
     "metadata": {},
     "output_type": "execute_result"
    }
   ],
   "source": [
    "df.columns"
   ]
  },
  {
   "cell_type": "code",
   "execution_count": 5,
   "id": "21c5718b-e3d4-4fac-a2d0-e996ddf534fc",
   "metadata": {},
   "outputs": [
    {
     "data": {
      "text/plain": [
       "ID                                  int64\n",
       "Listing Url                        object\n",
       "Scrape ID                           int64\n",
       "Last Scraped                       object\n",
       "Name                               object\n",
       "                                   ...   \n",
       "Cancellation Policy                object\n",
       "Calculated host listings count    float64\n",
       "Reviews per Month                 float64\n",
       "Geolocation                        object\n",
       "Features                           object\n",
       "Length: 89, dtype: object"
      ]
     },
     "execution_count": 5,
     "metadata": {},
     "output_type": "execute_result"
    }
   ],
   "source": [
    "df.dtypes"
   ]
  },
  {
   "cell_type": "code",
   "execution_count": 6,
   "id": "b940ab8a-fe28-4f43-aa37-9d453c816cf5",
   "metadata": {},
   "outputs": [
    {
     "data": {
      "text/plain": [
       "ID                                False\n",
       "Listing Url                       False\n",
       "Scrape ID                         False\n",
       "Last Scraped                      False\n",
       "Name                              False\n",
       "                                  ...  \n",
       "Cancellation Policy               False\n",
       "Calculated host listings count     True\n",
       "Reviews per Month                  True\n",
       "Geolocation                       False\n",
       "Features                           True\n",
       "Length: 89, dtype: bool"
      ]
     },
     "execution_count": 6,
     "metadata": {},
     "output_type": "execute_result"
    }
   ],
   "source": [
    "df.isnull().any()"
   ]
  },
  {
   "cell_type": "code",
   "execution_count": 7,
   "id": "c8036c8d-0d05-4400-8d46-5d0ce921a4b3",
   "metadata": {},
   "outputs": [
    {
     "data": {
      "text/html": [
       "<div>\n",
       "<style scoped>\n",
       "    .dataframe tbody tr th:only-of-type {\n",
       "        vertical-align: middle;\n",
       "    }\n",
       "\n",
       "    .dataframe tbody tr th {\n",
       "        vertical-align: top;\n",
       "    }\n",
       "\n",
       "    .dataframe thead th {\n",
       "        text-align: right;\n",
       "    }\n",
       "</style>\n",
       "<table border=\"1\" class=\"dataframe\">\n",
       "  <thead>\n",
       "    <tr style=\"text-align: right;\">\n",
       "      <th></th>\n",
       "      <th>ID</th>\n",
       "      <th>Scrape ID</th>\n",
       "      <th>Host ID</th>\n",
       "      <th>Host Response Rate</th>\n",
       "      <th>Host Listings Count</th>\n",
       "      <th>Host Total Listings Count</th>\n",
       "      <th>Latitude</th>\n",
       "      <th>Longitude</th>\n",
       "      <th>Accommodates</th>\n",
       "      <th>Bathrooms</th>\n",
       "      <th>...</th>\n",
       "      <th>Number of Reviews</th>\n",
       "      <th>Review Scores Rating</th>\n",
       "      <th>Review Scores Accuracy</th>\n",
       "      <th>Review Scores Cleanliness</th>\n",
       "      <th>Review Scores Checkin</th>\n",
       "      <th>Review Scores Communication</th>\n",
       "      <th>Review Scores Location</th>\n",
       "      <th>Review Scores Value</th>\n",
       "      <th>Calculated host listings count</th>\n",
       "      <th>Reviews per Month</th>\n",
       "    </tr>\n",
       "  </thead>\n",
       "  <tbody>\n",
       "    <tr>\n",
       "      <th>count</th>\n",
       "      <td>1.182400e+04</td>\n",
       "      <td>1.182400e+04</td>\n",
       "      <td>1.182400e+04</td>\n",
       "      <td>10293.000000</td>\n",
       "      <td>11821.000000</td>\n",
       "      <td>11821.000000</td>\n",
       "      <td>11824.000000</td>\n",
       "      <td>11824.000000</td>\n",
       "      <td>11824.000000</td>\n",
       "      <td>11785.000000</td>\n",
       "      <td>...</td>\n",
       "      <td>11824.000000</td>\n",
       "      <td>9165.000000</td>\n",
       "      <td>9144.000000</td>\n",
       "      <td>9150.000000</td>\n",
       "      <td>9137.000000</td>\n",
       "      <td>9150.000000</td>\n",
       "      <td>9134.000000</td>\n",
       "      <td>9134.000000</td>\n",
       "      <td>11821.000000</td>\n",
       "      <td>9281.000000</td>\n",
       "    </tr>\n",
       "    <tr>\n",
       "      <th>mean</th>\n",
       "      <td>1.028556e+07</td>\n",
       "      <td>2.017038e+13</td>\n",
       "      <td>3.612587e+07</td>\n",
       "      <td>94.760031</td>\n",
       "      <td>12.378648</td>\n",
       "      <td>12.378648</td>\n",
       "      <td>40.477024</td>\n",
       "      <td>-3.771006</td>\n",
       "      <td>3.263616</td>\n",
       "      <td>1.276071</td>\n",
       "      <td>...</td>\n",
       "      <td>22.667118</td>\n",
       "      <td>91.682270</td>\n",
       "      <td>9.419619</td>\n",
       "      <td>9.323716</td>\n",
       "      <td>9.620444</td>\n",
       "      <td>9.652240</td>\n",
       "      <td>9.535691</td>\n",
       "      <td>9.217648</td>\n",
       "      <td>9.402589</td>\n",
       "      <td>1.874634</td>\n",
       "    </tr>\n",
       "    <tr>\n",
       "      <th>std</th>\n",
       "      <td>5.566178e+06</td>\n",
       "      <td>5.427286e+08</td>\n",
       "      <td>3.437433e+07</td>\n",
       "      <td>15.358842</td>\n",
       "      <td>33.842400</td>\n",
       "      <td>33.842400</td>\n",
       "      <td>4.851770</td>\n",
       "      <td>14.246958</td>\n",
       "      <td>2.085407</td>\n",
       "      <td>0.649400</td>\n",
       "      <td>...</td>\n",
       "      <td>38.519203</td>\n",
       "      <td>9.058884</td>\n",
       "      <td>0.918470</td>\n",
       "      <td>0.989681</td>\n",
       "      <td>0.801822</td>\n",
       "      <td>0.758486</td>\n",
       "      <td>0.755712</td>\n",
       "      <td>0.952347</td>\n",
       "      <td>23.459172</td>\n",
       "      <td>1.872500</td>\n",
       "    </tr>\n",
       "    <tr>\n",
       "      <th>min</th>\n",
       "      <td>1.862800e+04</td>\n",
       "      <td>2.016010e+13</td>\n",
       "      <td>1.745300e+04</td>\n",
       "      <td>0.000000</td>\n",
       "      <td>0.000000</td>\n",
       "      <td>0.000000</td>\n",
       "      <td>-37.851182</td>\n",
       "      <td>-123.124429</td>\n",
       "      <td>1.000000</td>\n",
       "      <td>0.000000</td>\n",
       "      <td>...</td>\n",
       "      <td>0.000000</td>\n",
       "      <td>20.000000</td>\n",
       "      <td>2.000000</td>\n",
       "      <td>2.000000</td>\n",
       "      <td>2.000000</td>\n",
       "      <td>2.000000</td>\n",
       "      <td>2.000000</td>\n",
       "      <td>2.000000</td>\n",
       "      <td>1.000000</td>\n",
       "      <td>0.020000</td>\n",
       "    </tr>\n",
       "    <tr>\n",
       "      <th>25%</th>\n",
       "      <td>5.544594e+06</td>\n",
       "      <td>2.017041e+13</td>\n",
       "      <td>6.787360e+06</td>\n",
       "      <td>99.000000</td>\n",
       "      <td>1.000000</td>\n",
       "      <td>1.000000</td>\n",
       "      <td>40.409756</td>\n",
       "      <td>-3.707620</td>\n",
       "      <td>2.000000</td>\n",
       "      <td>1.000000</td>\n",
       "      <td>...</td>\n",
       "      <td>1.000000</td>\n",
       "      <td>89.000000</td>\n",
       "      <td>9.000000</td>\n",
       "      <td>9.000000</td>\n",
       "      <td>9.000000</td>\n",
       "      <td>9.000000</td>\n",
       "      <td>9.000000</td>\n",
       "      <td>9.000000</td>\n",
       "      <td>1.000000</td>\n",
       "      <td>0.450000</td>\n",
       "    </tr>\n",
       "    <tr>\n",
       "      <th>50%</th>\n",
       "      <td>1.136483e+07</td>\n",
       "      <td>2.017041e+13</td>\n",
       "      <td>2.461869e+07</td>\n",
       "      <td>100.000000</td>\n",
       "      <td>2.000000</td>\n",
       "      <td>2.000000</td>\n",
       "      <td>40.419525</td>\n",
       "      <td>-3.700787</td>\n",
       "      <td>3.000000</td>\n",
       "      <td>1.000000</td>\n",
       "      <td>...</td>\n",
       "      <td>7.000000</td>\n",
       "      <td>94.000000</td>\n",
       "      <td>10.000000</td>\n",
       "      <td>10.000000</td>\n",
       "      <td>10.000000</td>\n",
       "      <td>10.000000</td>\n",
       "      <td>10.000000</td>\n",
       "      <td>9.000000</td>\n",
       "      <td>2.000000</td>\n",
       "      <td>1.200000</td>\n",
       "    </tr>\n",
       "    <tr>\n",
       "      <th>75%</th>\n",
       "      <td>1.533143e+07</td>\n",
       "      <td>2.017041e+13</td>\n",
       "      <td>5.434329e+07</td>\n",
       "      <td>100.000000</td>\n",
       "      <td>5.000000</td>\n",
       "      <td>5.000000</td>\n",
       "      <td>40.430916</td>\n",
       "      <td>-3.683843</td>\n",
       "      <td>4.000000</td>\n",
       "      <td>1.000000</td>\n",
       "      <td>...</td>\n",
       "      <td>27.000000</td>\n",
       "      <td>98.000000</td>\n",
       "      <td>10.000000</td>\n",
       "      <td>10.000000</td>\n",
       "      <td>10.000000</td>\n",
       "      <td>10.000000</td>\n",
       "      <td>10.000000</td>\n",
       "      <td>10.000000</td>\n",
       "      <td>5.000000</td>\n",
       "      <td>2.810000</td>\n",
       "    </tr>\n",
       "    <tr>\n",
       "      <th>max</th>\n",
       "      <td>1.910969e+07</td>\n",
       "      <td>2.017062e+13</td>\n",
       "      <td>1.247534e+08</td>\n",
       "      <td>100.000000</td>\n",
       "      <td>519.000000</td>\n",
       "      <td>519.000000</td>\n",
       "      <td>55.966912</td>\n",
       "      <td>153.371427</td>\n",
       "      <td>16.000000</td>\n",
       "      <td>8.000000</td>\n",
       "      <td>...</td>\n",
       "      <td>446.000000</td>\n",
       "      <td>100.000000</td>\n",
       "      <td>10.000000</td>\n",
       "      <td>10.000000</td>\n",
       "      <td>10.000000</td>\n",
       "      <td>10.000000</td>\n",
       "      <td>10.000000</td>\n",
       "      <td>10.000000</td>\n",
       "      <td>145.000000</td>\n",
       "      <td>17.210000</td>\n",
       "    </tr>\n",
       "  </tbody>\n",
       "</table>\n",
       "<p>8 rows × 36 columns</p>\n",
       "</div>"
      ],
      "text/plain": [
       "                 ID     Scrape ID       Host ID  Host Response Rate  \\\n",
       "count  1.182400e+04  1.182400e+04  1.182400e+04        10293.000000   \n",
       "mean   1.028556e+07  2.017038e+13  3.612587e+07           94.760031   \n",
       "std    5.566178e+06  5.427286e+08  3.437433e+07           15.358842   \n",
       "min    1.862800e+04  2.016010e+13  1.745300e+04            0.000000   \n",
       "25%    5.544594e+06  2.017041e+13  6.787360e+06           99.000000   \n",
       "50%    1.136483e+07  2.017041e+13  2.461869e+07          100.000000   \n",
       "75%    1.533143e+07  2.017041e+13  5.434329e+07          100.000000   \n",
       "max    1.910969e+07  2.017062e+13  1.247534e+08          100.000000   \n",
       "\n",
       "       Host Listings Count  Host Total Listings Count      Latitude  \\\n",
       "count         11821.000000               11821.000000  11824.000000   \n",
       "mean             12.378648                  12.378648     40.477024   \n",
       "std              33.842400                  33.842400      4.851770   \n",
       "min               0.000000                   0.000000    -37.851182   \n",
       "25%               1.000000                   1.000000     40.409756   \n",
       "50%               2.000000                   2.000000     40.419525   \n",
       "75%               5.000000                   5.000000     40.430916   \n",
       "max             519.000000                 519.000000     55.966912   \n",
       "\n",
       "          Longitude  Accommodates     Bathrooms  ...  Number of Reviews  \\\n",
       "count  11824.000000  11824.000000  11785.000000  ...       11824.000000   \n",
       "mean      -3.771006      3.263616      1.276071  ...          22.667118   \n",
       "std       14.246958      2.085407      0.649400  ...          38.519203   \n",
       "min     -123.124429      1.000000      0.000000  ...           0.000000   \n",
       "25%       -3.707620      2.000000      1.000000  ...           1.000000   \n",
       "50%       -3.700787      3.000000      1.000000  ...           7.000000   \n",
       "75%       -3.683843      4.000000      1.000000  ...          27.000000   \n",
       "max      153.371427     16.000000      8.000000  ...         446.000000   \n",
       "\n",
       "       Review Scores Rating  Review Scores Accuracy  \\\n",
       "count           9165.000000             9144.000000   \n",
       "mean              91.682270                9.419619   \n",
       "std                9.058884                0.918470   \n",
       "min               20.000000                2.000000   \n",
       "25%               89.000000                9.000000   \n",
       "50%               94.000000               10.000000   \n",
       "75%               98.000000               10.000000   \n",
       "max              100.000000               10.000000   \n",
       "\n",
       "       Review Scores Cleanliness  Review Scores Checkin  \\\n",
       "count                9150.000000            9137.000000   \n",
       "mean                    9.323716               9.620444   \n",
       "std                     0.989681               0.801822   \n",
       "min                     2.000000               2.000000   \n",
       "25%                     9.000000               9.000000   \n",
       "50%                    10.000000              10.000000   \n",
       "75%                    10.000000              10.000000   \n",
       "max                    10.000000              10.000000   \n",
       "\n",
       "       Review Scores Communication  Review Scores Location  \\\n",
       "count                  9150.000000             9134.000000   \n",
       "mean                      9.652240                9.535691   \n",
       "std                       0.758486                0.755712   \n",
       "min                       2.000000                2.000000   \n",
       "25%                       9.000000                9.000000   \n",
       "50%                      10.000000               10.000000   \n",
       "75%                      10.000000               10.000000   \n",
       "max                      10.000000               10.000000   \n",
       "\n",
       "       Review Scores Value  Calculated host listings count  Reviews per Month  \n",
       "count          9134.000000                    11821.000000        9281.000000  \n",
       "mean              9.217648                        9.402589           1.874634  \n",
       "std               0.952347                       23.459172           1.872500  \n",
       "min               2.000000                        1.000000           0.020000  \n",
       "25%               9.000000                        1.000000           0.450000  \n",
       "50%               9.000000                        2.000000           1.200000  \n",
       "75%              10.000000                        5.000000           2.810000  \n",
       "max              10.000000                      145.000000          17.210000  \n",
       "\n",
       "[8 rows x 36 columns]"
      ]
     },
     "execution_count": 7,
     "metadata": {},
     "output_type": "execute_result"
    }
   ],
   "source": [
    "df.describe()"
   ]
  },
  {
   "cell_type": "markdown",
   "id": "21ef970d-1327-48d6-9a1a-c6c8c1bb1f4e",
   "metadata": {},
   "source": [
    "Represento los histogramas de algunos atributos para entender mejor los datos:"
   ]
  },
  {
   "cell_type": "code",
   "execution_count": 8,
   "id": "337de513-bd9d-4972-824b-14d94284a5ab",
   "metadata": {},
   "outputs": [
    {
     "data": {
      "image/png": "[encoded data removed]",
      "text/plain": [
       "<Figure size 1080x360 with 3 Axes>"
      ]
     },
     "metadata": {
      "needs_background": "light"
     },
     "output_type": "display_data"
    }
   ],
   "source": [
    "plt.figure(figsize=(15, 5))\n",
    "\n",
    "plt.subplot(1,3,1)\n",
    "df['Bedrooms'].plot.hist(alpha=0.5, bins=25, grid = True)\n",
    "plt.axis([0, 10, 0, 10000])\n",
    "plt.xlabel('Bedrooms')\n",
    "\n",
    "plt.subplot(1,3,2)\n",
    "df['Accommodates'].plot.hist(alpha=0.5, bins=25, grid = True)\n",
    "plt.xlabel('Accommodates')\n",
    "\n",
    "plt.subplot(1,3,3)\n",
    "df['Square Feet'].plot.hist(alpha=0.5, bins=25, grid = True)\n",
    "plt.xlabel('Square Feet')\n",
    "\n",
    "plt.show()"
   ]
  },
  {
   "cell_type": "code",
   "execution_count": null,
   "id": "44d90f2d-2a01-4505-8caf-619f9545347b",
   "metadata": {},
   "outputs": [],
   "source": [
    "Hacieno los histogramas logarítmicos podemos ver los datos más claros, pues aquí están un poco escorados."
   ]
  },
  {
   "cell_type": "code",
   "execution_count": null,
   "id": "6a393e29-f1b5-449c-8689-c0fb3f31bfdc",
   "metadata": {},
   "outputs": [],
   "source": []
  },
  {
   "cell_type": "markdown",
   "id": "55036bf2-2f55-407f-8283-0dc6cddad243",
   "metadata": {},
   "source": [
    "Ahora los represento junto al precio, para buscar posibles outliers."
   ]
  },
  {
   "cell_type": "code",
   "execution_count": 9,
   "id": "e4f9d028-7e9f-463c-b208-9c3b8d93e85c",
   "metadata": {},
   "outputs": [
    {
     "data": {
      "image/png": "[encoded data removed]",
      "text/plain": [
       "<Figure size 432x288 with 1 Axes>"
      ]
     },
     "metadata": {
      "needs_background": "light"
     },
     "output_type": "display_data"
    },
    {
     "data": {
      "image/png": "[encoded data removed]",
      "text/plain": [
       "<Figure size 432x288 with 1 Axes>"
      ]
     },
     "metadata": {
      "needs_background": "light"
     },
     "output_type": "display_data"
    }
   ],
   "source": [
    "df.plot(kind = 'scatter',x='Bedrooms',y = 'Price')\n",
    "plt.xlabel('# Bedrooms')\n",
    "plt.ylabel('price ($)')\n",
    "plt.show()\n",
    "\n",
    "df.plot(kind = 'scatter',x='Square Feet',y = 'Price')\n",
    "plt.xlabel('Square Feet')\n",
    "plt.ylabel('price ($)')\n",
    "plt.show()\n"
   ]
  },
  {
   "cell_type": "markdown",
   "id": "749cc987-53ff-48b3-b201-273d14f0bc2c",
   "metadata": {},
   "source": [
    "Vamos a echar un ojo a la correlación:"
   ]
  },
  {
   "cell_type": "code",
   "execution_count": 10,
   "id": "a9b00608-a1fa-4caf-8aac-3308aabe4618",
   "metadata": {},
   "outputs": [
    {
     "data": {
      "image/png": "[encoded data removed]",
      "text/plain": [
       "<Figure size 864x720 with 2 Axes>"
      ]
     },
     "metadata": {
      "needs_background": "light"
     },
     "output_type": "display_data"
    }
   ],
   "source": [
    "import seaborn as sns\n",
    "\n",
    "# Compute the correlation matrix\n",
    "corr = np.abs(df.drop(['Price'], axis=1).corr())\n",
    "\n",
    "# Generate a mask for the upper triangle\n",
    "mask = np.zeros_like(corr, dtype=np.bool)\n",
    "mask[np.triu_indices_from(mask)] = True\n",
    "\n",
    "# Set up the matplotlib figure\n",
    "f, ax = plt.subplots(figsize=(12, 10))\n",
    "\n",
    "# Draw the heatmap with the mask and correct aspect ratio\n",
    "sns.heatmap(corr, mask=mask,vmin = 0.0, vmax=1.0, center=0.5,\n",
    "            linewidths=.1, cmap=\"YlGnBu\", cbar_kws={\"shrink\": .8})\n",
    "\n",
    "plt.show()"
   ]
  },
  {
   "cell_type": "markdown",
   "id": "462928c0-727d-4ca1-9961-dfb327eab527",
   "metadata": {},
   "source": [
    "4.PREPROCESAMIENTO:\n",
    "    Con todo lo visto anteriormente debemos hacer el siguiente preprocesamiento a los datos:\n",
    "    a)Eliminar variables que no me aportan o no puedo codificar.\n",
    "    b)Eliminar variables con alto porcentaje de missings e imputar valores ausentes en las que no tienen un porcentaje mayor del         50% de missings.\n",
    "    c)Codificar variables categóricas.\n",
    "    d)Eliminar outliers.\n",
    "    e)Eliminar variables con una correlación alta.\n",
    "    f)Generar variables nuevas que me puedan ayudar."
   ]
  },
  {
   "cell_type": "markdown",
   "id": "144864be-381e-48eb-ad4b-cbc52f471b58",
   "metadata": {},
   "source": [
    "a)Elimino variables que no me aportan nada, o no puedo codificar:"
   ]
  },
  {
   "cell_type": "code",
   "execution_count": 11,
   "id": "5a76c447-ba99-4f4f-a4b2-c7f3623948ae",
   "metadata": {},
   "outputs": [],
   "source": [
    "df = df.drop(['ID', 'Listing Url', 'Scrape ID', 'Last Scraped', 'Name', 'Summary',\n",
    "       'Space', 'Description', 'Experiences Offered', 'Neighborhood Overview',\n",
    "       'Notes', 'Transit', 'Access', 'Interaction', 'House Rules',\n",
    "       'Thumbnail Url', 'Medium Url', 'Picture Url', 'XL Picture Url',\n",
    "       'Host ID', 'Host URL', 'Host Name', 'Host Since', 'Host Location',\n",
    "       'Host About', 'Host Response Time', 'Host Response Rate',\n",
    "       'Host Acceptance Rate', 'Host Thumbnail Url', 'Host Picture Url',\n",
    "       'Host Neighbourhood', 'Host Listings Count',\n",
    "       'Host Total Listings Count', 'Host Verifications', 'Street',\n",
    "       'Neighbourhood', \n",
    "       'Neighbourhood Group Cleansed',  'State',  'Market',\n",
    "       'Smart Location', 'Country Code', 'Country', \n",
    "       \n",
    "        'Bed Type', 'Amenities',  'Weekly Price',\n",
    "       'Monthly Price',  'Cleaning Fee', \n",
    "        'Minimum Nights', 'Maximum Nights', 'Calendar Updated',\n",
    "       'Has Availability', 'Availability 30', 'Availability 60',\n",
    "       'Availability 90', 'Availability 365', 'Calendar last Scraped',\n",
    "       'Number of Reviews', 'First Review', 'Last Review',\n",
    "        'Review Scores Accuracy',\n",
    "       'Review Scores Cleanliness', 'Review Scores Checkin',\n",
    "       'Review Scores Communication', 'Review Scores Location',\n",
    "       'Review Scores Value', 'License', 'Jurisdiction Names',\n",
    "        'Calculated host listings count',\n",
    "       'Reviews per Month', 'Geolocation', 'Features' ], axis=1)"
   ]
  },
  {
   "cell_type": "code",
   "execution_count": 12,
   "id": "8a8fe5d6-9fac-4e10-bc23-f94bab17e7f8",
   "metadata": {},
   "outputs": [
    {
     "data": {
      "text/plain": [
       "Index(['Neighbourhood Cleansed', 'City', 'Zipcode', 'Latitude', 'Longitude',\n",
       "       'Property Type', 'Room Type', 'Accommodates', 'Bathrooms', 'Bedrooms',\n",
       "       'Beds', 'Square Feet', 'Price', 'Security Deposit', 'Guests Included',\n",
       "       'Extra People', 'Review Scores Rating', 'Cancellation Policy'],\n",
       "      dtype='object')"
      ]
     },
     "execution_count": 12,
     "metadata": {},
     "output_type": "execute_result"
    }
   ],
   "source": [
    "df.columns"
   ]
  },
  {
   "cell_type": "code",
   "execution_count": 13,
   "id": "c956ee82-7405-4ec1-9dcd-2bff63823d8d",
   "metadata": {},
   "outputs": [
    {
     "data": {
      "text/plain": [
       "Madrid              10575\n",
       "Barcelona             220\n",
       "London                103\n",
       "Paris                  91\n",
       "马德里                    41\n",
       "                    ...  \n",
       "Kimmage                 1\n",
       "Ixelles                 1\n",
       "Woolloomooloo           1\n",
       "Port de Pollença        1\n",
       "Berlín                  1\n",
       "Name: City, Length: 219, dtype: int64"
      ]
     },
     "execution_count": 13,
     "metadata": {},
     "output_type": "execute_result"
    }
   ],
   "source": [
    "#Echo un vistazo a los datos de City\n",
    "df[\"City\"].value_counts()"
   ]
  },
  {
   "cell_type": "markdown",
   "id": "732eb5a0-44a5-41fc-8748-965c70157220",
   "metadata": {},
   "source": [
    "La mayoria de los datos son de Madrid, así que me quedaré sólo con los datos de Madrid y elimino la columna city"
   ]
  },
  {
   "cell_type": "code",
   "execution_count": 14,
   "id": "29ce7ad7-590d-459f-a470-f6c0fbb6a53a",
   "metadata": {},
   "outputs": [],
   "source": [
    "df = df.drop(df[df['City']!= \"Madrid\"].index)"
   ]
  },
  {
   "cell_type": "code",
   "execution_count": 15,
   "id": "d1e2a912-6378-4873-9ae6-b6803295584c",
   "metadata": {},
   "outputs": [
    {
     "data": {
      "text/plain": [
       "Madrid    10575\n",
       "Name: City, dtype: int64"
      ]
     },
     "execution_count": 15,
     "metadata": {},
     "output_type": "execute_result"
    }
   ],
   "source": [
    "df[\"City\"].value_counts()"
   ]
  },
  {
   "cell_type": "code",
   "execution_count": 16,
   "id": "9f9f0f60-aed3-4f0a-92b6-aaf5e4222f8f",
   "metadata": {},
   "outputs": [],
   "source": [
    "df = df.drop(['City'], axis=1)"
   ]
  },
  {
   "cell_type": "code",
   "execution_count": 17,
   "id": "f65c5fa9-e184-46c3-835e-ed8b1e2bd10e",
   "metadata": {},
   "outputs": [
    {
     "data": {
      "text/plain": [
       "28012           1649\n",
       "28004           1439\n",
       "28005            977\n",
       "28013            803\n",
       "28014            510\n",
       "                ... \n",
       "2804               1\n",
       "28051\\n28051       1\n",
       "28850              1\n",
       "Madrid 28004       1\n",
       "20013              1\n",
       "Name: Zipcode, Length: 72, dtype: int64"
      ]
     },
     "execution_count": 17,
     "metadata": {},
     "output_type": "execute_result"
    }
   ],
   "source": [
    "#Echo un vistazo a Zipcode\n",
    "df[\"Zipcode\"].value_counts()"
   ]
  },
  {
   "cell_type": "markdown",
   "id": "c9076594-9b89-4cee-95c0-a01faf53e05c",
   "metadata": {},
   "source": [
    "Podria limpiar los codigos postales que no empiecen por 28"
   ]
  },
  {
   "cell_type": "code",
   "execution_count": 19,
   "id": "c46fc4b8-1e46-4889-89d7-a882db3159a1",
   "metadata": {},
   "outputs": [
    {
     "ename": "KeyError",
     "evalue": "'key of type tuple not found and not a MultiIndex'",
     "output_type": "error",
     "traceback": [
      "\u001b[1;31m---------------------------------------------------------------------------\u001b[0m",
      "\u001b[1;31mKeyError\u001b[0m                                  Traceback (most recent call last)",
      "Input \u001b[1;32mIn [19]\u001b[0m, in \u001b[0;36m<cell line: 1>\u001b[1;34m()\u001b[0m\n\u001b[1;32m----> 1\u001b[0m \u001b[43mdf\u001b[49m\u001b[38;5;241;43m.\u001b[39;49m\u001b[43mZipcode\u001b[49m\u001b[43m[\u001b[49m\u001b[43m(\u001b[49m\u001b[38;5;124;43m\"\u001b[39;49m\u001b[38;5;124;43m^28\u001b[39;49m\u001b[38;5;124;43m\"\u001b[39;49m\u001b[43m,\u001b[49m\u001b[43mdf\u001b[49m\u001b[38;5;241;43m.\u001b[39;49m\u001b[43mZipcode\u001b[49m\u001b[43m)\u001b[49m\u001b[43m]\u001b[49m\u001b[38;5;241m<\u001b[39m\u001b[38;5;241m-\u001b[39mNA\n",
      "File \u001b[1;32m~\\anaconda3\\lib\\site-packages\\pandas\\core\\series.py:984\u001b[0m, in \u001b[0;36mSeries.__getitem__\u001b[1;34m(self, key)\u001b[0m\n\u001b[0;32m    981\u001b[0m     key \u001b[38;5;241m=\u001b[39m np\u001b[38;5;241m.\u001b[39masarray(key, dtype\u001b[38;5;241m=\u001b[39m\u001b[38;5;28mbool\u001b[39m)\n\u001b[0;32m    982\u001b[0m     \u001b[38;5;28;01mreturn\u001b[39;00m \u001b[38;5;28mself\u001b[39m\u001b[38;5;241m.\u001b[39m_get_values(key)\n\u001b[1;32m--> 984\u001b[0m \u001b[38;5;28;01mreturn\u001b[39;00m \u001b[38;5;28;43mself\u001b[39;49m\u001b[38;5;241;43m.\u001b[39;49m\u001b[43m_get_with\u001b[49m\u001b[43m(\u001b[49m\u001b[43mkey\u001b[49m\u001b[43m)\u001b[49m\n",
      "File \u001b[1;32m~\\anaconda3\\lib\\site-packages\\pandas\\core\\series.py:999\u001b[0m, in \u001b[0;36mSeries._get_with\u001b[1;34m(self, key)\u001b[0m\n\u001b[0;32m    994\u001b[0m     \u001b[38;5;28;01mraise\u001b[39;00m \u001b[38;5;167;01mTypeError\u001b[39;00m(\n\u001b[0;32m    995\u001b[0m         \u001b[38;5;124m\"\u001b[39m\u001b[38;5;124mIndexing a Series with DataFrame is not \u001b[39m\u001b[38;5;124m\"\u001b[39m\n\u001b[0;32m    996\u001b[0m         \u001b[38;5;124m\"\u001b[39m\u001b[38;5;124msupported, use the appropriate DataFrame column\u001b[39m\u001b[38;5;124m\"\u001b[39m\n\u001b[0;32m    997\u001b[0m     )\n\u001b[0;32m    998\u001b[0m \u001b[38;5;28;01melif\u001b[39;00m \u001b[38;5;28misinstance\u001b[39m(key, \u001b[38;5;28mtuple\u001b[39m):\n\u001b[1;32m--> 999\u001b[0m     \u001b[38;5;28;01mreturn\u001b[39;00m \u001b[38;5;28;43mself\u001b[39;49m\u001b[38;5;241;43m.\u001b[39;49m\u001b[43m_get_values_tuple\u001b[49m\u001b[43m(\u001b[49m\u001b[43mkey\u001b[49m\u001b[43m)\u001b[49m\n\u001b[0;32m   1001\u001b[0m \u001b[38;5;28;01melif\u001b[39;00m \u001b[38;5;129;01mnot\u001b[39;00m is_list_like(key):\n\u001b[0;32m   1002\u001b[0m     \u001b[38;5;66;03m# e.g. scalars that aren't recognized by lib.is_scalar, GH#32684\u001b[39;00m\n\u001b[0;32m   1003\u001b[0m     \u001b[38;5;28;01mreturn\u001b[39;00m \u001b[38;5;28mself\u001b[39m\u001b[38;5;241m.\u001b[39mloc[key]\n",
      "File \u001b[1;32m~\\anaconda3\\lib\\site-packages\\pandas\\core\\series.py:1034\u001b[0m, in \u001b[0;36mSeries._get_values_tuple\u001b[1;34m(self, key)\u001b[0m\n\u001b[0;32m   1031\u001b[0m     \u001b[38;5;28;01mreturn\u001b[39;00m result\n\u001b[0;32m   1033\u001b[0m \u001b[38;5;28;01mif\u001b[39;00m \u001b[38;5;129;01mnot\u001b[39;00m \u001b[38;5;28misinstance\u001b[39m(\u001b[38;5;28mself\u001b[39m\u001b[38;5;241m.\u001b[39mindex, MultiIndex):\n\u001b[1;32m-> 1034\u001b[0m     \u001b[38;5;28;01mraise\u001b[39;00m \u001b[38;5;167;01mKeyError\u001b[39;00m(\u001b[38;5;124m\"\u001b[39m\u001b[38;5;124mkey of type tuple not found and not a MultiIndex\u001b[39m\u001b[38;5;124m\"\u001b[39m)\n\u001b[0;32m   1036\u001b[0m \u001b[38;5;66;03m# If key is contained, would have returned by now\u001b[39;00m\n\u001b[0;32m   1037\u001b[0m indexer, new_index \u001b[38;5;241m=\u001b[39m \u001b[38;5;28mself\u001b[39m\u001b[38;5;241m.\u001b[39mindex\u001b[38;5;241m.\u001b[39mget_loc_level(key)\n",
      "\u001b[1;31mKeyError\u001b[0m: 'key of type tuple not found and not a MultiIndex'"
     ]
    }
   ],
   "source": [
    "df.Zipcode[(\"^28\",df.Zipcode)]<-NA"
   ]
  },
  {
   "cell_type": "markdown",
   "id": "6d6b00fb-9f2d-4e87-91c6-bb0eaa5b085e",
   "metadata": {},
   "source": [
    "b)Eliminar con alto porcentaje de missings e imputar valores ausentes en las que no tienen un porcentaje mayor del 50% de missings."
   ]
  },
  {
   "cell_type": "code",
   "execution_count": 18,
   "id": "9a63dc86-ff31-4a74-9b27-974dde0c4629",
   "metadata": {},
   "outputs": [
    {
     "data": {
      "text/plain": [
       "Neighbourhood Cleansed    False\n",
       "Zipcode                    True\n",
       "Latitude                  False\n",
       "Longitude                 False\n",
       "Property Type             False\n",
       "Room Type                 False\n",
       "Accommodates              False\n",
       "Bathrooms                  True\n",
       "Bedrooms                   True\n",
       "Beds                       True\n",
       "Square Feet                True\n",
       "Price                      True\n",
       "Security Deposit           True\n",
       "Guests Included           False\n",
       "Extra People              False\n",
       "Review Scores Rating       True\n",
       "Cancellation Policy       False\n",
       "dtype: bool"
      ]
     },
     "execution_count": 18,
     "metadata": {},
     "output_type": "execute_result"
    }
   ],
   "source": [
    "df.isnull().any()"
   ]
  },
  {
   "cell_type": "code",
   "execution_count": 19,
   "id": "639d36d1-9a7c-4e69-914c-c48b7a0d0090",
   "metadata": {},
   "outputs": [
    {
     "name": "stdout",
     "output_type": "stream",
     "text": [
      "Square Feet               96.104019\n",
      "Security Deposit          57.758865\n",
      "Review Scores Rating      21.739953\n",
      "Zipcode                    3.394799\n",
      "Beds                       0.340426\n",
      "Bathrooms                  0.321513\n",
      "Bedrooms                   0.170213\n",
      "Price                      0.066194\n",
      "Extra People               0.000000\n",
      "Guests Included            0.000000\n",
      "Neighbourhood Cleansed     0.000000\n",
      "Accommodates               0.000000\n",
      "Room Type                  0.000000\n",
      "Property Type              0.000000\n",
      "Longitude                  0.000000\n",
      "Latitude                   0.000000\n",
      "Cancellation Policy        0.000000\n",
      "dtype: float64\n"
     ]
    }
   ],
   "source": [
    "na_ratio = ((df.isnull().sum() / len(df))*100).sort_values(ascending = False)\n",
    "print(na_ratio)"
   ]
  },
  {
   "cell_type": "markdown",
   "id": "8aae7303-d5c2-4298-8854-6f7763f0482e",
   "metadata": {},
   "source": [
    "Al tener más de un 50% de valores missing en las columnas de Square Feet y Security Deposit las podemos eliminar directamente:"
   ]
  },
  {
   "cell_type": "code",
   "execution_count": 20,
   "id": "b4721e1d-4dd8-40c7-98a6-d8e50742798d",
   "metadata": {},
   "outputs": [],
   "source": [
    "df = df.drop(['Square Feet', 'Security Deposit'], axis=1)"
   ]
  },
  {
   "cell_type": "markdown",
   "id": "a9d09732-158d-4188-93d1-7b841e8a3203",
   "metadata": {},
   "source": [
    "En las variables numericas relleno estos datos con la media y en las variables categoricas los relleno con la moda:"
   ]
  },
  {
   "cell_type": "code",
   "execution_count": 21,
   "id": "e7d417b5-128d-4295-8260-64113dc35d5f",
   "metadata": {},
   "outputs": [
    {
     "name": "stdout",
     "output_type": "stream",
     "text": [
      "valores perdidos en Price: 0\n",
      "valores perdidos en Bedrooms: 0\n",
      "valores perdidos en Beds: 0\n",
      "valores perdidos en Bathrooms : 0\n",
      "Valores perdidos en Review Scores Rating : 0\n",
      "Valores perdidos en Zipcode: 0\n"
     ]
    }
   ],
   "source": [
    "#VARIABLES NUMÉRICAS\n",
    "\n",
    "df['Price'].fillna(df['Price'].mean(), inplace=True)\n",
    "print(\"valores perdidos en Price: \" + \n",
    "      str(df['Price'].isnull().sum()))\n",
    "\n",
    "df['Bedrooms'].fillna(df['Bedrooms'].mean(), inplace=True)\n",
    "print(\"valores perdidos en Bedrooms: \" + \n",
    "      str(df['Bedrooms'].isnull().sum()))\n",
    "\n",
    "df['Beds'].fillna(df['Beds'].mean(), inplace=True)\n",
    "print(\"valores perdidos en Beds: \" + \n",
    "      str(df['Beds'].isnull().sum()))\n",
    "\n",
    "df['Bathrooms'].fillna(df['Bathrooms'].mean(), inplace=True)\n",
    "print(\"valores perdidos en Bathrooms : \" + \n",
    "      str(df['Bathrooms'].isnull().sum()))\n",
    "\n",
    "df['Review Scores Rating'].fillna(df['Review Scores Rating'].mean(), inplace=True)\n",
    "print(\"Valores perdidos en Review Scores Rating : \" + \n",
    "      str(df['Review Scores Rating'].isnull().sum()))\n",
    "\n",
    "#VARIABLES CATEGÓRICAS\n",
    "\n",
    "df['Zipcode'].fillna(df['Zipcode'].mode()[0], inplace=True)\n",
    "print(\"Valores perdidos en Zipcode: \" + \n",
    "      str(df['Zipcode'].isnull().sum()))\n",
    "\n",
    "\n"
   ]
  },
  {
   "cell_type": "markdown",
   "id": "c6026d8a-b002-4f35-a6af-44ca7edfa77a",
   "metadata": {},
   "source": [
    "c)Codifico variables categóricas"
   ]
  },
  {
   "cell_type": "code",
   "execution_count": 22,
   "id": "ad8f9154-6de7-4909-85b3-16d7fb24aeda",
   "metadata": {},
   "outputs": [
    {
     "data": {
      "text/plain": [
       "Neighbourhood Cleansed     object\n",
       "Zipcode                    object\n",
       "Latitude                  float64\n",
       "Longitude                 float64\n",
       "Property Type              object\n",
       "Room Type                  object\n",
       "Accommodates                int64\n",
       "Bathrooms                 float64\n",
       "Bedrooms                  float64\n",
       "Beds                      float64\n",
       "Price                     float64\n",
       "Guests Included             int64\n",
       "Extra People                int64\n",
       "Review Scores Rating      float64\n",
       "Cancellation Policy        object\n",
       "dtype: object"
      ]
     },
     "execution_count": 22,
     "metadata": {},
     "output_type": "execute_result"
    }
   ],
   "source": [
    "df.dtypes"
   ]
  },
  {
   "cell_type": "code",
   "execution_count": 23,
   "id": "27b96421-8c18-4010-83be-250d1317a1f8",
   "metadata": {},
   "outputs": [],
   "source": [
    "from sklearn.preprocessing import LabelEncoder\n",
    "\n",
    "le_Neighbourhood_Cleansed = LabelEncoder()\n",
    "le_Neighbourhood_Cleansed.fit(df['Neighbourhood Cleansed'])\n",
    "df['Neighbourhood Cleansed'] = le_Neighbourhood_Cleansed.transform(df['Neighbourhood Cleansed'])\n",
    "\n",
    "le_Zipcode  = LabelEncoder()\n",
    "le_Zipcode .fit(df['Zipcode'])\n",
    "df['Zipcode'] = le_Zipcode.transform(df['Zipcode'])\n",
    "\n",
    "le_Property_Type = LabelEncoder()\n",
    "le_Property_Type.fit(df['Property Type'])\n",
    "df['Property Type'] = le_Property_Type.transform(df['Property Type'])\n",
    "\n",
    "le_Room_Type = LabelEncoder()\n",
    "le_Room_Type.fit(df['Room Type'])\n",
    "df['Room Type'] = le_Room_Type.transform(df['Room Type'])\n",
    "\n",
    "le_Cancellation_Policy = LabelEncoder()\n",
    "le_Cancellation_Policy.fit(df['Cancellation Policy'])\n",
    "df['Cancellation Policy'] = le_Cancellation_Policy.transform(df['Cancellation Policy'])"
   ]
  },
  {
   "cell_type": "code",
   "execution_count": null,
   "id": "4b97f1e5-e491-424d-ae3a-267fc132469b",
   "metadata": {},
   "outputs": [],
   "source": [
    "d)Eliminar outliers.Vamos a crear filtros para eliminarlos:"
   ]
  },
  {
   "cell_type": "code",
   "execution_count": 24,
   "id": "b9fbc9b0-5b01-4778-a455-cfeabd4d2cc6",
   "metadata": {},
   "outputs": [
    {
     "data": {
      "text/plain": [
       "1.000000     7158\n",
       "2.000000     1861\n",
       "0.000000      734\n",
       "3.000000      589\n",
       "4.000000      152\n",
       "5.000000       41\n",
       "1.290329       18\n",
       "6.000000        9\n",
       "8.000000        5\n",
       "10.000000       4\n",
       "7.000000        4\n",
       "Name: Bedrooms, dtype: int64"
      ]
     },
     "execution_count": 24,
     "metadata": {},
     "output_type": "execute_result"
    }
   ],
   "source": [
    "df[\"Bedrooms\"].value_counts()"
   ]
  },
  {
   "cell_type": "markdown",
   "id": "cdb3ec07-26e5-4947-aa16-b9fdae93d578",
   "metadata": {},
   "source": [
    "Para más de 6 habitaciones empieza a ser una anomalia"
   ]
  },
  {
   "cell_type": "code",
   "execution_count": 25,
   "id": "d55a5013-54e5-4c45-8330-2b2cd70001a8",
   "metadata": {},
   "outputs": [],
   "source": [
    "df_filtered = df[df['Bedrooms'] <= 6]"
   ]
  },
  {
   "cell_type": "code",
   "execution_count": 26,
   "id": "5106a0f1-72d0-47da-8d7a-a296cab417e1",
   "metadata": {},
   "outputs": [
    {
     "data": {
      "text/plain": [
       "1.000000    7158\n",
       "2.000000    1861\n",
       "0.000000     734\n",
       "3.000000     589\n",
       "4.000000     152\n",
       "5.000000      41\n",
       "1.290329      18\n",
       "6.000000       9\n",
       "Name: Bedrooms, dtype: int64"
      ]
     },
     "execution_count": 26,
     "metadata": {},
     "output_type": "execute_result"
    }
   ],
   "source": [
    "df_filtered['Bedrooms'].value_counts()"
   ]
  },
  {
   "cell_type": "code",
   "execution_count": 27,
   "id": "01c70bad-5421-4221-b5b1-e0e11b6ad63e",
   "metadata": {},
   "outputs": [
    {
     "data": {
      "image/png": "[encoded data removed]",
      "text/plain": [
       "<Figure size 432x288 with 1 Axes>"
      ]
     },
     "metadata": {
      "needs_background": "light"
     },
     "output_type": "display_data"
    },
    {
     "data": {
      "image/png": "[encoded data removed]",
      "text/plain": [
       "<Figure size 432x288 with 1 Axes>"
      ]
     },
     "metadata": {
      "needs_background": "light"
     },
     "output_type": "display_data"
    }
   ],
   "source": [
    "df.plot(kind = 'scatter',x='Bedrooms',y = 'Price')\n",
    "plt.xlabel('# bedrooms')\n",
    "plt.ylabel('price ($)')\n",
    "plt.show()\n",
    "\n",
    "df_filtered.plot(kind = 'scatter',x='Bedrooms',y = 'Price')\n",
    "plt.xlabel('# bedrooms')\n",
    "plt.ylabel('price ($)')\n",
    "plt.show()"
   ]
  },
  {
   "cell_type": "code",
   "execution_count": 28,
   "id": "fabc7022-feb5-440b-9207-edb351fbe147",
   "metadata": {},
   "outputs": [
    {
     "name": "stdout",
     "output_type": "stream",
     "text": [
      "Original: 10575\n",
      "Filtered: 10562\n",
      "Diferencia: 0.12293144208037825%\n"
     ]
    }
   ],
   "source": [
    "print(f'Original: {df.shape[0]}\\nFiltered: {df_filtered.shape[0]}')\n",
    "print(f'Diferencia: {(df.shape[0] - df_filtered.shape[0])/df.shape[0]*100}%')"
   ]
  },
  {
   "cell_type": "markdown",
   "id": "7e077dea-f7a6-4594-916c-0b31f6d19e7b",
   "metadata": {},
   "source": [
    "La diferencia no es muy grande lo aceptamos"
   ]
  },
  {
   "cell_type": "code",
   "execution_count": 29,
   "id": "4d606b68-491b-4657-bd2f-72c888929c1d",
   "metadata": {},
   "outputs": [],
   "source": [
    "df = df_filtered"
   ]
  },
  {
   "cell_type": "code",
   "execution_count": null,
   "id": "357f1ab4-89f5-42d7-9886-210e1e66b9de",
   "metadata": {},
   "outputs": [],
   "source": []
  },
  {
   "cell_type": "markdown",
   "id": "24b3f352-6051-4559-9dfd-5c48b7b53082",
   "metadata": {},
   "source": [
    "e)Eliminar variables con una correlación alta."
   ]
  },
  {
   "cell_type": "code",
   "execution_count": 30,
   "id": "dfe6a26e-f063-4c38-a01c-68ceb1b9eb75",
   "metadata": {},
   "outputs": [
    {
     "data": {
      "image/png": "[encoded data removed]",
      "text/plain": [
       "<Figure size 864x720 with 2 Axes>"
      ]
     },
     "metadata": {
      "needs_background": "light"
     },
     "output_type": "display_data"
    }
   ],
   "source": [
    "import seaborn as sns\n",
    "\n",
    "# Compute the correlation matrix\n",
    "corr = np.abs(df.drop(['Price'], axis=1).corr())\n",
    "\n",
    "# Generate a mask for the upper triangle\n",
    "mask = np.zeros_like(corr, dtype=np.bool)\n",
    "mask[np.triu_indices_from(mask)] = True\n",
    "\n",
    "# Set up the matplotlib figure\n",
    "f, ax = plt.subplots(figsize=(12, 10))\n",
    "\n",
    "# Draw the heatmap with the mask and correct aspect ratio\n",
    "sns.heatmap(corr, mask=mask,vmin = 0.0, vmax=1.0, center=0.5,\n",
    "            linewidths=.1, cmap=\"YlGnBu\", cbar_kws={\"shrink\": .8})\n",
    "\n",
    "plt.show()"
   ]
  },
  {
   "cell_type": "markdown",
   "id": "e36be5ea-d18d-495d-bbfb-07445deaacf9",
   "metadata": {},
   "source": [
    "Observamos una alta correlación entre Beds y Accommodates"
   ]
  },
  {
   "cell_type": "code",
   "execution_count": 31,
   "id": "e5af0a5f-d54c-4f61-9747-68d244fc4b3b",
   "metadata": {},
   "outputs": [
    {
     "data": {
      "image/png": "[encoded data removed]",
      "text/plain": [
       "<Figure size 432x288 with 1 Axes>"
      ]
     },
     "metadata": {
      "needs_background": "light"
     },
     "output_type": "display_data"
    }
   ],
   "source": [
    "df.plot(kind = 'scatter',x='Beds',y = 'Accommodates')\n",
    "plt.xlabel('# Beds')\n",
    "plt.ylabel('Accommodates')\n",
    "plt.show()"
   ]
  },
  {
   "cell_type": "markdown",
   "id": "a2ae4321-8671-4984-9bc9-525bfc2f5a19",
   "metadata": {},
   "source": [
    "Beds y Accommodates logicamente están muy correlacionadas, podemos eliminar cualquiera de ellas:"
   ]
  },
  {
   "cell_type": "code",
   "execution_count": 32,
   "id": "0dc2ad5d-c3ed-4f32-b55a-a6d8d4cd29ff",
   "metadata": {},
   "outputs": [],
   "source": [
    "df = df.drop(['Beds'], axis=1)"
   ]
  },
  {
   "cell_type": "markdown",
   "id": "1de7d1c4-b312-495b-b7ed-08b549f3e598",
   "metadata": {},
   "source": [
    "f)Generar variables nuevas que me puedan ayudar."
   ]
  },
  {
   "cell_type": "code",
   "execution_count": 33,
   "id": "347ba748-150e-45e7-9d01-816818f13a8d",
   "metadata": {},
   "outputs": [],
   "source": [
    "df['bedrooms_squared'] = df['Bedrooms'].apply(lambda x: x**2)\n",
    "df['bed_bath_rooms']  = df['Bedrooms']*df['Bathrooms']"
   ]
  },
  {
   "cell_type": "code",
   "execution_count": 34,
   "id": "18e67eae-0499-4ceb-b2a8-4d64d2b114f3",
   "metadata": {},
   "outputs": [
    {
     "data": {
      "text/plain": [
       "Index(['Neighbourhood Cleansed', 'Zipcode', 'Latitude', 'Longitude',\n",
       "       'Property Type', 'Room Type', 'Accommodates', 'Bathrooms', 'Bedrooms',\n",
       "       'Price', 'Guests Included', 'Extra People', 'Review Scores Rating',\n",
       "       'Cancellation Policy', 'bedrooms_squared', 'bed_bath_rooms'],\n",
       "      dtype='object')"
      ]
     },
     "execution_count": 34,
     "metadata": {},
     "output_type": "execute_result"
    }
   ],
   "source": [
    "df.columns"
   ]
  },
  {
   "cell_type": "markdown",
   "id": "f6c0da02-93f5-4f6d-a63a-863966d47d95",
   "metadata": {},
   "source": [
    "4)MODELADO"
   ]
  },
  {
   "cell_type": "markdown",
   "id": "48a952f8-4db8-4033-a2fe-63f008909cd3",
   "metadata": {},
   "source": [
    "Vamos a colocar nuestra variable de estudio Price en primera posición:"
   ]
  },
  {
   "cell_type": "code",
   "execution_count": 35,
   "id": "089f54b9-0e3a-4fb7-a056-6f06d86cbedb",
   "metadata": {},
   "outputs": [],
   "source": [
    "df = df.reindex(columns=['Price','Neighbourhood Cleansed', 'Zipcode', 'Latitude', 'Longitude',\n",
    "       'Property Type', 'Room Type', 'Accommodates', 'Bathrooms', 'Bedrooms','Guests Included', 'Extra People', 'Review Scores Rating',\n",
    "       'Cancellation Policy', 'bedrooms_squared', 'bed_bath_rooms'])"
   ]
  },
  {
   "cell_type": "code",
   "execution_count": 36,
   "id": "6e34b07a-f827-433e-8d6d-284f793bb01c",
   "metadata": {},
   "outputs": [
    {
     "data": {
      "text/plain": [
       "Index(['Price', 'Neighbourhood Cleansed', 'Zipcode', 'Latitude', 'Longitude',\n",
       "       'Property Type', 'Room Type', 'Accommodates', 'Bathrooms', 'Bedrooms',\n",
       "       'Guests Included', 'Extra People', 'Review Scores Rating',\n",
       "       'Cancellation Policy', 'bedrooms_squared', 'bed_bath_rooms'],\n",
       "      dtype='object')"
      ]
     },
     "execution_count": 36,
     "metadata": {},
     "output_type": "execute_result"
    }
   ],
   "source": [
    "df.columns"
   ]
  },
  {
   "cell_type": "code",
   "execution_count": 37,
   "id": "e8a8f6da-d14b-49f7-be57-f67625282ba8",
   "metadata": {},
   "outputs": [],
   "source": [
    "#CONVERTIMOS EL DATAFRAME AL FORMATO NECESARIO PARA SCIKIT-LEARN\n",
    "\n",
    "from sklearn import preprocessing\n",
    "\n",
    "data = df.values\n",
    "y_train = data[:,0:1]     # nos quedamos con la 1ª columna, price\n",
    "X_train = data[:,1:]      # nos quedamos con el resto\n",
    "feature_names = df.columns[1:]\n",
    "\n",
    "# Escalamos (con los datos de train)\n",
    "scaler = preprocessing.StandardScaler().fit(X_train)\n",
    "XtrainScaled = scaler.transform(X_train)"
   ]
  },
  {
   "cell_type": "code",
   "execution_count": 38,
   "id": "43479572-9f27-4496-b75b-190a1bec3678",
   "metadata": {},
   "outputs": [
    {
     "name": "stdout",
     "output_type": "stream",
     "text": [
      "valores perdidos en Price: 0\n",
      "valores perdidos en Bedrooms: 0\n",
      "valores perdidos en Beds: 0\n",
      "valores perdidos en Bathrooms : 0\n",
      "Valores perdidos en Review Scores Rating : 0\n",
      "Valores perdidos en Zipcode: 0\n"
     ]
    }
   ],
   "source": [
    "#CARGAMOS LOS DATOS DE EVALUACION:\n",
    "\n",
    "df_test = pd.read_csv('C:/Users/vero/Desktop/BOOTCAMP9/machine-learning/project/test.csv', sep=';', decimal='.')\n",
    "\n",
    "# LE APLICAMOS LAS MISMAS TRANSFORMACIONES QUE A TRAIN:\n",
    "\n",
    "#1.ELIMINO LAS VARIABLES POR APORTAR POCO O SER DIFICILMENTE CODIFICABLES:\n",
    "df_test = df_test.drop(['ID', 'Listing Url', 'Scrape ID', 'Last Scraped', 'Name', 'Summary',\n",
    "       'Space', 'Description', 'Experiences Offered', 'Neighborhood Overview',\n",
    "       'Notes', 'Transit', 'Access', 'Interaction', 'House Rules',\n",
    "       'Thumbnail Url', 'Medium Url', 'Picture Url', 'XL Picture Url',\n",
    "       'Host ID', 'Host URL', 'Host Name', 'Host Since', 'Host Location',\n",
    "       'Host About', 'Host Response Time', 'Host Response Rate',\n",
    "       'Host Acceptance Rate', 'Host Thumbnail Url', 'Host Picture Url',\n",
    "       'Host Neighbourhood', 'Host Listings Count',\n",
    "       'Host Total Listings Count', 'Host Verifications', 'Street',\n",
    "       'Neighbourhood', \n",
    "       'Neighbourhood Group Cleansed',  'State',  'Market',\n",
    "       'Smart Location', 'Country Code', 'Country', \n",
    "       \n",
    "        'Bed Type', 'Amenities',  'Weekly Price',\n",
    "       'Monthly Price',  'Cleaning Fee', \n",
    "        'Minimum Nights', 'Maximum Nights', 'Calendar Updated',\n",
    "       'Has Availability', 'Availability 30', 'Availability 60',\n",
    "       'Availability 90', 'Availability 365', 'Calendar last Scraped',\n",
    "       'Number of Reviews', 'First Review', 'Last Review',\n",
    "        'Review Scores Accuracy',\n",
    "       'Review Scores Cleanliness', 'Review Scores Checkin',\n",
    "       'Review Scores Communication', 'Review Scores Location',\n",
    "       'Review Scores Value', 'License', 'Jurisdiction Names',\n",
    "        'Calculated host listings count',\n",
    "       'Reviews per Month', 'Geolocation', 'Features' ], axis=1)\n",
    "\n",
    "#2.ME QUEDO CON LOS DATOS DE MADRID:\n",
    "df_test = df_test.drop(df_test[df_test['City']!= \"Madrid\"].index)\n",
    "\n",
    "#3.elimino City:\n",
    "df_test = df_test.drop(['City'], axis=1)\n",
    "\n",
    "#4.Elimino Square Feet y Security Depost por tener más del 50% de valores nulos:\n",
    "\n",
    "df_test =df_test.drop(['Square Feet', 'Security Deposit'], axis=1)\n",
    "\n",
    "#5.Imputo valores ausentes:\n",
    "#VARIABLES NUMÉRICAS\n",
    "\n",
    "df_test['Price'].fillna(df_test['Price'].mean(), inplace=True)\n",
    "print(\"valores perdidos en Price: \" + \n",
    "      str(df_test['Price'].isnull().sum()))\n",
    "\n",
    "df_test['Bedrooms'].fillna(df_test['Bedrooms'].mean(), inplace=True)\n",
    "print(\"valores perdidos en Bedrooms: \" + \n",
    "      str(df_test['Bedrooms'].isnull().sum()))\n",
    "\n",
    "df_test['Beds'].fillna(df_test['Beds'].mean(), inplace=True)\n",
    "print(\"valores perdidos en Beds: \" + \n",
    "      str(df_test['Beds'].isnull().sum()))\n",
    "\n",
    "df_test['Bathrooms'].fillna(df_test['Bathrooms'].mean(), inplace=True)\n",
    "print(\"valores perdidos en Bathrooms : \" + \n",
    "      str(df_test['Bathrooms'].isnull().sum()))\n",
    "\n",
    "df_test['Review Scores Rating'].fillna(df_test['Review Scores Rating'].mean(), inplace=True)\n",
    "print(\"Valores perdidos en Review Scores Rating : \" + \n",
    "      str(df_test['Review Scores Rating'].isnull().sum()))\n",
    "\n",
    "#VARIABLES CATEGÓRICAS\n",
    "\n",
    "df_test['Zipcode'].fillna(df_test['Zipcode'].mode()[0], inplace=True)\n",
    "print(\"Valores perdidos en Zipcode: \" + \n",
    "      str(df_test['Zipcode'].isnull().sum()))\n",
    "\n",
    "#6.CODIFICO VARIABLES CATEGORICAS\n",
    "from sklearn.preprocessing import LabelEncoder\n",
    "\n",
    "le_Neighbourhood_Cleansed = LabelEncoder()\n",
    "le_Neighbourhood_Cleansed.fit(df_test['Neighbourhood Cleansed'])\n",
    "df_test['Neighbourhood Cleansed'] = le_Neighbourhood_Cleansed.transform(df_test['Neighbourhood Cleansed'])\n",
    "\n",
    "le_Zipcode  = LabelEncoder()\n",
    "le_Zipcode .fit(df_test['Zipcode'])\n",
    "df_test['Zipcode'] = le_Zipcode.transform(df_test['Zipcode'])\n",
    "\n",
    "le_Property_Type = LabelEncoder()\n",
    "le_Property_Type.fit(df_test['Property Type'])\n",
    "df_test['Property Type'] = le_Property_Type.transform(df_test['Property Type'])\n",
    "\n",
    "le_Room_Type = LabelEncoder()\n",
    "le_Room_Type.fit(df_test['Room Type'])\n",
    "df_test['Room Type'] = le_Room_Type.transform(df_test['Room Type'])\n",
    "\n",
    "le_Cancellation_Policy = LabelEncoder()\n",
    "le_Cancellation_Policy.fit(df_test['Cancellation Policy'])\n",
    "df_test['Cancellation Policy'] = le_Cancellation_Policy.transform(df_test['Cancellation Policy'])\n",
    "\n",
    "#Filtro para eliminar outliers:\n",
    "df_test_filtered = df_test[df_test['Bedrooms'] <= 6]\n",
    "df_test = df_test_filtered\n",
    "\n",
    "#Elimino Beds por alta correlación con Accomodates:\n",
    "df_test = df_test.drop(['Beds'], axis=1)\n",
    "\n",
    "#Genero variables nuevas:\n",
    "\n",
    "df_test['bedrooms_squared'] = df_test['Bedrooms'].apply(lambda x: x**2)\n",
    "df_test['bed_bath_rooms']  = df_test['Bedrooms']*df_test['Bathrooms']\n",
    "\n",
    "\n",
    "\n",
    "#CONVERTIMOS EL DATAFRAME AL FORMATO NECESARIO PARA SCIKIT-LEARN\n",
    "\n",
    "data_test = df_test.values\n",
    "y_test = data_test[:,0:1]     # nos quedamos con la 1ª columna, price\n",
    "X_test = data_test[:,1:]      # nos quedamos con el resto\n",
    "feature_names_test = df_test.columns[1:]\n",
    "\n",
    "# recordad que esta normalización/escalado la realizo con el scaler anterior, basado en los datos de training!\n",
    "XtestScaled = scaler.transform(X_test) "
   ]
  },
  {
   "cell_type": "markdown",
   "id": "990f2394-516e-4856-a4a7-79aad6d0f08e",
   "metadata": {},
   "source": [
    "1º)ÁRBOL DE DECISIÓN (Buena interpretabilidad y poca precisión)"
   ]
  },
  {
   "cell_type": "code",
   "execution_count": 39,
   "id": "1c811b1c-99ac-4f15-a36f-8e1d61ae30c6",
   "metadata": {},
   "outputs": [
    {
     "name": "stdout",
     "output_type": "stream",
     "text": [
      "best mean cross-validation score: 0.502\n",
      "best parameters: {'max_depth': 7}\n"
     ]
    },
    {
     "data": {
      "image/png": "[encoded data removed]",
      "text/plain": [
       "<Figure size 432x288 with 1 Axes>"
      ]
     },
     "metadata": {
      "needs_background": "light"
     },
     "output_type": "display_data"
    }
   ],
   "source": [
    "#IMPORTAMOS DECISSIONTREEREGRESSOR\n",
    "\n",
    "from sklearn.tree import DecisionTreeRegressor\n",
    "#LE APLICAMOS CROSS VALIDATION\n",
    "from sklearn.model_selection import GridSearchCV\n",
    "from sklearn import tree\n",
    "\n",
    "\n",
    "maxDepth = range(1,15)\n",
    "param_grid = {'max_depth': maxDepth }\n",
    "grid = GridSearchCV(DecisionTreeRegressor(random_state=0), param_grid=param_grid, cv = 10)\n",
    "grid.fit(X_train, y_train)\n",
    "print(\"best mean cross-validation score: {:.3f}\".format(grid.best_score_))\n",
    "print(\"best parameters: {}\".format(grid.best_params_))\n",
    "\n",
    "scores = np.array(grid.cv_results_['mean_test_score'])\n",
    "plt.plot(maxDepth,scores,'-o')\n",
    "plt.xlabel('max_depth',fontsize=16)\n",
    "plt.ylabel('10-Fold MSE')\n",
    "#plt.ylim((-1, 0))\n",
    "plt.show()"
   ]
  },
  {
   "cell_type": "markdown",
   "id": "291e65d7-a266-4d95-a404-0b222aa98376",
   "metadata": {},
   "source": [
    "Encontramos el máximo en 7, pero en 5-6-7 apenas cambia la MSE, Así que me quedo con 5 para disminuir la complejidad y evitar el overfiting."
   ]
  },
  {
   "cell_type": "code",
   "execution_count": 41,
   "id": "26085069-2366-457a-8568-86467043c96f",
   "metadata": {},
   "outputs": [
    {
     "name": "stdout",
     "output_type": "stream",
     "text": [
      "Train:  0.5617181471468757\n",
      "Test:  -3.6028199854702097\n"
     ]
    }
   ],
   "source": [
    "maxDepthOptimo = 5 #grid.best_params_['max_depth']\n",
    "treeModel = DecisionTreeRegressor(max_depth=maxDepthOptimo).fit(X_train,y_train)\n",
    "\n",
    "print(\"Train: \",treeModel.score(X_train,y_train))\n",
    "print(\"Test: \",treeModel.score(X_test,y_test))"
   ]
  },
  {
   "cell_type": "markdown",
   "id": "8a24b0a2-ec80-490e-a741-3b9238e8e481",
   "metadata": {},
   "source": [
    "!!!!!En test obtenemos un valor negativo!!!!!!!!!"
   ]
  },
  {
   "cell_type": "code",
   "execution_count": 42,
   "id": "19eec99b-7872-4684-84cd-c7a9e8a36c77",
   "metadata": {},
   "outputs": [
    {
     "data": {
      "image/svg+xml": [
       "<?xml version=\"1.0\" encoding=\"UTF-8\" standalone=\"no\"?>\r\n",
       "<!DOCTYPE svg PUBLIC \"-//W3C//DTD SVG 1.1//EN\"\r\n",
       " \"http://www.w3.org/Graphics/SVG/1.1/DTD/svg11.dtd\">\r\n",
       "<!-- Generated by graphviz version 2.38.0 (20140413.2041)\r\n",
       " -->\r\n",
       "<!-- Title: Tree Pages: 1 -->\r\n",
       "<svg width=\"5001pt\" height=\"581pt\"\r\n",
       " viewBox=\"0.00 0.00 5001.00 581.00\" xmlns=\"http://www.w3.org/2000/svg\" xmlns:xlink=\"http://www.w3.org/1999/xlink\">\r\n",
       "<g id=\"graph0\" class=\"graph\" transform=\"scale(1 1) rotate(0) translate(4 577)\">\r\n",
       "<title>Tree</title>\r\n",
       "<polygon fill=\"white\" stroke=\"none\" points=\"-4,4 -4,-577 4997,-577 4997,4 -4,4\"/>\r\n",
       "<!-- 0 -->\r\n",
       "<g id=\"node1\" class=\"node\"><title>0</title>\r\n",
       "<path fill=\"#fdf8f3\" stroke=\"black\" d=\"M2061,-573C2061,-573 1901,-573 1901,-573 1895,-573 1889,-567 1889,-561 1889,-561 1889,-517 1889,-517 1889,-511 1895,-505 1901,-505 1901,-505 2061,-505 2061,-505 2067,-505 2073,-511 2073,-517 2073,-517 2073,-561 2073,-561 2073,-567 2067,-573 2061,-573\"/>\r\n",
       "<text text-anchor=\"start\" x=\"1904.5\" y=\"-557.8\" font-family=\"Helvetica,sans-Serif\" font-size=\"14.00\">bed_bath_rooms ≤ 3.87</text>\r\n",
       "<text text-anchor=\"start\" x=\"1897\" y=\"-542.8\" font-family=\"Helvetica,sans-Serif\" font-size=\"14.00\">squared_error = 2987.399</text>\r\n",
       "<text text-anchor=\"start\" x=\"1925\" y=\"-527.8\" font-family=\"Helvetica,sans-Serif\" font-size=\"14.00\">samples = 10562</text>\r\n",
       "<text text-anchor=\"start\" x=\"1934\" y=\"-512.8\" font-family=\"Helvetica,sans-Serif\" font-size=\"14.00\">value = 65.606</text>\r\n",
       "</g>\r\n",
       "<!-- 1 -->\r\n",
       "<g id=\"node2\" class=\"node\"><title>1</title>\r\n",
       "<path fill=\"#fefaf7\" stroke=\"black\" d=\"M1502,-469C1502,-469 1342,-469 1342,-469 1336,-469 1330,-463 1330,-457 1330,-457 1330,-413 1330,-413 1330,-407 1336,-401 1342,-401 1342,-401 1502,-401 1502,-401 1508,-401 1514,-407 1514,-413 1514,-413 1514,-457 1514,-457 1514,-463 1508,-469 1502,-469\"/>\r\n",
       "<text text-anchor=\"start\" x=\"1366.5\" y=\"-453.8\" font-family=\"Helvetica,sans-Serif\" font-size=\"14.00\">Room Type ≤ 0.5</text>\r\n",
       "<text text-anchor=\"start\" x=\"1338\" y=\"-438.8\" font-family=\"Helvetica,sans-Serif\" font-size=\"14.00\">squared_error = 1429.203</text>\r\n",
       "<text text-anchor=\"start\" x=\"1370.5\" y=\"-423.8\" font-family=\"Helvetica,sans-Serif\" font-size=\"14.00\">samples = 9293</text>\r\n",
       "<text text-anchor=\"start\" x=\"1375\" y=\"-408.8\" font-family=\"Helvetica,sans-Serif\" font-size=\"14.00\">value = 55.329</text>\r\n",
       "</g>\r\n",
       "<!-- 0&#45;&gt;1 -->\r\n",
       "<g id=\"edge1\" class=\"edge\"><title>0&#45;&gt;1</title>\r\n",
       "<path fill=\"none\" stroke=\"black\" d=\"M1888.69,-521.157C1788.36,-502.848 1628.45,-473.671 1524.34,-454.674\"/>\r\n",
       "<polygon fill=\"black\" stroke=\"black\" points=\"1524.91,-451.22 1514.44,-452.868 1523.65,-458.107 1524.91,-451.22\"/>\r\n",
       "<text text-anchor=\"middle\" x=\"1528.66\" y=\"-469.732\" font-family=\"Helvetica,sans-Serif\" font-size=\"14.00\">True</text>\r\n",
       "</g>\r\n",
       "<!-- 24 -->\r\n",
       "<g id=\"node25\" class=\"node\"><title>24</title>\r\n",
       "<path fill=\"#fae9dc\" stroke=\"black\" d=\"M2730,-469C2730,-469 2570,-469 2570,-469 2564,-469 2558,-463 2558,-457 2558,-457 2558,-413 2558,-413 2558,-407 2564,-401 2570,-401 2570,-401 2730,-401 2730,-401 2736,-401 2742,-407 2742,-413 2742,-413 2742,-457 2742,-457 2742,-463 2736,-469 2730,-469\"/>\r\n",
       "<text text-anchor=\"start\" x=\"2577.5\" y=\"-453.8\" font-family=\"Helvetica,sans-Serif\" font-size=\"14.00\">bed_bath_rooms ≤ 8.5</text>\r\n",
       "<text text-anchor=\"start\" x=\"2566\" y=\"-438.8\" font-family=\"Helvetica,sans-Serif\" font-size=\"14.00\">squared_error = 7960.776</text>\r\n",
       "<text text-anchor=\"start\" x=\"2598.5\" y=\"-423.8\" font-family=\"Helvetica,sans-Serif\" font-size=\"14.00\">samples = 1269</text>\r\n",
       "<text text-anchor=\"start\" x=\"2598.5\" y=\"-408.8\" font-family=\"Helvetica,sans-Serif\" font-size=\"14.00\">value = 140.866</text>\r\n",
       "</g>\r\n",
       "<!-- 0&#45;&gt;24 -->\r\n",
       "<g id=\"edge24\" class=\"edge\"><title>0&#45;&gt;24</title>\r\n",
       "<path fill=\"none\" stroke=\"black\" d=\"M2073.32,-523.924C2197.77,-504.949 2418.63,-471.276 2547.91,-451.565\"/>\r\n",
       "<polygon fill=\"black\" stroke=\"black\" points=\"2548.47,-455.021 2557.82,-450.054 2547.41,-448.101 2548.47,-455.021\"/>\r\n",
       "<text text-anchor=\"middle\" x=\"2543.01\" y=\"-466.494\" font-family=\"Helvetica,sans-Serif\" font-size=\"14.00\">False</text>\r\n",
       "</g>\r\n",
       "<!-- 2 -->\r\n",
       "<g id=\"node3\" class=\"node\"><title>2</title>\r\n",
       "<path fill=\"#fdf6f1\" stroke=\"black\" d=\"M853,-365C853,-365 693,-365 693,-365 687,-365 681,-359 681,-353 681,-353 681,-309 681,-309 681,-303 687,-297 693,-297 693,-297 853,-297 853,-297 859,-297 865,-303 865,-309 865,-309 865,-353 865,-353 865,-359 859,-365 853,-365\"/>\r\n",
       "<text text-anchor=\"start\" x=\"692.5\" y=\"-349.8\" font-family=\"Helvetica,sans-Serif\" font-size=\"14.00\">bed_bath_rooms ≤ 1.395</text>\r\n",
       "<text text-anchor=\"start\" x=\"689\" y=\"-334.8\" font-family=\"Helvetica,sans-Serif\" font-size=\"14.00\">squared_error = 1059.371</text>\r\n",
       "<text text-anchor=\"start\" x=\"721.5\" y=\"-319.8\" font-family=\"Helvetica,sans-Serif\" font-size=\"14.00\">samples = 5149</text>\r\n",
       "<text text-anchor=\"start\" x=\"730\" y=\"-304.8\" font-family=\"Helvetica,sans-Serif\" font-size=\"14.00\">value = 72.65</text>\r\n",
       "</g>\r\n",
       "<!-- 1&#45;&gt;2 -->\r\n",
       "<g id=\"edge2\" class=\"edge\"><title>1&#45;&gt;2</title>\r\n",
       "<path fill=\"none\" stroke=\"black\" d=\"M1329.7,-419.494C1209.51,-400.604 1000.07,-367.687 875.196,-348.062\"/>\r\n",
       "<polygon fill=\"black\" stroke=\"black\" points=\"875.663,-344.592 865.241,-346.497 874.576,-351.507 875.663,-344.592\"/>\r\n",
       "</g>\r\n",
       "<!-- 15 -->\r\n",
       "<g id=\"node16\" class=\"node\"><title>15</title>\r\n",
       "<path fill=\"#fffefd\" stroke=\"black\" d=\"M1502,-365C1502,-365 1342,-365 1342,-365 1336,-365 1330,-359 1330,-353 1330,-353 1330,-309 1330,-309 1330,-303 1336,-297 1342,-297 1342,-297 1502,-297 1502,-297 1508,-297 1514,-303 1514,-309 1514,-309 1514,-353 1514,-353 1514,-359 1508,-365 1502,-365\"/>\r\n",
       "<text text-anchor=\"start\" x=\"1362\" y=\"-349.8\" font-family=\"Helvetica,sans-Serif\" font-size=\"14.00\">Longitude ≤ &#45;3.803</text>\r\n",
       "<text text-anchor=\"start\" x=\"1338\" y=\"-334.8\" font-family=\"Helvetica,sans-Serif\" font-size=\"14.00\">squared_error = 1052.733</text>\r\n",
       "<text text-anchor=\"start\" x=\"1370.5\" y=\"-319.8\" font-family=\"Helvetica,sans-Serif\" font-size=\"14.00\">samples = 4144</text>\r\n",
       "<text text-anchor=\"start\" x=\"1375\" y=\"-304.8\" font-family=\"Helvetica,sans-Serif\" font-size=\"14.00\">value = 33.807</text>\r\n",
       "</g>\r\n",
       "<!-- 1&#45;&gt;15 -->\r\n",
       "<g id=\"edge15\" class=\"edge\"><title>1&#45;&gt;15</title>\r\n",
       "<path fill=\"none\" stroke=\"black\" d=\"M1422,-400.884C1422,-392.778 1422,-383.982 1422,-375.472\"/>\r\n",
       "<polygon fill=\"black\" stroke=\"black\" points=\"1425.5,-375.299 1422,-365.299 1418.5,-375.299 1425.5,-375.299\"/>\r\n",
       "</g>\r\n",
       "<!-- 3 -->\r\n",
       "<g id=\"node4\" class=\"node\"><title>3</title>\r\n",
       "<path fill=\"#fdf7f3\" stroke=\"black\" d=\"M544,-261C544,-261 392,-261 392,-261 386,-261 380,-255 380,-249 380,-249 380,-205 380,-205 380,-199 386,-193 392,-193 392,-193 544,-193 544,-193 550,-193 556,-199 556,-205 556,-205 556,-249 556,-249 556,-255 550,-261 544,-261\"/>\r\n",
       "<text text-anchor=\"start\" x=\"401\" y=\"-245.8\" font-family=\"Helvetica,sans-Serif\" font-size=\"14.00\">Extra People ≤ 175.0</text>\r\n",
       "<text text-anchor=\"start\" x=\"388\" y=\"-230.8\" font-family=\"Helvetica,sans-Serif\" font-size=\"14.00\">squared_error = 723.738</text>\r\n",
       "<text text-anchor=\"start\" x=\"416.5\" y=\"-215.8\" font-family=\"Helvetica,sans-Serif\" font-size=\"14.00\">samples = 3615</text>\r\n",
       "<text text-anchor=\"start\" x=\"421\" y=\"-200.8\" font-family=\"Helvetica,sans-Serif\" font-size=\"14.00\">value = 67.086</text>\r\n",
       "</g>\r\n",
       "<!-- 2&#45;&gt;3 -->\r\n",
       "<g id=\"edge3\" class=\"edge\"><title>2&#45;&gt;3</title>\r\n",
       "<path fill=\"none\" stroke=\"black\" d=\"M680.662,-299.12C644.368,-286.982 602.66,-273.034 565.848,-260.723\"/>\r\n",
       "<polygon fill=\"black\" stroke=\"black\" points=\"566.698,-257.317 556.104,-257.464 564.478,-263.955 566.698,-257.317\"/>\r\n",
       "</g>\r\n",
       "<!-- 8 -->\r\n",
       "<g id=\"node9\" class=\"node\"><title>8</title>\r\n",
       "<path fill=\"#fdf4ed\" stroke=\"black\" d=\"M853,-261C853,-261 693,-261 693,-261 687,-261 681,-255 681,-249 681,-249 681,-205 681,-205 681,-199 687,-193 693,-193 693,-193 853,-193 853,-193 859,-193 865,-199 865,-205 865,-205 865,-249 865,-249 865,-255 859,-261 853,-261\"/>\r\n",
       "<text text-anchor=\"start\" x=\"724.5\" y=\"-245.8\" font-family=\"Helvetica,sans-Serif\" font-size=\"14.00\">Zipcode ≤ 23.5</text>\r\n",
       "<text text-anchor=\"start\" x=\"689\" y=\"-230.8\" font-family=\"Helvetica,sans-Serif\" font-size=\"14.00\">squared_error = 1605.405</text>\r\n",
       "<text text-anchor=\"start\" x=\"721.5\" y=\"-215.8\" font-family=\"Helvetica,sans-Serif\" font-size=\"14.00\">samples = 1534</text>\r\n",
       "<text text-anchor=\"start\" x=\"726\" y=\"-200.8\" font-family=\"Helvetica,sans-Serif\" font-size=\"14.00\">value = 85.763</text>\r\n",
       "</g>\r\n",
       "<!-- 2&#45;&gt;8 -->\r\n",
       "<g id=\"edge8\" class=\"edge\"><title>2&#45;&gt;8</title>\r\n",
       "<path fill=\"none\" stroke=\"black\" d=\"M773,-296.884C773,-288.778 773,-279.982 773,-271.472\"/>\r\n",
       "<polygon fill=\"black\" stroke=\"black\" points=\"776.5,-271.299 773,-261.299 769.5,-271.299 776.5,-271.299\"/>\r\n",
       "</g>\r\n",
       "<!-- 4 -->\r\n",
       "<g id=\"node5\" class=\"node\"><title>4</title>\r\n",
       "<path fill=\"#fdf7f3\" stroke=\"black\" d=\"M358,-157C358,-157 206,-157 206,-157 200,-157 194,-151 194,-145 194,-145 194,-101 194,-101 194,-95 200,-89 206,-89 206,-89 358,-89 358,-89 364,-89 370,-95 370,-101 370,-101 370,-145 370,-145 370,-151 364,-157 358,-157\"/>\r\n",
       "<text text-anchor=\"start\" x=\"226.5\" y=\"-141.8\" font-family=\"Helvetica,sans-Serif\" font-size=\"14.00\">Latitude ≤ 40.411</text>\r\n",
       "<text text-anchor=\"start\" x=\"202\" y=\"-126.8\" font-family=\"Helvetica,sans-Serif\" font-size=\"14.00\">squared_error = 672.066</text>\r\n",
       "<text text-anchor=\"start\" x=\"230.5\" y=\"-111.8\" font-family=\"Helvetica,sans-Serif\" font-size=\"14.00\">samples = 3614</text>\r\n",
       "<text text-anchor=\"start\" x=\"235\" y=\"-96.8\" font-family=\"Helvetica,sans-Serif\" font-size=\"14.00\">value = 66.966</text>\r\n",
       "</g>\r\n",
       "<!-- 3&#45;&gt;4 -->\r\n",
       "<g id=\"edge4\" class=\"edge\"><title>3&#45;&gt;4</title>\r\n",
       "<path fill=\"none\" stroke=\"black\" d=\"M407.611,-192.884C389.653,-183.035 369.837,-172.169 351.355,-162.034\"/>\r\n",
       "<polygon fill=\"black\" stroke=\"black\" points=\"352.855,-158.864 342.404,-157.125 349.489,-165.002 352.855,-158.864\"/>\r\n",
       "</g>\r\n",
       "<!-- 7 -->\r\n",
       "<g id=\"node8\" class=\"node\"><title>7</title>\r\n",
       "<path fill=\"#eca36e\" stroke=\"black\" d=\"M529.5,-149.5C529.5,-149.5 406.5,-149.5 406.5,-149.5 400.5,-149.5 394.5,-143.5 394.5,-137.5 394.5,-137.5 394.5,-108.5 394.5,-108.5 394.5,-102.5 400.5,-96.5 406.5,-96.5 406.5,-96.5 529.5,-96.5 529.5,-96.5 535.5,-96.5 541.5,-102.5 541.5,-108.5 541.5,-108.5 541.5,-137.5 541.5,-137.5 541.5,-143.5 535.5,-149.5 529.5,-149.5\"/>\r\n",
       "<text text-anchor=\"start\" x=\"402.5\" y=\"-134.3\" font-family=\"Helvetica,sans-Serif\" font-size=\"14.00\">squared_error = &#45;0.0</text>\r\n",
       "<text text-anchor=\"start\" x=\"428.5\" y=\"-119.3\" font-family=\"Helvetica,sans-Serif\" font-size=\"14.00\">samples = 1</text>\r\n",
       "<text text-anchor=\"start\" x=\"425\" y=\"-104.3\" font-family=\"Helvetica,sans-Serif\" font-size=\"14.00\">value = 500.0</text>\r\n",
       "</g>\r\n",
       "<!-- 3&#45;&gt;7 -->\r\n",
       "<g id=\"edge7\" class=\"edge\"><title>3&#45;&gt;7</title>\r\n",
       "<path fill=\"none\" stroke=\"black\" d=\"M468,-192.884C468,-182.326 468,-170.597 468,-159.854\"/>\r\n",
       "<polygon fill=\"black\" stroke=\"black\" points=\"471.5,-159.52 468,-149.52 464.5,-159.52 471.5,-159.52\"/>\r\n",
       "</g>\r\n",
       "<!-- 5 -->\r\n",
       "<g id=\"node6\" class=\"node\"><title>5</title>\r\n",
       "<path fill=\"#fef9f6\" stroke=\"black\" d=\"M164,-53C164,-53 12,-53 12,-53 6,-53 0,-47 0,-41 0,-41 0,-12 0,-12 0,-6 6,-0 12,-0 12,-0 164,-0 164,-0 170,-0 176,-6 176,-12 176,-12 176,-41 176,-41 176,-47 170,-53 164,-53\"/>\r\n",
       "<text text-anchor=\"start\" x=\"8\" y=\"-37.8\" font-family=\"Helvetica,sans-Serif\" font-size=\"14.00\">squared_error = 307.588</text>\r\n",
       "<text text-anchor=\"start\" x=\"40.5\" y=\"-22.8\" font-family=\"Helvetica,sans-Serif\" font-size=\"14.00\">samples = 927</text>\r\n",
       "<text text-anchor=\"start\" x=\"41\" y=\"-7.8\" font-family=\"Helvetica,sans-Serif\" font-size=\"14.00\">value = 56.011</text>\r\n",
       "</g>\r\n",
       "<!-- 4&#45;&gt;5 -->\r\n",
       "<g id=\"edge5\" class=\"edge\"><title>4&#45;&gt;5</title>\r\n",
       "<path fill=\"none\" stroke=\"black\" d=\"M214.148,-88.9485C193.208,-78.748 170.269,-67.5744 149.762,-57.5852\"/>\r\n",
       "<polygon fill=\"black\" stroke=\"black\" points=\"151.05,-54.3194 140.527,-53.0867 147.985,-60.6125 151.05,-54.3194\"/>\r\n",
       "</g>\r\n",
       "<!-- 6 -->\r\n",
       "<g id=\"node7\" class=\"node\"><title>6</title>\r\n",
       "<path fill=\"#fdf7f2\" stroke=\"black\" d=\"M358,-53C358,-53 206,-53 206,-53 200,-53 194,-47 194,-41 194,-41 194,-12 194,-12 194,-6 200,-0 206,-0 206,-0 358,-0 358,-0 364,-0 370,-6 370,-12 370,-12 370,-41 370,-41 370,-47 364,-53 358,-53\"/>\r\n",
       "<text text-anchor=\"start\" x=\"202\" y=\"-37.8\" font-family=\"Helvetica,sans-Serif\" font-size=\"14.00\">squared_error = 742.117</text>\r\n",
       "<text text-anchor=\"start\" x=\"230.5\" y=\"-22.8\" font-family=\"Helvetica,sans-Serif\" font-size=\"14.00\">samples = 2687</text>\r\n",
       "<text text-anchor=\"start\" x=\"235\" y=\"-7.8\" font-family=\"Helvetica,sans-Serif\" font-size=\"14.00\">value = 70.746</text>\r\n",
       "</g>\r\n",
       "<!-- 4&#45;&gt;6 -->\r\n",
       "<g id=\"edge6\" class=\"edge\"><title>4&#45;&gt;6</title>\r\n",
       "<path fill=\"none\" stroke=\"black\" d=\"M282,-88.9485C282,-80.7153 282,-71.848 282,-63.4814\"/>\r\n",
       "<polygon fill=\"black\" stroke=\"black\" points=\"285.5,-63.2367 282,-53.2367 278.5,-63.2367 285.5,-63.2367\"/>\r\n",
       "</g>\r\n",
       "<!-- 9 -->\r\n",
       "<g id=\"node10\" class=\"node\"><title>9</title>\r\n",
       "<path fill=\"#fcf3eb\" stroke=\"black\" d=\"M758,-157C758,-157 582,-157 582,-157 576,-157 570,-151 570,-145 570,-145 570,-101 570,-101 570,-95 576,-89 582,-89 582,-89 758,-89 758,-89 764,-89 770,-95 770,-101 770,-101 770,-145 770,-145 770,-151 764,-157 758,-157\"/>\r\n",
       "<text text-anchor=\"start\" x=\"578\" y=\"-141.8\" font-family=\"Helvetica,sans-Serif\" font-size=\"14.00\">Review Scores Rating ≤ 91.3</text>\r\n",
       "<text text-anchor=\"start\" x=\"586\" y=\"-126.8\" font-family=\"Helvetica,sans-Serif\" font-size=\"14.00\">squared_error = 1751.992</text>\r\n",
       "<text text-anchor=\"start\" x=\"618.5\" y=\"-111.8\" font-family=\"Helvetica,sans-Serif\" font-size=\"14.00\">samples = 1176</text>\r\n",
       "<text text-anchor=\"start\" x=\"623\" y=\"-96.8\" font-family=\"Helvetica,sans-Serif\" font-size=\"14.00\">value = 91.401</text>\r\n",
       "</g>\r\n",
       "<!-- 8&#45;&gt;9 -->\r\n",
       "<g id=\"edge9\" class=\"edge\"><title>8&#45;&gt;9</title>\r\n",
       "<path fill=\"none\" stroke=\"black\" d=\"M739.559,-192.884C730.384,-183.798 720.334,-173.845 710.796,-164.4\"/>\r\n",
       "<polygon fill=\"black\" stroke=\"black\" points=\"713.194,-161.849 703.626,-157.299 708.269,-166.823 713.194,-161.849\"/>\r\n",
       "</g>\r\n",
       "<!-- 12 -->\r\n",
       "<g id=\"node13\" class=\"node\"><title>12</title>\r\n",
       "<path fill=\"#fdf7f3\" stroke=\"black\" d=\"M952,-157C952,-157 800,-157 800,-157 794,-157 788,-151 788,-145 788,-145 788,-101 788,-101 788,-95 794,-89 800,-89 800,-89 952,-89 952,-89 958,-89 964,-95 964,-101 964,-101 964,-145 964,-145 964,-151 958,-157 952,-157\"/>\r\n",
       "<text text-anchor=\"start\" x=\"820.5\" y=\"-141.8\" font-family=\"Helvetica,sans-Serif\" font-size=\"14.00\">Latitude ≤ 40.401</text>\r\n",
       "<text text-anchor=\"start\" x=\"796\" y=\"-126.8\" font-family=\"Helvetica,sans-Serif\" font-size=\"14.00\">squared_error = 676.458</text>\r\n",
       "<text text-anchor=\"start\" x=\"828.5\" y=\"-111.8\" font-family=\"Helvetica,sans-Serif\" font-size=\"14.00\">samples = 358</text>\r\n",
       "<text text-anchor=\"start\" x=\"829\" y=\"-96.8\" font-family=\"Helvetica,sans-Serif\" font-size=\"14.00\">value = 67.243</text>\r\n",
       "</g>\r\n",
       "<!-- 8&#45;&gt;12 -->\r\n",
       "<g id=\"edge12\" class=\"edge\"><title>8&#45;&gt;12</title>\r\n",
       "<path fill=\"none\" stroke=\"black\" d=\"M806.441,-192.884C815.616,-183.798 825.666,-173.845 835.204,-164.4\"/>\r\n",
       "<polygon fill=\"black\" stroke=\"black\" points=\"837.731,-166.823 842.374,-157.299 832.806,-161.849 837.731,-166.823\"/>\r\n",
       "</g>\r\n",
       "<!-- 10 -->\r\n",
       "<g id=\"node11\" class=\"node\"><title>10</title>\r\n",
       "<path fill=\"#fdf4ee\" stroke=\"black\" d=\"M552,-53C552,-53 400,-53 400,-53 394,-53 388,-47 388,-41 388,-41 388,-12 388,-12 388,-6 394,-0 400,-0 400,-0 552,-0 552,-0 558,-0 564,-6 564,-12 564,-12 564,-41 564,-41 564,-47 558,-53 552,-53\"/>\r\n",
       "<text text-anchor=\"start\" x=\"396\" y=\"-37.8\" font-family=\"Helvetica,sans-Serif\" font-size=\"14.00\">squared_error = 972.998</text>\r\n",
       "<text text-anchor=\"start\" x=\"428.5\" y=\"-22.8\" font-family=\"Helvetica,sans-Serif\" font-size=\"14.00\">samples = 410</text>\r\n",
       "<text text-anchor=\"start\" x=\"429\" y=\"-7.8\" font-family=\"Helvetica,sans-Serif\" font-size=\"14.00\">value = 81.554</text>\r\n",
       "</g>\r\n",
       "<!-- 9&#45;&gt;10 -->\r\n",
       "<g id=\"edge10\" class=\"edge\"><title>9&#45;&gt;10</title>\r\n",
       "<path fill=\"none\" stroke=\"black\" d=\"M602.148,-88.9485C581.208,-78.748 558.269,-67.5744 537.762,-57.5852\"/>\r\n",
       "<polygon fill=\"black\" stroke=\"black\" points=\"539.05,-54.3194 528.527,-53.0867 535.985,-60.6125 539.05,-54.3194\"/>\r\n",
       "</g>\r\n",
       "<!-- 11 -->\r\n",
       "<g id=\"node12\" class=\"node\"><title>11</title>\r\n",
       "<path fill=\"#fcf2ea\" stroke=\"black\" d=\"M754,-53C754,-53 594,-53 594,-53 588,-53 582,-47 582,-41 582,-41 582,-12 582,-12 582,-6 588,-0 594,-0 594,-0 754,-0 754,-0 760,-0 766,-6 766,-12 766,-12 766,-41 766,-41 766,-47 760,-53 754,-53\"/>\r\n",
       "<text text-anchor=\"start\" x=\"590\" y=\"-37.8\" font-family=\"Helvetica,sans-Serif\" font-size=\"14.00\">squared_error = 2089.257</text>\r\n",
       "<text text-anchor=\"start\" x=\"626.5\" y=\"-22.8\" font-family=\"Helvetica,sans-Serif\" font-size=\"14.00\">samples = 766</text>\r\n",
       "<text text-anchor=\"start\" x=\"627\" y=\"-7.8\" font-family=\"Helvetica,sans-Serif\" font-size=\"14.00\">value = 96.672</text>\r\n",
       "</g>\r\n",
       "<!-- 9&#45;&gt;11 -->\r\n",
       "<g id=\"edge11\" class=\"edge\"><title>9&#45;&gt;11</title>\r\n",
       "<path fill=\"none\" stroke=\"black\" d=\"M671.399,-88.9485C671.748,-80.7153 672.123,-71.848 672.477,-63.4814\"/>\r\n",
       "<polygon fill=\"black\" stroke=\"black\" points=\"675.984,-63.3758 672.911,-53.2367 668.991,-63.0797 675.984,-63.3758\"/>\r\n",
       "</g>\r\n",
       "<!-- 13 -->\r\n",
       "<g id=\"node14\" class=\"node\"><title>13</title>\r\n",
       "<path fill=\"#fef9f5\" stroke=\"black\" d=\"M948,-53C948,-53 796,-53 796,-53 790,-53 784,-47 784,-41 784,-41 784,-12 784,-12 784,-6 790,-0 796,-0 796,-0 948,-0 948,-0 954,-0 960,-6 960,-12 960,-12 960,-41 960,-41 960,-47 954,-53 948,-53\"/>\r\n",
       "<text text-anchor=\"start\" x=\"792\" y=\"-37.8\" font-family=\"Helvetica,sans-Serif\" font-size=\"14.00\">squared_error = 476.265</text>\r\n",
       "<text text-anchor=\"start\" x=\"824.5\" y=\"-22.8\" font-family=\"Helvetica,sans-Serif\" font-size=\"14.00\">samples = 127</text>\r\n",
       "<text text-anchor=\"start\" x=\"825\" y=\"-7.8\" font-family=\"Helvetica,sans-Serif\" font-size=\"14.00\">value = 59.528</text>\r\n",
       "</g>\r\n",
       "<!-- 12&#45;&gt;13 -->\r\n",
       "<g id=\"edge13\" class=\"edge\"><title>12&#45;&gt;13</title>\r\n",
       "<path fill=\"none\" stroke=\"black\" d=\"M874.601,-88.9485C874.252,-80.7153 873.877,-71.848 873.523,-63.4814\"/>\r\n",
       "<polygon fill=\"black\" stroke=\"black\" points=\"877.009,-63.0797 873.089,-53.2367 870.016,-63.3758 877.009,-63.0797\"/>\r\n",
       "</g>\r\n",
       "<!-- 14 -->\r\n",
       "<g id=\"node15\" class=\"node\"><title>14</title>\r\n",
       "<path fill=\"#fdf6f2\" stroke=\"black\" d=\"M1125.5,-53C1125.5,-53 990.5,-53 990.5,-53 984.5,-53 978.5,-47 978.5,-41 978.5,-41 978.5,-12 978.5,-12 978.5,-6 984.5,-0 990.5,-0 990.5,-0 1125.5,-0 1125.5,-0 1131.5,-0 1137.5,-6 1137.5,-12 1137.5,-12 1137.5,-41 1137.5,-41 1137.5,-47 1131.5,-53 1125.5,-53\"/>\r\n",
       "<text text-anchor=\"start\" x=\"986.5\" y=\"-37.8\" font-family=\"Helvetica,sans-Serif\" font-size=\"14.00\">squared_error = 735.8</text>\r\n",
       "<text text-anchor=\"start\" x=\"1010.5\" y=\"-22.8\" font-family=\"Helvetica,sans-Serif\" font-size=\"14.00\">samples = 231</text>\r\n",
       "<text text-anchor=\"start\" x=\"1011\" y=\"-7.8\" font-family=\"Helvetica,sans-Serif\" font-size=\"14.00\">value = 71.485</text>\r\n",
       "</g>\r\n",
       "<!-- 12&#45;&gt;14 -->\r\n",
       "<g id=\"edge14\" class=\"edge\"><title>12&#45;&gt;14</title>\r\n",
       "<path fill=\"none\" stroke=\"black\" d=\"M939.655,-88.9485C959.212,-78.794 980.626,-67.675 999.798,-57.7203\"/>\r\n",
       "<polygon fill=\"black\" stroke=\"black\" points=\"1001.46,-60.8011 1008.72,-53.0867 998.234,-54.5887 1001.46,-60.8011\"/>\r\n",
       "</g>\r\n",
       "<!-- 16 -->\r\n",
       "<g id=\"node17\" class=\"node\"><title>16</title>\r\n",
       "<path fill=\"#e68540\" stroke=\"black\" d=\"M1392.5,-253.5C1392.5,-253.5 1273.5,-253.5 1273.5,-253.5 1267.5,-253.5 1261.5,-247.5 1261.5,-241.5 1261.5,-241.5 1261.5,-212.5 1261.5,-212.5 1261.5,-206.5 1267.5,-200.5 1273.5,-200.5 1273.5,-200.5 1392.5,-200.5 1392.5,-200.5 1398.5,-200.5 1404.5,-206.5 1404.5,-212.5 1404.5,-212.5 1404.5,-241.5 1404.5,-241.5 1404.5,-247.5 1398.5,-253.5 1392.5,-253.5\"/>\r\n",
       "<text text-anchor=\"start\" x=\"1269.5\" y=\"-238.3\" font-family=\"Helvetica,sans-Serif\" font-size=\"14.00\">squared_error = 0.0</text>\r\n",
       "<text text-anchor=\"start\" x=\"1293.5\" y=\"-223.3\" font-family=\"Helvetica,sans-Serif\" font-size=\"14.00\">samples = 1</text>\r\n",
       "<text text-anchor=\"start\" x=\"1290\" y=\"-208.3\" font-family=\"Helvetica,sans-Serif\" font-size=\"14.00\">value = 650.0</text>\r\n",
       "</g>\r\n",
       "<!-- 15&#45;&gt;16 -->\r\n",
       "<g id=\"edge16\" class=\"edge\"><title>15&#45;&gt;16</title>\r\n",
       "<path fill=\"none\" stroke=\"black\" d=\"M1393.1,-296.884C1383.12,-285.446 1371.95,-272.634 1361.96,-261.19\"/>\r\n",
       "<polygon fill=\"black\" stroke=\"black\" points=\"1364.48,-258.754 1355.27,-253.52 1359.2,-263.356 1364.48,-258.754\"/>\r\n",
       "</g>\r\n",
       "<!-- 17 -->\r\n",
       "<g id=\"node18\" class=\"node\"><title>17</title>\r\n",
       "<path fill=\"#fffefd\" stroke=\"black\" d=\"M1587,-261C1587,-261 1435,-261 1435,-261 1429,-261 1423,-255 1423,-249 1423,-249 1423,-205 1423,-205 1423,-199 1429,-193 1435,-193 1435,-193 1587,-193 1587,-193 1593,-193 1599,-199 1599,-205 1599,-205 1599,-249 1599,-249 1599,-255 1593,-261 1587,-261\"/>\r\n",
       "<text text-anchor=\"start\" x=\"1455.5\" y=\"-245.8\" font-family=\"Helvetica,sans-Serif\" font-size=\"14.00\">Latitude ≤ 40.411</text>\r\n",
       "<text text-anchor=\"start\" x=\"1431\" y=\"-230.8\" font-family=\"Helvetica,sans-Serif\" font-size=\"14.00\">squared_error = 961.317</text>\r\n",
       "<text text-anchor=\"start\" x=\"1459.5\" y=\"-215.8\" font-family=\"Helvetica,sans-Serif\" font-size=\"14.00\">samples = 4143</text>\r\n",
       "<text text-anchor=\"start\" x=\"1464\" y=\"-200.8\" font-family=\"Helvetica,sans-Serif\" font-size=\"14.00\">value = 33.658</text>\r\n",
       "</g>\r\n",
       "<!-- 15&#45;&gt;17 -->\r\n",
       "<g id=\"edge17\" class=\"edge\"><title>15&#45;&gt;17</title>\r\n",
       "<path fill=\"none\" stroke=\"black\" d=\"M1450.9,-296.884C1458.67,-287.976 1467.17,-278.235 1475.26,-268.957\"/>\r\n",
       "<polygon fill=\"black\" stroke=\"black\" points=\"1478.01,-271.135 1481.94,-261.299 1472.73,-266.533 1478.01,-271.135\"/>\r\n",
       "</g>\r\n",
       "<!-- 18 -->\r\n",
       "<g id=\"node19\" class=\"node\"><title>18</title>\r\n",
       "<path fill=\"#ffffff\" stroke=\"black\" d=\"M1488,-157C1488,-157 1336,-157 1336,-157 1330,-157 1324,-151 1324,-145 1324,-145 1324,-101 1324,-101 1324,-95 1330,-89 1336,-89 1336,-89 1488,-89 1488,-89 1494,-89 1500,-95 1500,-101 1500,-101 1500,-145 1500,-145 1500,-151 1494,-157 1488,-157\"/>\r\n",
       "<text text-anchor=\"start\" x=\"1349\" y=\"-141.8\" font-family=\"Helvetica,sans-Serif\" font-size=\"14.00\">Extra People ≤ 62.5</text>\r\n",
       "<text text-anchor=\"start\" x=\"1332\" y=\"-126.8\" font-family=\"Helvetica,sans-Serif\" font-size=\"14.00\">squared_error = 407.228</text>\r\n",
       "<text text-anchor=\"start\" x=\"1360.5\" y=\"-111.8\" font-family=\"Helvetica,sans-Serif\" font-size=\"14.00\">samples = 1436</text>\r\n",
       "<text text-anchor=\"start\" x=\"1365\" y=\"-96.8\" font-family=\"Helvetica,sans-Serif\" font-size=\"14.00\">value = 27.825</text>\r\n",
       "</g>\r\n",
       "<!-- 17&#45;&gt;18 -->\r\n",
       "<g id=\"edge18\" class=\"edge\"><title>17&#45;&gt;18</title>\r\n",
       "<path fill=\"none\" stroke=\"black\" d=\"M1478.86,-192.884C1470.13,-183.887 1460.57,-174.041 1451.48,-164.678\"/>\r\n",
       "<polygon fill=\"black\" stroke=\"black\" points=\"1453.8,-162.038 1444.32,-157.299 1448.77,-166.913 1453.8,-162.038\"/>\r\n",
       "</g>\r\n",
       "<!-- 21 -->\r\n",
       "<g id=\"node22\" class=\"node\"><title>21</title>\r\n",
       "<path fill=\"#fffdfc\" stroke=\"black\" d=\"M1690,-157C1690,-157 1530,-157 1530,-157 1524,-157 1518,-151 1518,-145 1518,-145 1518,-101 1518,-101 1518,-95 1524,-89 1530,-89 1530,-89 1690,-89 1690,-89 1696,-89 1702,-95 1702,-101 1702,-101 1702,-145 1702,-145 1702,-151 1696,-157 1690,-157\"/>\r\n",
       "<text text-anchor=\"start\" x=\"1542\" y=\"-141.8\" font-family=\"Helvetica,sans-Serif\" font-size=\"14.00\">Accommodates ≤ 3.5</text>\r\n",
       "<text text-anchor=\"start\" x=\"1526\" y=\"-126.8\" font-family=\"Helvetica,sans-Serif\" font-size=\"14.00\">squared_error = 1227.618</text>\r\n",
       "<text text-anchor=\"start\" x=\"1558.5\" y=\"-111.8\" font-family=\"Helvetica,sans-Serif\" font-size=\"14.00\">samples = 2707</text>\r\n",
       "<text text-anchor=\"start\" x=\"1563\" y=\"-96.8\" font-family=\"Helvetica,sans-Serif\" font-size=\"14.00\">value = 36.753</text>\r\n",
       "</g>\r\n",
       "<!-- 17&#45;&gt;21 -->\r\n",
       "<g id=\"edge21\" class=\"edge\"><title>17&#45;&gt;21</title>\r\n",
       "<path fill=\"none\" stroke=\"black\" d=\"M1543.14,-192.884C1551.87,-183.887 1561.43,-174.041 1570.52,-164.678\"/>\r\n",
       "<polygon fill=\"black\" stroke=\"black\" points=\"1573.23,-166.913 1577.68,-157.299 1568.2,-162.038 1573.23,-166.913\"/>\r\n",
       "</g>\r\n",
       "<!-- 19 -->\r\n",
       "<g id=\"node20\" class=\"node\"><title>19</title>\r\n",
       "<path fill=\"#ffffff\" stroke=\"black\" d=\"M1320,-53C1320,-53 1168,-53 1168,-53 1162,-53 1156,-47 1156,-41 1156,-41 1156,-12 1156,-12 1156,-6 1162,-0 1168,-0 1168,-0 1320,-0 1320,-0 1326,-0 1332,-6 1332,-12 1332,-12 1332,-41 1332,-41 1332,-47 1326,-53 1320,-53\"/>\r\n",
       "<text text-anchor=\"start\" x=\"1164\" y=\"-37.8\" font-family=\"Helvetica,sans-Serif\" font-size=\"14.00\">squared_error = 397.273</text>\r\n",
       "<text text-anchor=\"start\" x=\"1192.5\" y=\"-22.8\" font-family=\"Helvetica,sans-Serif\" font-size=\"14.00\">samples = 1435</text>\r\n",
       "<text text-anchor=\"start\" x=\"1201\" y=\"-7.8\" font-family=\"Helvetica,sans-Serif\" font-size=\"14.00\">value = 27.74</text>\r\n",
       "</g>\r\n",
       "<!-- 18&#45;&gt;19 -->\r\n",
       "<g id=\"edge19\" class=\"edge\"><title>18&#45;&gt;19</title>\r\n",
       "<path fill=\"none\" stroke=\"black\" d=\"M1353.24,-88.9485C1335.43,-78.9318 1315.96,-67.9767 1298.45,-58.1263\"/>\r\n",
       "<polygon fill=\"black\" stroke=\"black\" points=\"1299.92,-54.9388 1289.49,-53.0867 1296.49,-61.0399 1299.92,-54.9388\"/>\r\n",
       "</g>\r\n",
       "<!-- 20 -->\r\n",
       "<g id=\"node21\" class=\"node\"><title>20</title>\r\n",
       "<path fill=\"#fae7da\" stroke=\"black\" d=\"M1481.5,-53C1481.5,-53 1362.5,-53 1362.5,-53 1356.5,-53 1350.5,-47 1350.5,-41 1350.5,-41 1350.5,-12 1350.5,-12 1350.5,-6 1356.5,-0 1362.5,-0 1362.5,-0 1481.5,-0 1481.5,-0 1487.5,-0 1493.5,-6 1493.5,-12 1493.5,-12 1493.5,-41 1493.5,-41 1493.5,-47 1487.5,-53 1481.5,-53\"/>\r\n",
       "<text text-anchor=\"start\" x=\"1358.5\" y=\"-37.8\" font-family=\"Helvetica,sans-Serif\" font-size=\"14.00\">squared_error = 0.0</text>\r\n",
       "<text text-anchor=\"start\" x=\"1382.5\" y=\"-22.8\" font-family=\"Helvetica,sans-Serif\" font-size=\"14.00\">samples = 1</text>\r\n",
       "<text text-anchor=\"start\" x=\"1379\" y=\"-7.8\" font-family=\"Helvetica,sans-Serif\" font-size=\"14.00\">value = 149.0</text>\r\n",
       "</g>\r\n",
       "<!-- 18&#45;&gt;20 -->\r\n",
       "<g id=\"edge20\" class=\"edge\"><title>18&#45;&gt;20</title>\r\n",
       "<path fill=\"none\" stroke=\"black\" d=\"M1415.5,-88.9485C1416.38,-80.6238 1417.33,-71.6509 1418.22,-63.2027\"/>\r\n",
       "<polygon fill=\"black\" stroke=\"black\" points=\"1421.7,-63.5495 1419.28,-53.2367 1414.74,-62.8128 1421.7,-63.5495\"/>\r\n",
       "</g>\r\n",
       "<!-- 22 -->\r\n",
       "<g id=\"node23\" class=\"node\"><title>22</title>\r\n",
       "<path fill=\"#fffdfd\" stroke=\"black\" d=\"M1676,-53C1676,-53 1524,-53 1524,-53 1518,-53 1512,-47 1512,-41 1512,-41 1512,-12 1512,-12 1512,-6 1518,-0 1524,-0 1524,-0 1676,-0 1676,-0 1682,-0 1688,-6 1688,-12 1688,-12 1688,-41 1688,-41 1688,-47 1682,-53 1676,-53\"/>\r\n",
       "<text text-anchor=\"start\" x=\"1520\" y=\"-37.8\" font-family=\"Helvetica,sans-Serif\" font-size=\"14.00\">squared_error = 955.222</text>\r\n",
       "<text text-anchor=\"start\" x=\"1548.5\" y=\"-22.8\" font-family=\"Helvetica,sans-Serif\" font-size=\"14.00\">samples = 2566</text>\r\n",
       "<text text-anchor=\"start\" x=\"1553\" y=\"-7.8\" font-family=\"Helvetica,sans-Serif\" font-size=\"14.00\">value = 35.719</text>\r\n",
       "</g>\r\n",
       "<!-- 21&#45;&gt;22 -->\r\n",
       "<g id=\"edge22\" class=\"edge\"><title>21&#45;&gt;22</title>\r\n",
       "<path fill=\"none\" stroke=\"black\" d=\"M1606.5,-88.9485C1605.62,-80.6238 1604.67,-71.6509 1603.78,-63.2027\"/>\r\n",
       "<polygon fill=\"black\" stroke=\"black\" points=\"1607.26,-62.8128 1602.72,-53.2367 1600.3,-63.5495 1607.26,-62.8128\"/>\r\n",
       "</g>\r\n",
       "<!-- 23 -->\r\n",
       "<g id=\"node24\" class=\"node\"><title>23</title>\r\n",
       "<path fill=\"#fefaf6\" stroke=\"black\" d=\"M1878,-53C1878,-53 1718,-53 1718,-53 1712,-53 1706,-47 1706,-41 1706,-41 1706,-12 1706,-12 1706,-6 1712,-0 1718,-0 1718,-0 1878,-0 1878,-0 1884,-0 1890,-6 1890,-12 1890,-12 1890,-41 1890,-41 1890,-47 1884,-53 1878,-53\"/>\r\n",
       "<text text-anchor=\"start\" x=\"1714\" y=\"-37.8\" font-family=\"Helvetica,sans-Serif\" font-size=\"14.00\">squared_error = 5811.124</text>\r\n",
       "<text text-anchor=\"start\" x=\"1750.5\" y=\"-22.8\" font-family=\"Helvetica,sans-Serif\" font-size=\"14.00\">samples = 141</text>\r\n",
       "<text text-anchor=\"start\" x=\"1751\" y=\"-7.8\" font-family=\"Helvetica,sans-Serif\" font-size=\"14.00\">value = 55.574</text>\r\n",
       "</g>\r\n",
       "<!-- 21&#45;&gt;23 -->\r\n",
       "<g id=\"edge23\" class=\"edge\"><title>21&#45;&gt;23</title>\r\n",
       "<path fill=\"none\" stroke=\"black\" d=\"M1675.75,-88.9485C1696.05,-78.748 1718.28,-67.5744 1738.15,-57.5852\"/>\r\n",
       "<polygon fill=\"black\" stroke=\"black\" points=\"1739.73,-60.705 1747.1,-53.0867 1736.59,-54.4507 1739.73,-60.705\"/>\r\n",
       "</g>\r\n",
       "<!-- 25 -->\r\n",
       "<g id=\"node26\" class=\"node\"><title>25</title>\r\n",
       "<path fill=\"#fbebe0\" stroke=\"black\" d=\"M2730,-365C2730,-365 2570,-365 2570,-365 2564,-365 2558,-359 2558,-353 2558,-353 2558,-309 2558,-309 2558,-303 2564,-297 2570,-297 2570,-297 2730,-297 2730,-297 2736,-297 2742,-303 2742,-309 2742,-309 2742,-353 2742,-353 2742,-359 2736,-365 2730,-365\"/>\r\n",
       "<text text-anchor=\"start\" x=\"2594.5\" y=\"-349.8\" font-family=\"Helvetica,sans-Serif\" font-size=\"14.00\">Room Type ≤ 0.5</text>\r\n",
       "<text text-anchor=\"start\" x=\"2566\" y=\"-334.8\" font-family=\"Helvetica,sans-Serif\" font-size=\"14.00\">squared_error = 4533.886</text>\r\n",
       "<text text-anchor=\"start\" x=\"2598.5\" y=\"-319.8\" font-family=\"Helvetica,sans-Serif\" font-size=\"14.00\">samples = 1107</text>\r\n",
       "<text text-anchor=\"start\" x=\"2598.5\" y=\"-304.8\" font-family=\"Helvetica,sans-Serif\" font-size=\"14.00\">value = 127.751</text>\r\n",
       "</g>\r\n",
       "<!-- 24&#45;&gt;25 -->\r\n",
       "<g id=\"edge25\" class=\"edge\"><title>24&#45;&gt;25</title>\r\n",
       "<path fill=\"none\" stroke=\"black\" d=\"M2650,-400.884C2650,-392.778 2650,-383.982 2650,-375.472\"/>\r\n",
       "<polygon fill=\"black\" stroke=\"black\" points=\"2653.5,-375.299 2650,-365.299 2646.5,-375.299 2653.5,-375.299\"/>\r\n",
       "</g>\r\n",
       "<!-- 40 -->\r\n",
       "<g id=\"node41\" class=\"node\"><title>40</title>\r\n",
       "<path fill=\"#f7d7c1\" stroke=\"black\" d=\"M3929,-365C3929,-365 3761,-365 3761,-365 3755,-365 3749,-359 3749,-353 3749,-353 3749,-309 3749,-309 3749,-303 3755,-297 3761,-297 3761,-297 3929,-297 3929,-297 3935,-297 3941,-303 3941,-309 3941,-309 3941,-353 3941,-353 3941,-359 3935,-365 3929,-365\"/>\r\n",
       "<text text-anchor=\"start\" x=\"3768.5\" y=\"-349.8\" font-family=\"Helvetica,sans-Serif\" font-size=\"14.00\">bed_bath_rooms ≤ 15.5</text>\r\n",
       "<text text-anchor=\"start\" x=\"3757\" y=\"-334.8\" font-family=\"Helvetica,sans-Serif\" font-size=\"14.00\">squared_error = 22171.333</text>\r\n",
       "<text text-anchor=\"start\" x=\"3797.5\" y=\"-319.8\" font-family=\"Helvetica,sans-Serif\" font-size=\"14.00\">samples = 162</text>\r\n",
       "<text text-anchor=\"start\" x=\"3793.5\" y=\"-304.8\" font-family=\"Helvetica,sans-Serif\" font-size=\"14.00\">value = 230.483</text>\r\n",
       "</g>\r\n",
       "<!-- 24&#45;&gt;40 -->\r\n",
       "<g id=\"edge40\" class=\"edge\"><title>24&#45;&gt;40</title>\r\n",
       "<path fill=\"none\" stroke=\"black\" d=\"M2742.28,-426.123C2960.48,-407.499 3507.22,-360.832 3738.75,-341.069\"/>\r\n",
       "<polygon fill=\"black\" stroke=\"black\" points=\"3739.2,-344.544 3748.86,-340.206 3738.6,-337.569 3739.2,-344.544\"/>\r\n",
       "</g>\r\n",
       "<!-- 26 -->\r\n",
       "<g id=\"node27\" class=\"node\"><title>26</title>\r\n",
       "<path fill=\"#fbeade\" stroke=\"black\" d=\"M2581,-261C2581,-261 2421,-261 2421,-261 2415,-261 2409,-255 2409,-249 2409,-249 2409,-205 2409,-205 2409,-199 2415,-193 2421,-193 2421,-193 2581,-193 2581,-193 2587,-193 2593,-199 2593,-205 2593,-205 2593,-249 2593,-249 2593,-255 2587,-261 2581,-261\"/>\r\n",
       "<text text-anchor=\"start\" x=\"2452.5\" y=\"-245.8\" font-family=\"Helvetica,sans-Serif\" font-size=\"14.00\">Zipcode ≤ 22.5</text>\r\n",
       "<text text-anchor=\"start\" x=\"2417\" y=\"-230.8\" font-family=\"Helvetica,sans-Serif\" font-size=\"14.00\">squared_error = 4130.695</text>\r\n",
       "<text text-anchor=\"start\" x=\"2449.5\" y=\"-215.8\" font-family=\"Helvetica,sans-Serif\" font-size=\"14.00\">samples = 1019</text>\r\n",
       "<text text-anchor=\"start\" x=\"2454\" y=\"-200.8\" font-family=\"Helvetica,sans-Serif\" font-size=\"14.00\">value = 134.95</text>\r\n",
       "</g>\r\n",
       "<!-- 25&#45;&gt;26 -->\r\n",
       "<g id=\"edge26\" class=\"edge\"><title>25&#45;&gt;26</title>\r\n",
       "<path fill=\"none\" stroke=\"black\" d=\"M2601.62,-296.884C2587.63,-287.304 2572.23,-276.761 2557.77,-266.864\"/>\r\n",
       "<polygon fill=\"black\" stroke=\"black\" points=\"2559.62,-263.885 2549.39,-261.125 2555.66,-269.662 2559.62,-263.885\"/>\r\n",
       "</g>\r\n",
       "<!-- 33 -->\r\n",
       "<g id=\"node34\" class=\"node\"><title>33</title>\r\n",
       "<path fill=\"#fefcfa\" stroke=\"black\" d=\"M2973,-261C2973,-261 2813,-261 2813,-261 2807,-261 2801,-255 2801,-249 2801,-249 2801,-205 2801,-205 2801,-199 2807,-193 2813,-193 2813,-193 2973,-193 2973,-193 2979,-193 2985,-199 2985,-205 2985,-205 2985,-249 2985,-249 2985,-255 2979,-261 2973,-261\"/>\r\n",
       "<text text-anchor=\"start\" x=\"2823\" y=\"-245.8\" font-family=\"Helvetica,sans-Serif\" font-size=\"14.00\">Guests Included ≤ 3.0</text>\r\n",
       "<text text-anchor=\"start\" x=\"2809\" y=\"-230.8\" font-family=\"Helvetica,sans-Serif\" font-size=\"14.00\">squared_error = 1652.851</text>\r\n",
       "<text text-anchor=\"start\" x=\"2849.5\" y=\"-215.8\" font-family=\"Helvetica,sans-Serif\" font-size=\"14.00\">samples = 88</text>\r\n",
       "<text text-anchor=\"start\" x=\"2846\" y=\"-200.8\" font-family=\"Helvetica,sans-Serif\" font-size=\"14.00\">value = 44.386</text>\r\n",
       "</g>\r\n",
       "<!-- 25&#45;&gt;33 -->\r\n",
       "<g id=\"edge33\" class=\"edge\"><title>25&#45;&gt;33</title>\r\n",
       "<path fill=\"none\" stroke=\"black\" d=\"M2728.9,-296.884C2753.1,-286.722 2779.9,-275.476 2804.69,-265.069\"/>\r\n",
       "<polygon fill=\"black\" stroke=\"black\" points=\"2806.22,-268.222 2814.09,-261.125 2803.51,-261.768 2806.22,-268.222\"/>\r\n",
       "</g>\r\n",
       "<!-- 27 -->\r\n",
       "<g id=\"node28\" class=\"node\"><title>27</title>\r\n",
       "<path fill=\"#fae9dc\" stroke=\"black\" d=\"M2282,-157C2282,-157 2122,-157 2122,-157 2116,-157 2110,-151 2110,-145 2110,-145 2110,-101 2110,-101 2110,-95 2116,-89 2122,-89 2122,-89 2282,-89 2282,-89 2288,-89 2294,-95 2294,-101 2294,-101 2294,-145 2294,-145 2294,-151 2288,-157 2282,-157\"/>\r\n",
       "<text text-anchor=\"start\" x=\"2125.5\" y=\"-141.8\" font-family=\"Helvetica,sans-Serif\" font-size=\"14.00\">bed_bath_rooms ≤ 4.75</text>\r\n",
       "<text text-anchor=\"start\" x=\"2118\" y=\"-126.8\" font-family=\"Helvetica,sans-Serif\" font-size=\"14.00\">squared_error = 4315.038</text>\r\n",
       "<text text-anchor=\"start\" x=\"2154.5\" y=\"-111.8\" font-family=\"Helvetica,sans-Serif\" font-size=\"14.00\">samples = 803</text>\r\n",
       "<text text-anchor=\"start\" x=\"2150.5\" y=\"-96.8\" font-family=\"Helvetica,sans-Serif\" font-size=\"14.00\">value = 142.784</text>\r\n",
       "</g>\r\n",
       "<!-- 26&#45;&gt;27 -->\r\n",
       "<g id=\"edge27\" class=\"edge\"><title>26&#45;&gt;27</title>\r\n",
       "<path fill=\"none\" stroke=\"black\" d=\"M2408.85,-194.564C2375.52,-183.195 2337.71,-170.296 2303.61,-158.664\"/>\r\n",
       "<polygon fill=\"black\" stroke=\"black\" points=\"2304.7,-155.336 2294.1,-155.42 2302.44,-161.961 2304.7,-155.336\"/>\r\n",
       "</g>\r\n",
       "<!-- 30 -->\r\n",
       "<g id=\"node31\" class=\"node\"><title>30</title>\r\n",
       "<path fill=\"#fcf0e7\" stroke=\"black\" d=\"M2581,-157C2581,-157 2421,-157 2421,-157 2415,-157 2409,-151 2409,-145 2409,-145 2409,-101 2409,-101 2409,-95 2415,-89 2421,-89 2421,-89 2581,-89 2581,-89 2587,-89 2593,-95 2593,-101 2593,-101 2593,-145 2593,-145 2593,-151 2587,-157 2581,-157\"/>\r\n",
       "<text text-anchor=\"start\" x=\"2420.5\" y=\"-141.8\" font-family=\"Helvetica,sans-Serif\" font-size=\"14.00\">bed_bath_rooms ≤ 4.744</text>\r\n",
       "<text text-anchor=\"start\" x=\"2417\" y=\"-126.8\" font-family=\"Helvetica,sans-Serif\" font-size=\"14.00\">squared_error = 2369.207</text>\r\n",
       "<text text-anchor=\"start\" x=\"2453.5\" y=\"-111.8\" font-family=\"Helvetica,sans-Serif\" font-size=\"14.00\">samples = 216</text>\r\n",
       "<text text-anchor=\"start\" x=\"2449.5\" y=\"-96.8\" font-family=\"Helvetica,sans-Serif\" font-size=\"14.00\">value = 105.829</text>\r\n",
       "</g>\r\n",
       "<!-- 26&#45;&gt;30 -->\r\n",
       "<g id=\"edge30\" class=\"edge\"><title>26&#45;&gt;30</title>\r\n",
       "<path fill=\"none\" stroke=\"black\" d=\"M2501,-192.884C2501,-184.778 2501,-175.982 2501,-167.472\"/>\r\n",
       "<polygon fill=\"black\" stroke=\"black\" points=\"2504.5,-167.299 2501,-157.299 2497.5,-167.299 2504.5,-167.299\"/>\r\n",
       "</g>\r\n",
       "<!-- 28 -->\r\n",
       "<g id=\"node29\" class=\"node\"><title>28</title>\r\n",
       "<path fill=\"#fbebdf\" stroke=\"black\" d=\"M2080,-53C2080,-53 1920,-53 1920,-53 1914,-53 1908,-47 1908,-41 1908,-41 1908,-12 1908,-12 1908,-6 1914,-0 1920,-0 1920,-0 2080,-0 2080,-0 2086,-0 2092,-6 2092,-12 2092,-12 2092,-41 2092,-41 2092,-47 2086,-53 2080,-53\"/>\r\n",
       "<text text-anchor=\"start\" x=\"1916\" y=\"-37.8\" font-family=\"Helvetica,sans-Serif\" font-size=\"14.00\">squared_error = 3860.526</text>\r\n",
       "<text text-anchor=\"start\" x=\"1952.5\" y=\"-22.8\" font-family=\"Helvetica,sans-Serif\" font-size=\"14.00\">samples = 505</text>\r\n",
       "<text text-anchor=\"start\" x=\"1957\" y=\"-7.8\" font-family=\"Helvetica,sans-Serif\" font-size=\"14.00\">value = 132.2</text>\r\n",
       "</g>\r\n",
       "<!-- 27&#45;&gt;28 -->\r\n",
       "<g id=\"edge28\" class=\"edge\"><title>27&#45;&gt;28</title>\r\n",
       "<path fill=\"none\" stroke=\"black\" d=\"M2131.35,-88.9485C2109.45,-78.7021 2085.45,-67.4737 2064.02,-57.4503\"/>\r\n",
       "<polygon fill=\"black\" stroke=\"black\" points=\"2065.23,-54.1539 2054.69,-53.0867 2062.27,-60.4944 2065.23,-54.1539\"/>\r\n",
       "</g>\r\n",
       "<!-- 29 -->\r\n",
       "<g id=\"node30\" class=\"node\"><title>29</title>\r\n",
       "<path fill=\"#fae5d6\" stroke=\"black\" d=\"M2282,-53C2282,-53 2122,-53 2122,-53 2116,-53 2110,-47 2110,-41 2110,-41 2110,-12 2110,-12 2110,-6 2116,-0 2122,-0 2122,-0 2282,-0 2282,-0 2288,-0 2294,-6 2294,-12 2294,-12 2294,-41 2294,-41 2294,-47 2288,-53 2282,-53\"/>\r\n",
       "<text text-anchor=\"start\" x=\"2118\" y=\"-37.8\" font-family=\"Helvetica,sans-Serif\" font-size=\"14.00\">squared_error = 4573.813</text>\r\n",
       "<text text-anchor=\"start\" x=\"2154.5\" y=\"-22.8\" font-family=\"Helvetica,sans-Serif\" font-size=\"14.00\">samples = 298</text>\r\n",
       "<text text-anchor=\"start\" x=\"2150.5\" y=\"-7.8\" font-family=\"Helvetica,sans-Serif\" font-size=\"14.00\">value = 160.718</text>\r\n",
       "</g>\r\n",
       "<!-- 27&#45;&gt;29 -->\r\n",
       "<g id=\"edge29\" class=\"edge\"><title>27&#45;&gt;29</title>\r\n",
       "<path fill=\"none\" stroke=\"black\" d=\"M2202,-88.9485C2202,-80.7153 2202,-71.848 2202,-63.4814\"/>\r\n",
       "<polygon fill=\"black\" stroke=\"black\" points=\"2205.5,-63.2367 2202,-53.2367 2198.5,-63.2367 2205.5,-63.2367\"/>\r\n",
       "</g>\r\n",
       "<!-- 31 -->\r\n",
       "<g id=\"node32\" class=\"node\"><title>31</title>\r\n",
       "<path fill=\"#fcf2eb\" stroke=\"black\" d=\"M2484,-53C2484,-53 2324,-53 2324,-53 2318,-53 2312,-47 2312,-41 2312,-41 2312,-12 2312,-12 2312,-6 2318,-0 2324,-0 2324,-0 2484,-0 2484,-0 2490,-0 2496,-6 2496,-12 2496,-12 2496,-41 2496,-41 2496,-47 2490,-53 2484,-53\"/>\r\n",
       "<text text-anchor=\"start\" x=\"2320\" y=\"-37.8\" font-family=\"Helvetica,sans-Serif\" font-size=\"14.00\">squared_error = 1498.524</text>\r\n",
       "<text text-anchor=\"start\" x=\"2356.5\" y=\"-22.8\" font-family=\"Helvetica,sans-Serif\" font-size=\"14.00\">samples = 122</text>\r\n",
       "<text text-anchor=\"start\" x=\"2357\" y=\"-7.8\" font-family=\"Helvetica,sans-Serif\" font-size=\"14.00\">value = 92.566</text>\r\n",
       "</g>\r\n",
       "<!-- 30&#45;&gt;31 -->\r\n",
       "<g id=\"edge31\" class=\"edge\"><title>30&#45;&gt;31</title>\r\n",
       "<path fill=\"none\" stroke=\"black\" d=\"M2467.07,-88.9485C2457.59,-79.709 2447.29,-69.671 2437.81,-60.4381\"/>\r\n",
       "<polygon fill=\"black\" stroke=\"black\" points=\"2440.02,-57.7079 2430.42,-53.2367 2435.14,-62.7219 2440.02,-57.7079\"/>\r\n",
       "</g>\r\n",
       "<!-- 32 -->\r\n",
       "<g id=\"node33\" class=\"node\"><title>32</title>\r\n",
       "<path fill=\"#fbece2\" stroke=\"black\" d=\"M2686,-53C2686,-53 2526,-53 2526,-53 2520,-53 2514,-47 2514,-41 2514,-41 2514,-12 2514,-12 2514,-6 2520,-0 2526,-0 2526,-0 2686,-0 2686,-0 2692,-0 2698,-6 2698,-12 2698,-12 2698,-41 2698,-41 2698,-47 2692,-53 2686,-53\"/>\r\n",
       "<text text-anchor=\"start\" x=\"2522\" y=\"-37.8\" font-family=\"Helvetica,sans-Serif\" font-size=\"14.00\">squared_error = 2974.615</text>\r\n",
       "<text text-anchor=\"start\" x=\"2562.5\" y=\"-22.8\" font-family=\"Helvetica,sans-Serif\" font-size=\"14.00\">samples = 94</text>\r\n",
       "<text text-anchor=\"start\" x=\"2554.5\" y=\"-7.8\" font-family=\"Helvetica,sans-Serif\" font-size=\"14.00\">value = 123.043</text>\r\n",
       "</g>\r\n",
       "<!-- 30&#45;&gt;32 -->\r\n",
       "<g id=\"edge32\" class=\"edge\"><title>30&#45;&gt;32</title>\r\n",
       "<path fill=\"none\" stroke=\"black\" d=\"M2537.72,-88.9485C2548.09,-79.6175 2559.36,-69.4722 2569.71,-60.1641\"/>\r\n",
       "<polygon fill=\"black\" stroke=\"black\" points=\"2572.31,-62.5279 2577.4,-53.2367 2567.63,-57.3248 2572.31,-62.5279\"/>\r\n",
       "</g>\r\n",
       "<!-- 34 -->\r\n",
       "<g id=\"node35\" class=\"node\"><title>34</title>\r\n",
       "<path fill=\"#fffdfb\" stroke=\"black\" d=\"M2973,-157C2973,-157 2813,-157 2813,-157 2807,-157 2801,-151 2801,-145 2801,-145 2801,-101 2801,-101 2801,-95 2807,-89 2813,-89 2813,-89 2973,-89 2973,-89 2979,-89 2985,-95 2985,-101 2985,-101 2985,-145 2985,-145 2985,-151 2979,-157 2973,-157\"/>\r\n",
       "<text text-anchor=\"start\" x=\"2844.5\" y=\"-141.8\" font-family=\"Helvetica,sans-Serif\" font-size=\"14.00\">Zipcode ≤ 10.0</text>\r\n",
       "<text text-anchor=\"start\" x=\"2809\" y=\"-126.8\" font-family=\"Helvetica,sans-Serif\" font-size=\"14.00\">squared_error = 1128.821</text>\r\n",
       "<text text-anchor=\"start\" x=\"2849.5\" y=\"-111.8\" font-family=\"Helvetica,sans-Serif\" font-size=\"14.00\">samples = 84</text>\r\n",
       "<text text-anchor=\"start\" x=\"2846\" y=\"-96.8\" font-family=\"Helvetica,sans-Serif\" font-size=\"14.00\">value = 39.476</text>\r\n",
       "</g>\r\n",
       "<!-- 33&#45;&gt;34 -->\r\n",
       "<g id=\"edge34\" class=\"edge\"><title>33&#45;&gt;34</title>\r\n",
       "<path fill=\"none\" stroke=\"black\" d=\"M2893,-192.884C2893,-184.778 2893,-175.982 2893,-167.472\"/>\r\n",
       "<polygon fill=\"black\" stroke=\"black\" points=\"2896.5,-167.299 2893,-157.299 2889.5,-167.299 2896.5,-167.299\"/>\r\n",
       "</g>\r\n",
       "<!-- 37 -->\r\n",
       "<g id=\"node38\" class=\"node\"><title>37</title>\r\n",
       "<path fill=\"#fae8da\" stroke=\"black\" d=\"M3260,-157C3260,-157 3108,-157 3108,-157 3102,-157 3096,-151 3096,-145 3096,-145 3096,-101 3096,-101 3096,-95 3102,-89 3108,-89 3108,-89 3260,-89 3260,-89 3266,-89 3272,-95 3272,-101 3272,-101 3272,-145 3272,-145 3272,-151 3266,-157 3260,-157\"/>\r\n",
       "<text text-anchor=\"start\" x=\"3132.5\" y=\"-141.8\" font-family=\"Helvetica,sans-Serif\" font-size=\"14.00\">Latitude ≤ 40.42</text>\r\n",
       "<text text-anchor=\"start\" x=\"3104\" y=\"-126.8\" font-family=\"Helvetica,sans-Serif\" font-size=\"14.00\">squared_error = 1518.75</text>\r\n",
       "<text text-anchor=\"start\" x=\"3144.5\" y=\"-111.8\" font-family=\"Helvetica,sans-Serif\" font-size=\"14.00\">samples = 4</text>\r\n",
       "<text text-anchor=\"start\" x=\"3141\" y=\"-96.8\" font-family=\"Helvetica,sans-Serif\" font-size=\"14.00\">value = 147.5</text>\r\n",
       "</g>\r\n",
       "<!-- 33&#45;&gt;37 -->\r\n",
       "<g id=\"edge37\" class=\"edge\"><title>33&#45;&gt;37</title>\r\n",
       "<path fill=\"none\" stroke=\"black\" d=\"M2985.07,-193.727C3017.35,-182.412 3053.71,-169.669 3086.42,-158.202\"/>\r\n",
       "<polygon fill=\"black\" stroke=\"black\" points=\"3087.72,-161.456 3096,-154.846 3085.4,-154.85 3087.72,-161.456\"/>\r\n",
       "</g>\r\n",
       "<!-- 35 -->\r\n",
       "<g id=\"node36\" class=\"node\"><title>35</title>\r\n",
       "<path fill=\"#fae6d8\" stroke=\"black\" d=\"M2871.5,-53C2871.5,-53 2728.5,-53 2728.5,-53 2722.5,-53 2716.5,-47 2716.5,-41 2716.5,-41 2716.5,-12 2716.5,-12 2716.5,-6 2722.5,-0 2728.5,-0 2728.5,-0 2871.5,-0 2871.5,-0 2877.5,-0 2883.5,-6 2883.5,-12 2883.5,-12 2883.5,-41 2883.5,-41 2883.5,-47 2877.5,-53 2871.5,-53\"/>\r\n",
       "<text text-anchor=\"start\" x=\"2724.5\" y=\"-37.8\" font-family=\"Helvetica,sans-Serif\" font-size=\"14.00\">squared_error = 9025.0</text>\r\n",
       "<text text-anchor=\"start\" x=\"2760.5\" y=\"-22.8\" font-family=\"Helvetica,sans-Serif\" font-size=\"14.00\">samples = 2</text>\r\n",
       "<text text-anchor=\"start\" x=\"2757\" y=\"-7.8\" font-family=\"Helvetica,sans-Serif\" font-size=\"14.00\">value = 155.0</text>\r\n",
       "</g>\r\n",
       "<!-- 34&#45;&gt;35 -->\r\n",
       "<g id=\"edge35\" class=\"edge\"><title>34&#45;&gt;35</title>\r\n",
       "<path fill=\"none\" stroke=\"black\" d=\"M2860.47,-88.9485C2851.38,-79.709 2841.5,-69.671 2832.42,-60.4381\"/>\r\n",
       "<polygon fill=\"black\" stroke=\"black\" points=\"2834.84,-57.9091 2825.33,-53.2367 2829.85,-62.8191 2834.84,-57.9091\"/>\r\n",
       "</g>\r\n",
       "<!-- 36 -->\r\n",
       "<g id=\"node37\" class=\"node\"><title>36</title>\r\n",
       "<path fill=\"#fffdfc\" stroke=\"black\" d=\"M3066,-53C3066,-53 2914,-53 2914,-53 2908,-53 2902,-47 2902,-41 2902,-41 2902,-12 2902,-12 2902,-6 2908,-0 2914,-0 2914,-0 3066,-0 3066,-0 3072,-0 3078,-6 3078,-12 3078,-12 3078,-41 3078,-41 3078,-47 3072,-53 3066,-53\"/>\r\n",
       "<text text-anchor=\"start\" x=\"2910\" y=\"-37.8\" font-family=\"Helvetica,sans-Serif\" font-size=\"14.00\">squared_error = 602.786</text>\r\n",
       "<text text-anchor=\"start\" x=\"2946.5\" y=\"-22.8\" font-family=\"Helvetica,sans-Serif\" font-size=\"14.00\">samples = 82</text>\r\n",
       "<text text-anchor=\"start\" x=\"2943\" y=\"-7.8\" font-family=\"Helvetica,sans-Serif\" font-size=\"14.00\">value = 36.659</text>\r\n",
       "</g>\r\n",
       "<!-- 34&#45;&gt;36 -->\r\n",
       "<g id=\"edge36\" class=\"edge\"><title>34&#45;&gt;36</title>\r\n",
       "<path fill=\"none\" stroke=\"black\" d=\"M2926.93,-88.9485C2936.41,-79.709 2946.71,-69.671 2956.19,-60.4381\"/>\r\n",
       "<polygon fill=\"black\" stroke=\"black\" points=\"2958.86,-62.7219 2963.58,-53.2367 2953.98,-57.7079 2958.86,-62.7219\"/>\r\n",
       "</g>\r\n",
       "<!-- 38 -->\r\n",
       "<g id=\"node39\" class=\"node\"><title>38</title>\r\n",
       "<path fill=\"#f9e4d4\" stroke=\"black\" d=\"M3260,-53C3260,-53 3108,-53 3108,-53 3102,-53 3096,-47 3096,-41 3096,-41 3096,-12 3096,-12 3096,-6 3102,-0 3108,-0 3108,-0 3260,-0 3260,-0 3266,-0 3272,-6 3272,-12 3272,-12 3272,-41 3272,-41 3272,-47 3266,-53 3260,-53\"/>\r\n",
       "<text text-anchor=\"start\" x=\"3104\" y=\"-37.8\" font-family=\"Helvetica,sans-Serif\" font-size=\"14.00\">squared_error = 555.556</text>\r\n",
       "<text text-anchor=\"start\" x=\"3144.5\" y=\"-22.8\" font-family=\"Helvetica,sans-Serif\" font-size=\"14.00\">samples = 3</text>\r\n",
       "<text text-anchor=\"start\" x=\"3132.5\" y=\"-7.8\" font-family=\"Helvetica,sans-Serif\" font-size=\"14.00\">value = 166.667</text>\r\n",
       "</g>\r\n",
       "<!-- 37&#45;&gt;38 -->\r\n",
       "<g id=\"edge38\" class=\"edge\"><title>37&#45;&gt;38</title>\r\n",
       "<path fill=\"none\" stroke=\"black\" d=\"M3184,-88.9485C3184,-80.7153 3184,-71.848 3184,-63.4814\"/>\r\n",
       "<polygon fill=\"black\" stroke=\"black\" points=\"3187.5,-63.2367 3184,-53.2367 3180.5,-63.2367 3187.5,-63.2367\"/>\r\n",
       "</g>\r\n",
       "<!-- 39 -->\r\n",
       "<g id=\"node40\" class=\"node\"><title>39</title>\r\n",
       "<path fill=\"#fcf3ec\" stroke=\"black\" d=\"M3421.5,-53C3421.5,-53 3302.5,-53 3302.5,-53 3296.5,-53 3290.5,-47 3290.5,-41 3290.5,-41 3290.5,-12 3290.5,-12 3290.5,-6 3296.5,-0 3302.5,-0 3302.5,-0 3421.5,-0 3421.5,-0 3427.5,-0 3433.5,-6 3433.5,-12 3433.5,-12 3433.5,-41 3433.5,-41 3433.5,-47 3427.5,-53 3421.5,-53\"/>\r\n",
       "<text text-anchor=\"start\" x=\"3298.5\" y=\"-37.8\" font-family=\"Helvetica,sans-Serif\" font-size=\"14.00\">squared_error = 0.0</text>\r\n",
       "<text text-anchor=\"start\" x=\"3322.5\" y=\"-22.8\" font-family=\"Helvetica,sans-Serif\" font-size=\"14.00\">samples = 1</text>\r\n",
       "<text text-anchor=\"start\" x=\"3323\" y=\"-7.8\" font-family=\"Helvetica,sans-Serif\" font-size=\"14.00\">value = 90.0</text>\r\n",
       "</g>\r\n",
       "<!-- 37&#45;&gt;39 -->\r\n",
       "<g id=\"edge39\" class=\"edge\"><title>37&#45;&gt;39</title>\r\n",
       "<path fill=\"none\" stroke=\"black\" d=\"M3246.26,-88.9485C3265.3,-78.8399 3286.14,-67.7756 3304.82,-57.8555\"/>\r\n",
       "<polygon fill=\"black\" stroke=\"black\" points=\"3306.61,-60.8672 3313.8,-53.0867 3303.33,-54.6845 3306.61,-60.8672\"/>\r\n",
       "</g>\r\n",
       "<!-- 41 -->\r\n",
       "<g id=\"node42\" class=\"node\"><title>41</title>\r\n",
       "<path fill=\"#f8dcc8\" stroke=\"black\" d=\"M3925,-261C3925,-261 3765,-261 3765,-261 3759,-261 3753,-255 3753,-249 3753,-249 3753,-205 3753,-205 3753,-199 3759,-193 3765,-193 3765,-193 3925,-193 3925,-193 3931,-193 3937,-199 3937,-205 3937,-205 3937,-249 3937,-249 3937,-255 3931,-261 3925,-261\"/>\r\n",
       "<text text-anchor=\"start\" x=\"3789.5\" y=\"-245.8\" font-family=\"Helvetica,sans-Serif\" font-size=\"14.00\">Room Type ≤ 0.5</text>\r\n",
       "<text text-anchor=\"start\" x=\"3761\" y=\"-230.8\" font-family=\"Helvetica,sans-Serif\" font-size=\"14.00\">squared_error = 14858.28</text>\r\n",
       "<text text-anchor=\"start\" x=\"3797.5\" y=\"-215.8\" font-family=\"Helvetica,sans-Serif\" font-size=\"14.00\">samples = 138</text>\r\n",
       "<text text-anchor=\"start\" x=\"3793.5\" y=\"-200.8\" font-family=\"Helvetica,sans-Serif\" font-size=\"14.00\">value = 205.219</text>\r\n",
       "</g>\r\n",
       "<!-- 40&#45;&gt;41 -->\r\n",
       "<g id=\"edge41\" class=\"edge\"><title>40&#45;&gt;41</title>\r\n",
       "<path fill=\"none\" stroke=\"black\" d=\"M3845,-296.884C3845,-288.778 3845,-279.982 3845,-271.472\"/>\r\n",
       "<polygon fill=\"black\" stroke=\"black\" points=\"3848.5,-271.299 3845,-261.299 3841.5,-271.299 3848.5,-271.299\"/>\r\n",
       "</g>\r\n",
       "<!-- 48 -->\r\n",
       "<g id=\"node49\" class=\"node\"><title>48</title>\r\n",
       "<path fill=\"#f1bb94\" stroke=\"black\" d=\"M4482,-261C4482,-261 4314,-261 4314,-261 4308,-261 4302,-255 4302,-249 4302,-249 4302,-205 4302,-205 4302,-199 4308,-193 4314,-193 4314,-193 4482,-193 4482,-193 4488,-193 4494,-199 4494,-205 4494,-205 4494,-249 4494,-249 4494,-255 4488,-261 4482,-261\"/>\r\n",
       "<text text-anchor=\"start\" x=\"4338\" y=\"-245.8\" font-family=\"Helvetica,sans-Serif\" font-size=\"14.00\">Longitude ≤ &#45;3.693</text>\r\n",
       "<text text-anchor=\"start\" x=\"4310\" y=\"-230.8\" font-family=\"Helvetica,sans-Serif\" font-size=\"14.00\">squared_error = 39448.771</text>\r\n",
       "<text text-anchor=\"start\" x=\"4354.5\" y=\"-215.8\" font-family=\"Helvetica,sans-Serif\" font-size=\"14.00\">samples = 24</text>\r\n",
       "<text text-anchor=\"start\" x=\"4351\" y=\"-200.8\" font-family=\"Helvetica,sans-Serif\" font-size=\"14.00\">value = 375.75</text>\r\n",
       "</g>\r\n",
       "<!-- 40&#45;&gt;48 -->\r\n",
       "<g id=\"edge48\" class=\"edge\"><title>40&#45;&gt;48</title>\r\n",
       "<path fill=\"none\" stroke=\"black\" d=\"M3941.01,-312.291C4038.89,-294.238 4190.36,-266.299 4291.78,-247.593\"/>\r\n",
       "<polygon fill=\"black\" stroke=\"black\" points=\"4292.54,-251.011 4301.74,-245.755 4291.27,-244.127 4292.54,-251.011\"/>\r\n",
       "</g>\r\n",
       "<!-- 42 -->\r\n",
       "<g id=\"node43\" class=\"node\"><title>42</title>\r\n",
       "<path fill=\"#f7d9c3\" stroke=\"black\" d=\"M3828,-157C3828,-157 3660,-157 3660,-157 3654,-157 3648,-151 3648,-145 3648,-145 3648,-101 3648,-101 3648,-95 3654,-89 3660,-89 3660,-89 3828,-89 3828,-89 3834,-89 3840,-95 3840,-101 3840,-101 3840,-145 3840,-145 3840,-151 3834,-157 3828,-157\"/>\r\n",
       "<text text-anchor=\"start\" x=\"3700\" y=\"-141.8\" font-family=\"Helvetica,sans-Serif\" font-size=\"14.00\">Zipcode ≤ 8.0</text>\r\n",
       "<text text-anchor=\"start\" x=\"3656\" y=\"-126.8\" font-family=\"Helvetica,sans-Serif\" font-size=\"14.00\">squared_error = 12958.281</text>\r\n",
       "<text text-anchor=\"start\" x=\"3696.5\" y=\"-111.8\" font-family=\"Helvetica,sans-Serif\" font-size=\"14.00\">samples = 125</text>\r\n",
       "<text text-anchor=\"start\" x=\"3692.5\" y=\"-96.8\" font-family=\"Helvetica,sans-Serif\" font-size=\"14.00\">value = 223.162</text>\r\n",
       "</g>\r\n",
       "<!-- 41&#45;&gt;42 -->\r\n",
       "<g id=\"edge42\" class=\"edge\"><title>41&#45;&gt;42</title>\r\n",
       "<path fill=\"none\" stroke=\"black\" d=\"M3812.21,-192.884C3803.3,-183.887 3793.55,-174.041 3784.28,-164.678\"/>\r\n",
       "<polygon fill=\"black\" stroke=\"black\" points=\"3786.5,-161.943 3776.97,-157.299 3781.52,-166.868 3786.5,-161.943\"/>\r\n",
       "</g>\r\n",
       "<!-- 45 -->\r\n",
       "<g id=\"node46\" class=\"node\"><title>45</title>\r\n",
       "<path fill=\"#fffefd\" stroke=\"black\" d=\"M4022,-157C4022,-157 3870,-157 3870,-157 3864,-157 3858,-151 3858,-145 3858,-145 3858,-101 3858,-101 3858,-95 3864,-89 3870,-89 3870,-89 4022,-89 4022,-89 4028,-89 4034,-95 4034,-101 4034,-101 4034,-145 4034,-145 4034,-151 4028,-157 4022,-157\"/>\r\n",
       "<text text-anchor=\"start\" x=\"3894.5\" y=\"-141.8\" font-family=\"Helvetica,sans-Serif\" font-size=\"14.00\">Bedrooms ≤ 3.5</text>\r\n",
       "<text text-anchor=\"start\" x=\"3866\" y=\"-126.8\" font-family=\"Helvetica,sans-Serif\" font-size=\"14.00\">squared_error = 266.521</text>\r\n",
       "<text text-anchor=\"start\" x=\"3902.5\" y=\"-111.8\" font-family=\"Helvetica,sans-Serif\" font-size=\"14.00\">samples = 13</text>\r\n",
       "<text text-anchor=\"start\" x=\"3899\" y=\"-96.8\" font-family=\"Helvetica,sans-Serif\" font-size=\"14.00\">value = 32.692</text>\r\n",
       "</g>\r\n",
       "<!-- 41&#45;&gt;45 -->\r\n",
       "<g id=\"edge45\" class=\"edge\"><title>41&#45;&gt;45</title>\r\n",
       "<path fill=\"none\" stroke=\"black\" d=\"M3877.79,-192.884C3886.7,-183.887 3896.45,-174.041 3905.72,-164.678\"/>\r\n",
       "<polygon fill=\"black\" stroke=\"black\" points=\"3908.48,-166.868 3913.03,-157.299 3903.5,-161.943 3908.48,-166.868\"/>\r\n",
       "</g>\r\n",
       "<!-- 43 -->\r\n",
       "<g id=\"node44\" class=\"node\"><title>43</title>\r\n",
       "<path fill=\"#f0b990\" stroke=\"black\" d=\"M3632,-53C3632,-53 3464,-53 3464,-53 3458,-53 3452,-47 3452,-41 3452,-41 3452,-12 3452,-12 3452,-6 3458,-0 3464,-0 3464,-0 3632,-0 3632,-0 3638,-0 3644,-6 3644,-12 3644,-12 3644,-41 3644,-41 3644,-47 3638,-53 3632,-53\"/>\r\n",
       "<text text-anchor=\"start\" x=\"3460\" y=\"-37.8\" font-family=\"Helvetica,sans-Serif\" font-size=\"14.00\">squared_error = 29194.889</text>\r\n",
       "<text text-anchor=\"start\" x=\"3508.5\" y=\"-22.8\" font-family=\"Helvetica,sans-Serif\" font-size=\"14.00\">samples = 9</text>\r\n",
       "<text text-anchor=\"start\" x=\"3496.5\" y=\"-7.8\" font-family=\"Helvetica,sans-Serif\" font-size=\"14.00\">value = 388.333</text>\r\n",
       "</g>\r\n",
       "<!-- 42&#45;&gt;43 -->\r\n",
       "<g id=\"edge43\" class=\"edge\"><title>42&#45;&gt;43</title>\r\n",
       "<path fill=\"none\" stroke=\"black\" d=\"M3675.45,-88.9485C3654.2,-78.7021 3630.91,-67.4737 3610.12,-57.4503\"/>\r\n",
       "<polygon fill=\"black\" stroke=\"black\" points=\"3611.6,-54.277 3601.07,-53.0867 3608.56,-60.5824 3611.6,-54.277\"/>\r\n",
       "</g>\r\n",
       "<!-- 44 -->\r\n",
       "<g id=\"node45\" class=\"node\"><title>44</title>\r\n",
       "<path fill=\"#f8dbc7\" stroke=\"black\" d=\"M3834,-53C3834,-53 3674,-53 3674,-53 3668,-53 3662,-47 3662,-41 3662,-41 3662,-12 3662,-12 3662,-6 3668,-0 3674,-0 3674,-0 3834,-0 3834,-0 3840,-0 3846,-6 3846,-12 3846,-12 3846,-41 3846,-41 3846,-47 3840,-53 3834,-53\"/>\r\n",
       "<text text-anchor=\"start\" x=\"3670\" y=\"-37.8\" font-family=\"Helvetica,sans-Serif\" font-size=\"14.00\">squared_error = 9417.633</text>\r\n",
       "<text text-anchor=\"start\" x=\"3706.5\" y=\"-22.8\" font-family=\"Helvetica,sans-Serif\" font-size=\"14.00\">samples = 116</text>\r\n",
       "<text text-anchor=\"start\" x=\"3702.5\" y=\"-7.8\" font-family=\"Helvetica,sans-Serif\" font-size=\"14.00\">value = 210.346</text>\r\n",
       "</g>\r\n",
       "<!-- 42&#45;&gt;44 -->\r\n",
       "<g id=\"edge44\" class=\"edge\"><title>42&#45;&gt;44</title>\r\n",
       "<path fill=\"none\" stroke=\"black\" d=\"M3747.5,-88.9485C3748.38,-80.6238 3749.33,-71.6509 3750.22,-63.2027\"/>\r\n",
       "<polygon fill=\"black\" stroke=\"black\" points=\"3753.7,-63.5495 3751.28,-53.2367 3746.74,-62.8128 3753.7,-63.5495\"/>\r\n",
       "</g>\r\n",
       "<!-- 46 -->\r\n",
       "<g id=\"node47\" class=\"node\"><title>46</title>\r\n",
       "<path fill=\"#fdf4ed\" stroke=\"black\" d=\"M3995.5,-53C3995.5,-53 3876.5,-53 3876.5,-53 3870.5,-53 3864.5,-47 3864.5,-41 3864.5,-41 3864.5,-12 3864.5,-12 3864.5,-6 3870.5,-0 3876.5,-0 3876.5,-0 3995.5,-0 3995.5,-0 4001.5,-0 4007.5,-6 4007.5,-12 4007.5,-12 4007.5,-41 4007.5,-41 4007.5,-47 4001.5,-53 3995.5,-53\"/>\r\n",
       "<text text-anchor=\"start\" x=\"3872.5\" y=\"-37.8\" font-family=\"Helvetica,sans-Serif\" font-size=\"14.00\">squared_error = 0.0</text>\r\n",
       "<text text-anchor=\"start\" x=\"3896.5\" y=\"-22.8\" font-family=\"Helvetica,sans-Serif\" font-size=\"14.00\">samples = 1</text>\r\n",
       "<text text-anchor=\"start\" x=\"3897\" y=\"-7.8\" font-family=\"Helvetica,sans-Serif\" font-size=\"14.00\">value = 85.0</text>\r\n",
       "</g>\r\n",
       "<!-- 45&#45;&gt;46 -->\r\n",
       "<g id=\"edge46\" class=\"edge\"><title>45&#45;&gt;46</title>\r\n",
       "<path fill=\"none\" stroke=\"black\" d=\"M3942.5,-88.9485C3941.62,-80.6238 3940.67,-71.6509 3939.78,-63.2027\"/>\r\n",
       "<polygon fill=\"black\" stroke=\"black\" points=\"3943.26,-62.8128 3938.72,-53.2367 3936.3,-63.5495 3943.26,-62.8128\"/>\r\n",
       "</g>\r\n",
       "<!-- 47 -->\r\n",
       "<g id=\"node48\" class=\"node\"><title>47</title>\r\n",
       "<path fill=\"#ffffff\" stroke=\"black\" d=\"M4180.5,-53C4180.5,-53 4037.5,-53 4037.5,-53 4031.5,-53 4025.5,-47 4025.5,-41 4025.5,-41 4025.5,-12 4025.5,-12 4025.5,-6 4031.5,-0 4037.5,-0 4037.5,-0 4180.5,-0 4180.5,-0 4186.5,-0 4192.5,-6 4192.5,-12 4192.5,-12 4192.5,-41 4192.5,-41 4192.5,-47 4186.5,-53 4180.5,-53\"/>\r\n",
       "<text text-anchor=\"start\" x=\"4033.5\" y=\"-37.8\" font-family=\"Helvetica,sans-Serif\" font-size=\"14.00\">squared_error = 41.722</text>\r\n",
       "<text text-anchor=\"start\" x=\"4065.5\" y=\"-22.8\" font-family=\"Helvetica,sans-Serif\" font-size=\"14.00\">samples = 12</text>\r\n",
       "<text text-anchor=\"start\" x=\"4062\" y=\"-7.8\" font-family=\"Helvetica,sans-Serif\" font-size=\"14.00\">value = 28.333</text>\r\n",
       "</g>\r\n",
       "<!-- 45&#45;&gt;47 -->\r\n",
       "<g id=\"edge47\" class=\"edge\"><title>45&#45;&gt;47</title>\r\n",
       "<path fill=\"none\" stroke=\"black\" d=\"M4003.01,-88.9485C4020.29,-78.9318 4039.18,-67.9767 4056.17,-58.1263\"/>\r\n",
       "<polygon fill=\"black\" stroke=\"black\" points=\"4057.97,-61.1303 4064.87,-53.0867 4054.46,-55.0744 4057.97,-61.1303\"/>\r\n",
       "</g>\r\n",
       "<!-- 49 -->\r\n",
       "<g id=\"node50\" class=\"node\"><title>49</title>\r\n",
       "<path fill=\"#f4caab\" stroke=\"black\" d=\"M4482,-157C4482,-157 4314,-157 4314,-157 4308,-157 4302,-151 4302,-145 4302,-145 4302,-101 4302,-101 4302,-95 4308,-89 4314,-89 4314,-89 4482,-89 4482,-89 4488,-89 4494,-95 4494,-101 4494,-101 4494,-145 4494,-145 4494,-151 4488,-157 4482,-157\"/>\r\n",
       "<text text-anchor=\"start\" x=\"4342.5\" y=\"-141.8\" font-family=\"Helvetica,sans-Serif\" font-size=\"14.00\">Latitude ≤ 40.423</text>\r\n",
       "<text text-anchor=\"start\" x=\"4310\" y=\"-126.8\" font-family=\"Helvetica,sans-Serif\" font-size=\"14.00\">squared_error = 16292.346</text>\r\n",
       "<text text-anchor=\"start\" x=\"4354.5\" y=\"-111.8\" font-family=\"Helvetica,sans-Serif\" font-size=\"14.00\">samples = 17</text>\r\n",
       "<text text-anchor=\"start\" x=\"4346.5\" y=\"-96.8\" font-family=\"Helvetica,sans-Serif\" font-size=\"14.00\">value = 300.647</text>\r\n",
       "</g>\r\n",
       "<!-- 48&#45;&gt;49 -->\r\n",
       "<g id=\"edge49\" class=\"edge\"><title>48&#45;&gt;49</title>\r\n",
       "<path fill=\"none\" stroke=\"black\" d=\"M4398,-192.884C4398,-184.778 4398,-175.982 4398,-167.472\"/>\r\n",
       "<polygon fill=\"black\" stroke=\"black\" points=\"4401.5,-167.299 4398,-157.299 4394.5,-167.299 4401.5,-167.299\"/>\r\n",
       "</g>\r\n",
       "<!-- 52 -->\r\n",
       "<g id=\"node53\" class=\"node\"><title>52</title>\r\n",
       "<path fill=\"#ea975c\" stroke=\"black\" d=\"M4791,-157C4791,-157 4623,-157 4623,-157 4617,-157 4611,-151 4611,-145 4611,-145 4611,-101 4611,-101 4611,-95 4617,-89 4623,-89 4623,-89 4791,-89 4791,-89 4797,-89 4803,-95 4803,-101 4803,-101 4803,-145 4803,-145 4803,-151 4797,-157 4791,-157\"/>\r\n",
       "<text text-anchor=\"start\" x=\"4634.5\" y=\"-141.8\" font-family=\"Helvetica,sans-Serif\" font-size=\"14.00\">Accommodates ≤ 11.0</text>\r\n",
       "<text text-anchor=\"start\" x=\"4619\" y=\"-126.8\" font-family=\"Helvetica,sans-Serif\" font-size=\"14.00\">squared_error = 48720.408</text>\r\n",
       "<text text-anchor=\"start\" x=\"4667.5\" y=\"-111.8\" font-family=\"Helvetica,sans-Serif\" font-size=\"14.00\">samples = 7</text>\r\n",
       "<text text-anchor=\"start\" x=\"4655.5\" y=\"-96.8\" font-family=\"Helvetica,sans-Serif\" font-size=\"14.00\">value = 558.143</text>\r\n",
       "</g>\r\n",
       "<!-- 48&#45;&gt;52 -->\r\n",
       "<g id=\"edge52\" class=\"edge\"><title>48&#45;&gt;52</title>\r\n",
       "<path fill=\"none\" stroke=\"black\" d=\"M4494.08,-194.286C4528.08,-183.06 4566.52,-170.372 4601.28,-158.897\"/>\r\n",
       "<polygon fill=\"black\" stroke=\"black\" points=\"4602.58,-162.153 4610.98,-155.695 4600.39,-155.506 4602.58,-162.153\"/>\r\n",
       "</g>\r\n",
       "<!-- 50 -->\r\n",
       "<g id=\"node51\" class=\"node\"><title>50</title>\r\n",
       "<path fill=\"#f1bd97\" stroke=\"black\" d=\"M4375,-53C4375,-53 4223,-53 4223,-53 4217,-53 4211,-47 4211,-41 4211,-41 4211,-12 4211,-12 4211,-6 4217,-0 4223,-0 4223,-0 4375,-0 4375,-0 4381,-0 4387,-6 4387,-12 4387,-12 4387,-41 4387,-41 4387,-47 4381,-53 4375,-53\"/>\r\n",
       "<text text-anchor=\"start\" x=\"4219\" y=\"-37.8\" font-family=\"Helvetica,sans-Serif\" font-size=\"14.00\">squared_error = 7025.69</text>\r\n",
       "<text text-anchor=\"start\" x=\"4255.5\" y=\"-22.8\" font-family=\"Helvetica,sans-Serif\" font-size=\"14.00\">samples = 10</text>\r\n",
       "<text text-anchor=\"start\" x=\"4256\" y=\"-7.8\" font-family=\"Helvetica,sans-Serif\" font-size=\"14.00\">value = 367.9</text>\r\n",
       "</g>\r\n",
       "<!-- 49&#45;&gt;50 -->\r\n",
       "<g id=\"edge50\" class=\"edge\"><title>49&#45;&gt;50</title>\r\n",
       "<path fill=\"none\" stroke=\"black\" d=\"M4363.37,-88.9485C4353.6,-79.6175 4342.97,-69.4722 4333.22,-60.1641\"/>\r\n",
       "<polygon fill=\"black\" stroke=\"black\" points=\"4335.61,-57.6097 4325.96,-53.2367 4330.78,-62.6732 4335.61,-57.6097\"/>\r\n",
       "</g>\r\n",
       "<!-- 51 -->\r\n",
       "<g id=\"node52\" class=\"node\"><title>51</title>\r\n",
       "<path fill=\"#f8dcc9\" stroke=\"black\" d=\"M4585,-53C4585,-53 4417,-53 4417,-53 4411,-53 4405,-47 4405,-41 4405,-41 4405,-12 4405,-12 4405,-6 4411,-0 4417,-0 4417,-0 4585,-0 4585,-0 4591,-0 4597,-6 4597,-12 4597,-12 4597,-41 4597,-41 4597,-47 4591,-53 4585,-53\"/>\r\n",
       "<text text-anchor=\"start\" x=\"4413\" y=\"-37.8\" font-family=\"Helvetica,sans-Serif\" font-size=\"14.00\">squared_error = 13838.531</text>\r\n",
       "<text text-anchor=\"start\" x=\"4461.5\" y=\"-22.8\" font-family=\"Helvetica,sans-Serif\" font-size=\"14.00\">samples = 7</text>\r\n",
       "<text text-anchor=\"start\" x=\"4449.5\" y=\"-7.8\" font-family=\"Helvetica,sans-Serif\" font-size=\"14.00\">value = 204.571</text>\r\n",
       "</g>\r\n",
       "<!-- 49&#45;&gt;51 -->\r\n",
       "<g id=\"edge51\" class=\"edge\"><title>49&#45;&gt;51</title>\r\n",
       "<path fill=\"none\" stroke=\"black\" d=\"M4434.02,-88.9485C4444.19,-79.6175 4455.25,-69.4722 4465.4,-60.1641\"/>\r\n",
       "<polygon fill=\"black\" stroke=\"black\" points=\"4467.95,-62.5762 4472.95,-53.2367 4463.21,-57.4182 4467.95,-62.5762\"/>\r\n",
       "</g>\r\n",
       "<!-- 53 -->\r\n",
       "<g id=\"node54\" class=\"node\"><title>53</title>\r\n",
       "<path fill=\"#e58139\" stroke=\"black\" d=\"M4787,-53C4787,-53 4627,-53 4627,-53 4621,-53 4615,-47 4615,-41 4615,-41 4615,-12 4615,-12 4615,-6 4621,-0 4627,-0 4627,-0 4787,-0 4787,-0 4793,-0 4799,-6 4799,-12 4799,-12 4799,-41 4799,-41 4799,-47 4793,-53 4787,-53\"/>\r\n",
       "<text text-anchor=\"start\" x=\"4623\" y=\"-37.8\" font-family=\"Helvetica,sans-Serif\" font-size=\"14.00\">squared_error = 19094.64</text>\r\n",
       "<text text-anchor=\"start\" x=\"4667.5\" y=\"-22.8\" font-family=\"Helvetica,sans-Serif\" font-size=\"14.00\">samples = 5</text>\r\n",
       "<text text-anchor=\"start\" x=\"4664\" y=\"-7.8\" font-family=\"Helvetica,sans-Serif\" font-size=\"14.00\">value = 672.4</text>\r\n",
       "</g>\r\n",
       "<!-- 52&#45;&gt;53 -->\r\n",
       "<g id=\"edge53\" class=\"edge\"><title>52&#45;&gt;53</title>\r\n",
       "<path fill=\"none\" stroke=\"black\" d=\"M4707,-88.9485C4707,-80.7153 4707,-71.848 4707,-63.4814\"/>\r\n",
       "<polygon fill=\"black\" stroke=\"black\" points=\"4710.5,-63.2367 4707,-53.2367 4703.5,-63.2367 4710.5,-63.2367\"/>\r\n",
       "</g>\r\n",
       "<!-- 54 -->\r\n",
       "<g id=\"node55\" class=\"node\"><title>54</title>\r\n",
       "<path fill=\"#f5cfb4\" stroke=\"black\" d=\"M4981,-53C4981,-53 4829,-53 4829,-53 4823,-53 4817,-47 4817,-41 4817,-41 4817,-12 4817,-12 4817,-6 4823,-0 4829,-0 4829,-0 4981,-0 4981,-0 4987,-0 4993,-6 4993,-12 4993,-12 4993,-41 4993,-41 4993,-47 4987,-53 4981,-53\"/>\r\n",
       "<text text-anchor=\"start\" x=\"4825\" y=\"-37.8\" font-family=\"Helvetica,sans-Serif\" font-size=\"14.00\">squared_error = 8556.25</text>\r\n",
       "<text text-anchor=\"start\" x=\"4865.5\" y=\"-22.8\" font-family=\"Helvetica,sans-Serif\" font-size=\"14.00\">samples = 2</text>\r\n",
       "<text text-anchor=\"start\" x=\"4862\" y=\"-7.8\" font-family=\"Helvetica,sans-Serif\" font-size=\"14.00\">value = 272.5</text>\r\n",
       "</g>\r\n",
       "<!-- 52&#45;&gt;54 -->\r\n",
       "<g id=\"edge54\" class=\"edge\"><title>52&#45;&gt;54</title>\r\n",
       "<path fill=\"none\" stroke=\"black\" d=\"M4776.25,-88.9485C4797.72,-78.7021 4821.25,-67.4737 4842.25,-57.4503\"/>\r\n",
       "<polygon fill=\"black\" stroke=\"black\" points=\"4843.87,-60.5527 4851.39,-53.0867 4840.86,-54.2354 4843.87,-60.5527\"/>\r\n",
       "</g>\r\n",
       "</g>\r\n",
       "</svg>\r\n"
      ],
      "text/plain": [
       "<graphviz.files.Source at 0x15b01c84640>"
      ]
     },
     "execution_count": 42,
     "metadata": {},
     "output_type": "execute_result"
    }
   ],
   "source": [
    "from sklearn.tree import export_graphviz\n",
    "import graphviz\n",
    "\n",
    "tree_dot = export_graphviz(treeModel, out_file=None, feature_names=feature_names,  \n",
    "                         filled=True, rounded=True,  special_characters=True)\n",
    "graph = graphviz.Source(tree_dot) \n",
    "graph"
   ]
  },
  {
   "cell_type": "code",
   "execution_count": 43,
   "id": "d3ee349c-6d7f-4fe7-ad70-1c40177dd043",
   "metadata": {},
   "outputs": [
    {
     "data": {
      "image/png": "[encoded data removed]",
      "text/plain": [
       "<Figure size 720x720 with 1 Axes>"
      ]
     },
     "metadata": {
      "needs_background": "light"
     },
     "output_type": "display_data"
    }
   ],
   "source": [
    "importances = treeModel.feature_importances_\n",
    "importances = importances / np.max(importances)\n",
    "\n",
    "indices = np.argsort(importances)[::-1]\n",
    "\n",
    "plt.figure(figsize=(10,10))\n",
    "plt.barh(range(X_train.shape[1]),importances[indices])\n",
    "plt.yticks(range(X_train.shape[1]),feature_names[indices])\n",
    "plt.show()"
   ]
  },
  {
   "cell_type": "markdown",
   "id": "423bc645-f35a-4910-92cb-f19c4f4632fa",
   "metadata": {},
   "source": [
    "Encontramos que las variables que tienen más peso en el precio son baños por habitación y tipo de habitación y no todas tienen influencia."
   ]
  },
  {
   "cell_type": "markdown",
   "id": "964a4e58-56aa-4778-80ef-63bb353c893a",
   "metadata": {},
   "source": [
    "B) RANDOM FOREST\n",
    "Es mucho más potente, al ensamblar muchos árboles ganamoss mucha precisión pero perdemos en interpretabilidad. Nos da una medida de la importancia de cada variable."
   ]
  },
  {
   "cell_type": "code",
   "execution_count": 44,
   "id": "3f8f896a-7b26-434c-a83f-f18a848af7dc",
   "metadata": {},
   "outputs": [
    {
     "name": "stdout",
     "output_type": "stream",
     "text": [
      "Fitting 5 folds for each of 14 candidates, totalling 70 fits\n",
      "[CV] END ........................................max_depth=1; total time=   0.2s\n",
      "[CV] END ........................................max_depth=1; total time=   0.2s\n",
      "[CV] END ........................................max_depth=1; total time=   0.2s\n",
      "[CV] END ........................................max_depth=1; total time=   0.2s\n",
      "[CV] END ........................................max_depth=1; total time=   0.2s\n",
      "[CV] END ........................................max_depth=2; total time=   0.3s\n",
      "[CV] END ........................................max_depth=2; total time=   0.3s\n",
      "[CV] END ........................................max_depth=2; total time=   0.3s\n",
      "[CV] END ........................................max_depth=2; total time=   0.3s\n",
      "[CV] END ........................................max_depth=2; total time=   0.3s\n",
      "[CV] END ........................................max_depth=3; total time=   0.4s\n",
      "[CV] END ........................................max_depth=3; total time=   0.4s\n",
      "[CV] END ........................................max_depth=3; total time=   0.4s\n",
      "[CV] END ........................................max_depth=3; total time=   0.4s\n",
      "[CV] END ........................................max_depth=3; total time=   0.4s\n",
      "[CV] END ........................................max_depth=4; total time=   0.5s\n",
      "[CV] END ........................................max_depth=4; total time=   0.4s\n",
      "[CV] END ........................................max_depth=4; total time=   0.4s\n",
      "[CV] END ........................................max_depth=4; total time=   0.5s\n",
      "[CV] END ........................................max_depth=4; total time=   0.5s\n",
      "[CV] END ........................................max_depth=5; total time=   0.5s\n",
      "[CV] END ........................................max_depth=5; total time=   0.5s\n",
      "[CV] END ........................................max_depth=5; total time=   0.5s\n",
      "[CV] END ........................................max_depth=5; total time=   0.5s\n",
      "[CV] END ........................................max_depth=5; total time=   0.5s\n",
      "[CV] END ........................................max_depth=6; total time=   0.6s\n",
      "[CV] END ........................................max_depth=6; total time=   0.6s\n",
      "[CV] END ........................................max_depth=6; total time=   0.6s\n",
      "[CV] END ........................................max_depth=6; total time=   0.6s\n",
      "[CV] END ........................................max_depth=6; total time=   0.6s\n",
      "[CV] END ........................................max_depth=7; total time=   0.7s\n",
      "[CV] END ........................................max_depth=7; total time=   0.7s\n",
      "[CV] END ........................................max_depth=7; total time=   0.6s\n",
      "[CV] END ........................................max_depth=7; total time=   0.7s\n",
      "[CV] END ........................................max_depth=7; total time=   0.7s\n",
      "[CV] END ........................................max_depth=8; total time=   0.8s\n",
      "[CV] END ........................................max_depth=8; total time=   0.7s\n",
      "[CV] END ........................................max_depth=8; total time=   0.8s\n",
      "[CV] END ........................................max_depth=8; total time=   0.7s\n",
      "[CV] END ........................................max_depth=8; total time=   0.8s\n",
      "[CV] END ........................................max_depth=9; total time=   0.8s\n",
      "[CV] END ........................................max_depth=9; total time=   0.8s\n",
      "[CV] END ........................................max_depth=9; total time=   0.8s\n",
      "[CV] END ........................................max_depth=9; total time=   0.8s\n",
      "[CV] END ........................................max_depth=9; total time=   0.8s\n",
      "[CV] END .......................................max_depth=10; total time=   0.9s\n",
      "[CV] END .......................................max_depth=10; total time=   1.0s\n",
      "[CV] END .......................................max_depth=10; total time=   1.0s\n",
      "[CV] END .......................................max_depth=10; total time=   0.9s\n",
      "[CV] END .......................................max_depth=10; total time=   1.0s\n",
      "[CV] END .......................................max_depth=11; total time=   1.0s\n",
      "[CV] END .......................................max_depth=11; total time=   1.0s\n",
      "[CV] END .......................................max_depth=11; total time=   1.0s\n",
      "[CV] END .......................................max_depth=11; total time=   1.0s\n",
      "[CV] END .......................................max_depth=11; total time=   1.0s\n",
      "[CV] END .......................................max_depth=12; total time=   1.1s\n",
      "[CV] END .......................................max_depth=12; total time=   1.1s\n",
      "[CV] END .......................................max_depth=12; total time=   1.1s\n",
      "[CV] END .......................................max_depth=12; total time=   1.1s\n",
      "[CV] END .......................................max_depth=12; total time=   1.1s\n",
      "[CV] END .......................................max_depth=13; total time=   1.2s\n",
      "[CV] END .......................................max_depth=13; total time=   1.2s\n",
      "[CV] END .......................................max_depth=13; total time=   1.2s\n",
      "[CV] END .......................................max_depth=13; total time=   1.2s\n",
      "[CV] END .......................................max_depth=13; total time=   1.2s\n",
      "[CV] END .......................................max_depth=14; total time=   1.3s\n",
      "[CV] END .......................................max_depth=14; total time=   1.3s\n",
      "[CV] END .......................................max_depth=14; total time=   1.3s\n",
      "[CV] END .......................................max_depth=14; total time=   1.3s\n",
      "[CV] END .......................................max_depth=14; total time=   1.3s\n",
      "best mean cross-validation score: 0.593\n",
      "best parameters: {'max_depth': 14}\n"
     ]
    },
    {
     "data": {
      "image/png": "[encoded data removed]",
      "text/plain": [
       "<Figure size 432x288 with 1 Axes>"
      ]
     },
     "metadata": {
      "needs_background": "light"
     },
     "output_type": "display_data"
    }
   ],
   "source": [
    "#CREACION Y ENTRENAMIENTO DEL MODELO\n",
    "\n",
    "from sklearn.ensemble import RandomForestRegressor\n",
    "\n",
    "# grid search\n",
    "maxDepth = range(1,15)\n",
    "tuned_parameters = {'max_depth': maxDepth} #  {'max_depth': maxDepth, 'n_estimators': [100, 200, 500, 1000]}\n",
    "\n",
    "grid = GridSearchCV(RandomForestRegressor(random_state=0, n_estimators=200, max_features='sqrt'), \n",
    "                    param_grid=tuned_parameters,cv=5, verbose=2) \n",
    "grid.fit(X_train, y_train)\n",
    "\n",
    "print(\"best mean cross-validation score: {:.3f}\".format(grid.best_score_))\n",
    "print(\"best parameters: {}\".format(grid.best_params_))\n",
    "\n",
    "scores = np.array(grid.cv_results_['mean_test_score'])\n",
    "plt.plot(maxDepth,scores,'-o')\n",
    "plt.xlabel('max_depth')\n",
    "plt.ylabel('10-fold ACC')\n",
    "\n",
    "plt.show()"
   ]
  },
  {
   "cell_type": "markdown",
   "id": "efa883e6-bad8-4c31-9415-063565242560",
   "metadata": {},
   "source": [
    "Encontramos el máximo en 14 pero el MSE de 12 es practicamente igual, asi que elegimos 12."
   ]
  },
  {
   "cell_type": "code",
   "execution_count": 47,
   "id": "871cfe2a-c31d-4eac-b75f-04ca8e13f202",
   "metadata": {},
   "outputs": [
    {
     "name": "stdout",
     "output_type": "stream",
     "text": [
      "Train:  0.796834203057842\n",
      "Test:  -1.0209771536019168\n"
     ]
    }
   ],
   "source": [
    "maxDepthOptimo = 12 #grid.best_params_['max_depth']\n",
    "bagModel = RandomForestRegressor(max_depth=maxDepthOptimo,n_estimators=200,max_features='sqrt').fit(X_train,y_train)\n",
    "\n",
    "print(\"Train: \",bagModel.score(X_train,y_train))\n",
    "print(\"Test: \",bagModel.score(X_test,y_test))"
   ]
  },
  {
   "cell_type": "markdown",
   "id": "6617f0f3-42be-48fe-91f0-b58a01056b33",
   "metadata": {},
   "source": [
    "Obtenemos mejores resultados, pero de nuevo test es negativo!!!!!"
   ]
  },
  {
   "cell_type": "code",
   "execution_count": 48,
   "id": "f1540ce6-5670-43cd-ad80-ede9414d9898",
   "metadata": {},
   "outputs": [
    {
     "data": {
      "image/png": "[encoded data removed]",
      "text/plain": [
       "<Figure size 720x720 with 1 Axes>"
      ]
     },
     "metadata": {
      "needs_background": "light"
     },
     "output_type": "display_data"
    }
   ],
   "source": [
    "#CARACTERISTICAS MAS RELEVANTES\n",
    "\n",
    "importances = bagModel.feature_importances_\n",
    "importances = importances / np.max(importances)\n",
    "\n",
    "indices = np.argsort(importances)[::-1]\n",
    "\n",
    "plt.figure(figsize=(10,10))\n",
    "plt.barh(range(X_train.shape[1]),importances[indices])\n",
    "plt.yticks(range(X_train.shape[1]),feature_names[indices])\n",
    "plt.show()"
   ]
  },
  {
   "cell_type": "markdown",
   "id": "67433f33-267a-4382-8788-6b6d2766672f",
   "metadata": {},
   "source": [
    "Aqui podemos ver que todas las varibles influyen."
   ]
  },
  {
   "cell_type": "code",
   "execution_count": 49,
   "id": "235fd32d-fdc1-4fbc-89d7-a4deecbdc08d",
   "metadata": {},
   "outputs": [
    {
     "name": "stdout",
     "output_type": "stream",
     "text": [
      "# features 1 error 0.669363531512251 +/- 0.025474006591509585\n",
      "# features 2 error 0.5393020259505156 +/- 0.0377617302235356\n",
      "# features 3 error 0.5089866148247794 +/- 0.03414096425812175\n",
      "# features 4 error 0.5155940823356595 +/- 0.021210723756162474\n",
      "# features 5 error 0.5117677987894171 +/- 0.025909585384079736\n",
      "# features 6 error 0.5078475329279882 +/- 0.02826489175939999\n",
      "# features 7 error 0.4811943220023152 +/- 0.04802108041619061\n",
      "# features 8 error 0.46157119028849236 +/- 0.04711683410229373\n",
      "# features 9 error 0.4618118704304391 +/- 0.05105777615598969\n",
      "# features 10 error 0.44094901671615494 +/- 0.05581651926969189\n",
      "# features 11 error 0.4266632757447719 +/- 0.050530188630176255\n",
      "# features 12 error 0.42418390259350663 +/- 0.046935494865129976\n",
      "# features 13 error 0.41888358832808875 +/- 0.04402039806207702\n",
      "# features 14 error 0.4156355412245067 +/- 0.04092240715598088\n",
      "# features 15 error 0.4167704013273081 +/- 0.04365122865177528\n"
     ]
    }
   ],
   "source": [
    "#HAGO SELECCION DE CARACTERISTICAS\n",
    "\n",
    "from sklearn.model_selection import KFold\n",
    "\n",
    "N,Nfeatures = X_train.shape\n",
    "\n",
    "rf = RandomForestRegressor(max_depth=maxDepthOptimo,n_estimators=200,max_features='sqrt')\n",
    "kf  = KFold(n_splits=10, shuffle = True, random_state=1)\n",
    "cv_error = []\n",
    "cv_std = []\n",
    "\n",
    "for nfeatures in range(Nfeatures,0,-1):\n",
    "        \n",
    "    error_i = []\n",
    "    \n",
    "    for idxTrain, idxVal in kf.split(X_train):\n",
    "        \n",
    "        Xt = X_train[idxTrain,:]\n",
    "        yt = y_train[idxTrain]\n",
    "        Xv = X_train[idxVal,:]\n",
    "        yv = y_train[idxVal]\n",
    "        \n",
    "        rf.fit(Xt,yt)\n",
    "        \n",
    "        ranking = rf.feature_importances_\n",
    "        indices = np.argsort(ranking)[::-1] \n",
    "    \n",
    "        selected = indices[0:(Nfeatures-nfeatures+1)]\n",
    "        \n",
    "        Xs = Xt[:,selected]\n",
    "        \n",
    "        rf.fit(Xs,yt)\n",
    "        error = (1.0-rf.score(Xv[:,selected],yv))     \n",
    "        error_i.append(error) \n",
    "    \n",
    "    cv_error.append(np.mean(error_i))\n",
    "    cv_std.append(np.std(error_i))\n",
    "    \n",
    "    print('# features ' + str(len(selected)) + ' error ' + str(np.mean(error_i)) + ' +/- ' + str(np.std(error_i)))"
   ]
  },
  {
   "cell_type": "code",
   "execution_count": 50,
   "id": "d99090eb-e178-4eae-88ba-88aafc319bf7",
   "metadata": {},
   "outputs": [],
   "source": [
    "#BUSQUEDA DE PARAMETROS LIBRES\n",
    "\n",
    "from sklearn.model_selection import TimeSeriesSplit, GridSearchCV\n",
    "from sklearn.linear_model import Lasso\n",
    "\n",
    "tscv = TimeSeriesSplit(n_splits=3)\n",
    "\n",
    "alpha_vector = np.logspace(-4,4,20)\n",
    "param_grid = {'alpha': alpha_vector}\n",
    "\n",
    "grid = GridSearchCV(Lasso(), param_grid=param_grid, cv = tscv.split(X_train)).fit(X_train, y_train)"
   ]
  },
  {
   "cell_type": "code",
   "execution_count": 51,
   "id": "9d65c005-7e13-438d-bc51-21358cba8c0d",
   "metadata": {},
   "outputs": [
    {
     "name": "stdout",
     "output_type": "stream",
     "text": [
      "best mean cross-validation score: -0.498\n",
      "best parameters: {'alpha': 0.004832930238571752}\n"
     ]
    },
    {
     "data": {
      "image/png": "[encoded data removed]",
      "text/plain": [
       "<Figure size 432x288 with 1 Axes>"
      ]
     },
     "metadata": {
      "needs_background": "light"
     },
     "output_type": "display_data"
    }
   ],
   "source": [
    "print(\"best mean cross-validation score: {:.3f}\".format(-1*grid.best_score_))\n",
    "print(\"best parameters: {}\".format(grid.best_params_))\n",
    "\n",
    "scores = grid.cv_results_['mean_test_score']\n",
    "std_scores = grid.cv_results_['std_test_score']\n",
    "plt.errorbar(np.log10(alpha_vector),scores,yerr=std_scores, fmt='o-',ecolor='g')\n",
    "plt.xlabel('log(alpha)',fontsize=16)\n",
    "plt.ylabel('CV MSE')\n",
    "plt.grid()\n",
    "plt.show()"
   ]
  },
  {
   "cell_type": "code",
   "execution_count": 52,
   "id": "031aad7e-b0a8-45dc-90bc-0dc1d5bae8c2",
   "metadata": {},
   "outputs": [
    {
     "name": "stdout",
     "output_type": "stream",
     "text": [
      "MSE Modelo Lasso (train): 1.53e+03\n",
      "MSE Modelo Lasso (test) : 2.41e+07\n",
      "RMSE Modelo Lasso (train): 39.1\n",
      "RMSE Modelo Lasso (test) : 4.91e+03\n",
      "Zipcode 0.00584596363762939\n",
      "Latitude -0.4357000638299947\n",
      "Longitude 113.34426476890451\n",
      "Property Type 11.936443820164891\n",
      "Room Type 0.10103419225966244\n",
      "Accommodates -29.725979637396463\n",
      "Bathrooms 5.917002225203204\n",
      "Bedrooms -12.3491034109852\n",
      "Price 2.0292478504211657\n",
      "Guests Included 0.10913541598882961\n",
      "Extra People -0.2173807473400688\n",
      "Review Scores Rating 0.28100347477029775\n",
      "Cancellation Policy -0.4237344842818253\n",
      "bedrooms_squared -4.45704616935423\n",
      "bed_bath_rooms 18.81217136286666\n"
     ]
    }
   ],
   "source": [
    "#METRICAS EN TEST\n",
    "\n",
    "from sklearn.metrics import mean_squared_error\n",
    "\n",
    "alpha_optimo = grid.best_params_['alpha']\n",
    "lasso = Lasso(alpha = alpha_optimo).fit(X_train,y_train)\n",
    "\n",
    "ytrainLasso = lasso.predict(X_train)\n",
    "ytestLasso  = lasso.predict(X_test)\n",
    "\n",
    "mseTrainModelLasso = mean_squared_error(y_train,ytrainLasso)\n",
    "mseTestModelLasso = mean_squared_error(y_test,ytestLasso)\n",
    "\n",
    "print('MSE Modelo Lasso (train): %0.3g' % mseTrainModelLasso)\n",
    "print('MSE Modelo Lasso (test) : %0.3g' % mseTestModelLasso)\n",
    "\n",
    "print('RMSE Modelo Lasso (train): %0.3g' % np.sqrt(mseTrainModelLasso))\n",
    "print('RMSE Modelo Lasso (test) : %0.3g' % np.sqrt(mseTestModelLasso))\n",
    "\n",
    "w = lasso.coef_\n",
    "for f,wi in zip(feature_names_test,w):\n",
    "    print(f,wi)"
   ]
  },
  {
   "cell_type": "code",
   "execution_count": null,
   "id": "1638a551-9d2b-44ca-bcbd-4fea802b32ca",
   "metadata": {},
   "outputs": [],
   "source": [
    "Con Lasso , mejoramoss el overfiting al disminuir la complejidad."
   ]
  },
  {
   "cell_type": "markdown",
   "id": "9d8eae3c-cb65-4c1e-a374-f4b173201035",
   "metadata": {},
   "source": [
    "C)BAGGING REGRESSOR"
   ]
  },
  {
   "cell_type": "code",
   "execution_count": 53,
   "id": "fbbbf04d-5162-42eb-a862-159cb962ba7b",
   "metadata": {},
   "outputs": [
    {
     "name": "stdout",
     "output_type": "stream",
     "text": [
      "Fitting 5 folds for each of 14 candidates, totalling 70 fits\n",
      "[CV] END ........................base_estimator__max_depth=1; total time=   0.7s\n",
      "[CV] END ........................base_estimator__max_depth=1; total time=   0.7s\n",
      "[CV] END ........................base_estimator__max_depth=1; total time=   0.6s\n",
      "[CV] END ........................base_estimator__max_depth=1; total time=   0.6s\n",
      "[CV] END ........................base_estimator__max_depth=1; total time=   0.6s\n",
      "[CV] END ........................base_estimator__max_depth=2; total time=   1.0s\n",
      "[CV] END ........................base_estimator__max_depth=2; total time=   1.0s\n",
      "[CV] END ........................base_estimator__max_depth=2; total time=   1.0s\n",
      "[CV] END ........................base_estimator__max_depth=2; total time=   1.0s\n",
      "[CV] END ........................base_estimator__max_depth=2; total time=   1.0s\n",
      "[CV] END ........................base_estimator__max_depth=3; total time=   1.3s\n",
      "[CV] END ........................base_estimator__max_depth=3; total time=   1.3s\n",
      "[CV] END ........................base_estimator__max_depth=3; total time=   1.3s\n",
      "[CV] END ........................base_estimator__max_depth=3; total time=   1.3s\n",
      "[CV] END ........................base_estimator__max_depth=3; total time=   1.3s\n",
      "[CV] END ........................base_estimator__max_depth=4; total time=   1.7s\n",
      "[CV] END ........................base_estimator__max_depth=4; total time=   1.7s\n",
      "[CV] END ........................base_estimator__max_depth=4; total time=   1.7s\n",
      "[CV] END ........................base_estimator__max_depth=4; total time=   1.6s\n",
      "[CV] END ........................base_estimator__max_depth=4; total time=   1.7s\n",
      "[CV] END ........................base_estimator__max_depth=5; total time=   2.0s\n",
      "[CV] END ........................base_estimator__max_depth=5; total time=   2.0s\n",
      "[CV] END ........................base_estimator__max_depth=5; total time=   2.1s\n",
      "[CV] END ........................base_estimator__max_depth=5; total time=   2.1s\n",
      "[CV] END ........................base_estimator__max_depth=5; total time=   2.1s\n",
      "[CV] END ........................base_estimator__max_depth=6; total time=   2.4s\n",
      "[CV] END ........................base_estimator__max_depth=6; total time=   2.4s\n",
      "[CV] END ........................base_estimator__max_depth=6; total time=   2.4s\n",
      "[CV] END ........................base_estimator__max_depth=6; total time=   2.4s\n",
      "[CV] END ........................base_estimator__max_depth=6; total time=   2.4s\n",
      "[CV] END ........................base_estimator__max_depth=7; total time=   2.8s\n",
      "[CV] END ........................base_estimator__max_depth=7; total time=   2.7s\n",
      "[CV] END ........................base_estimator__max_depth=7; total time=   2.6s\n",
      "[CV] END ........................base_estimator__max_depth=7; total time=   2.6s\n",
      "[CV] END ........................base_estimator__max_depth=7; total time=   2.7s\n",
      "[CV] END ........................base_estimator__max_depth=8; total time=   2.9s\n",
      "[CV] END ........................base_estimator__max_depth=8; total time=   3.0s\n",
      "[CV] END ........................base_estimator__max_depth=8; total time=   3.0s\n",
      "[CV] END ........................base_estimator__max_depth=8; total time=   3.1s\n",
      "[CV] END ........................base_estimator__max_depth=8; total time=   3.2s\n",
      "[CV] END ........................base_estimator__max_depth=9; total time=   3.4s\n",
      "[CV] END ........................base_estimator__max_depth=9; total time=   3.4s\n",
      "[CV] END ........................base_estimator__max_depth=9; total time=   3.4s\n",
      "[CV] END ........................base_estimator__max_depth=9; total time=   3.4s\n",
      "[CV] END ........................base_estimator__max_depth=9; total time=   3.4s\n",
      "[CV] END .......................base_estimator__max_depth=10; total time=   3.7s\n",
      "[CV] END .......................base_estimator__max_depth=10; total time=   3.7s\n",
      "[CV] END .......................base_estimator__max_depth=10; total time=   3.7s\n",
      "[CV] END .......................base_estimator__max_depth=10; total time=   3.7s\n",
      "[CV] END .......................base_estimator__max_depth=10; total time=   3.8s\n",
      "[CV] END .......................base_estimator__max_depth=11; total time=   4.0s\n",
      "[CV] END .......................base_estimator__max_depth=11; total time=   4.1s\n",
      "[CV] END .......................base_estimator__max_depth=11; total time=   4.0s\n",
      "[CV] END .......................base_estimator__max_depth=11; total time=   4.1s\n",
      "[CV] END .......................base_estimator__max_depth=11; total time=   4.1s\n",
      "[CV] END .......................base_estimator__max_depth=12; total time=   4.3s\n",
      "[CV] END .......................base_estimator__max_depth=12; total time=   4.8s\n",
      "[CV] END .......................base_estimator__max_depth=12; total time=   4.5s\n",
      "[CV] END .......................base_estimator__max_depth=12; total time=   4.4s\n",
      "[CV] END .......................base_estimator__max_depth=12; total time=   4.5s\n",
      "[CV] END .......................base_estimator__max_depth=13; total time=   4.8s\n",
      "[CV] END .......................base_estimator__max_depth=13; total time=   4.6s\n",
      "[CV] END .......................base_estimator__max_depth=13; total time=   4.6s\n",
      "[CV] END .......................base_estimator__max_depth=13; total time=   4.7s\n",
      "[CV] END .......................base_estimator__max_depth=13; total time=   4.8s\n",
      "[CV] END .......................base_estimator__max_depth=14; total time=   5.1s\n",
      "[CV] END .......................base_estimator__max_depth=14; total time=   4.9s\n",
      "[CV] END .......................base_estimator__max_depth=14; total time=   5.2s\n",
      "[CV] END .......................base_estimator__max_depth=14; total time=   5.2s\n",
      "[CV] END .......................base_estimator__max_depth=14; total time=   5.0s\n",
      "best mean cross-validation score: 0.591\n",
      "best parameters: {'base_estimator__max_depth': 13}\n"
     ]
    },
    {
     "data": {
      "image/png": "[encoded data removed]",
      "text/plain": [
       "<Figure size 432x288 with 1 Axes>"
      ]
     },
     "metadata": {
      "needs_background": "light"
     },
     "output_type": "display_data"
    }
   ],
   "source": [
    "#CREACION Y ENTRENAMIENTO DEL MODELO\n",
    "\n",
    "from sklearn.ensemble import BaggingRegressor\n",
    "from sklearn.model_selection import GridSearchCV\n",
    "from sklearn.tree import DecisionTreeRegressor\n",
    "\n",
    "# grid search\n",
    "maxDepth = range(1,15)\n",
    "tuned_parameters = {'base_estimator__max_depth': maxDepth} #  {'max_depth': maxDepth, 'n_estimators': [100, 200, 500, 1000]}\n",
    "\n",
    "grid = GridSearchCV(BaggingRegressor(base_estimator=DecisionTreeRegressor(), random_state=0, n_estimators=200), param_grid=tuned_parameters,cv=5, verbose=2) \n",
    "grid.fit(X_train, y_train)\n",
    "\n",
    "print(\"best mean cross-validation score: {:.3f}\".format(grid.best_score_))\n",
    "print(\"best parameters: {}\".format(grid.best_params_))\n",
    "\n",
    "scores = np.array(grid.cv_results_['mean_test_score'])\n",
    "plt.plot(maxDepth,scores,'-o')\n",
    "plt.xlabel('max_depth')\n",
    "plt.ylabel('10-fold ACC')\n",
    "\n",
    "plt.show()"
   ]
  },
  {
   "cell_type": "markdown",
   "id": "4d4a60db-25d4-4c24-b611-ff4b63a86825",
   "metadata": {},
   "source": [
    "El máximo valor aparece en 13, pero 11-12-13 es practicamente el mismo, así que nos quedamos con 11."
   ]
  },
  {
   "cell_type": "code",
   "execution_count": 54,
   "id": "4e508d43-da8b-4489-89b0-cbe458959841",
   "metadata": {},
   "outputs": [
    {
     "name": "stdout",
     "output_type": "stream",
     "text": [
      "Train:  0.806455646083805\n",
      "Test:  -2.2510424915617144\n"
     ]
    }
   ],
   "source": [
    "maxDepthOptimo = 11#grid.best_params_['max_depth']\n",
    "bagModel = BaggingRegressor(base_estimator=DecisionTreeRegressor(max_depth=maxDepthOptimo),n_estimators=200).fit(X_train,y_train)\n",
    "\n",
    "print(\"Train: \",bagModel.score(X_train,y_train))\n",
    "print(\"Test: \",bagModel.score(X_test,y_test))"
   ]
  },
  {
   "cell_type": "markdown",
   "id": "f67e4a64-7ca9-4de9-84c4-9cefb288ea4d",
   "metadata": {},
   "source": [
    "CONCLUSIONES: Podemos concluir que son malos modelos pues los valores de train y de test son muy distintos, incluso los de test son negativos!!!!Lo podemos achacar a un fuerte Overfiting.\n",
    "¿Podriamos haber utilizado el método de filtrado f_regression?"
   ]
  }
 ],
 "metadata": {
  "kernelspec": {
   "display_name": "Python 3 (ipykernel)",
   "language": "python",
   "name": "python3"
  },
  "language_info": {
   "codemirror_mode": {
    "name": "ipython",
    "version": 3
   },
   "file_extension": ".py",
   "mimetype": "text/x-python",
   "name": "python",
   "nbconvert_exporter": "python",
   "pygments_lexer": "ipython3",
   "version": "3.9.12"
  }
 },
 "nbformat": 4,
 "nbformat_minor": 5
}
